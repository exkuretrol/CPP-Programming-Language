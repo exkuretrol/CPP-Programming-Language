{
 "cells": [
  {
   "cell_type": "markdown",
   "id": "4a9f4d28-e1c2-44e7-9cf1-f7e4f6e14e8b",
   "metadata": {},
   "source": [
    "```\n",
    "352.4 setprecision(5)          ---> 352.40\n",
    "      fixed << setprecision(5) ---> 352.40000\n",
    "```"
   ]
  },
  {
   "cell_type": "code",
   "execution_count": null,
   "id": "1b765726-19cc-4fe0-8b77-9cd25f5c0b0f",
   "metadata": {},
   "outputs": [],
   "source": [
    "FILE *fp = fopen(\"finout.txt\", \"w\");\n",
    "fprintf(fp, \"%.5lf %.5lf %.5lf %.5lf\", a, b, c, d); "
   ]
  }
 ],
 "metadata": {
  "kernelspec": {
   "display_name": "C++14",
   "language": "C++14",
   "name": "xcpp14"
  },
  "language_info": {
   "codemirror_mode": "text/x-c++src",
   "file_extension": ".cpp",
   "mimetype": "text/x-c++src",
   "name": "c++",
   "version": "14"
  }
 },
 "nbformat": 4,
 "nbformat_minor": 5
}
