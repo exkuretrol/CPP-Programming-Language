{
 "cells": [
  {
   "cell_type": "markdown",
   "id": "6c0bc000-ba58-4b43-946c-b2559d3496c1",
   "metadata": {},
   "source": [
    "### Sample Input"
   ]
  },
  {
   "cell_type": "markdown",
   "id": "41be982b-3ce4-4c61-8db6-d7cfedece16a",
   "metadata": {},
   "source": [
    "### Sample Output\n"
   ]
  },
  {
   "cell_type": "code",
   "execution_count": null,
   "id": "02d0df2a-74ae-4e45-9245-191aac4beb05",
   "metadata": {},
   "outputs": [],
   "source": [
    "#include <iostream>\n",
    "#include <algorithm>\n",
    "#include <vector>\n",
    "using namespace std;\n",
    "\n",
    "int main()\n",
    "{\n",
    "        vector<int> v;\n",
    "        int n;\n",
    "        \n",
    "        while (cin >> n)\n",
    "        {\n",
    "                v.push_back(n);\n",
    "                sort(v.begin(), v.end());\n",
    "                int l = v.size();\n",
    "                int m;\n",
    "                if (l % 2)\n",
    "                {\n",
    "                        m = (1 + l) / 2 - 1;\n",
    "                        cout << v[m] << endl;\n",
    "                }\n",
    "                else\n",
    "                {\n",
    "                        m = l / 2 - 1;\n",
    "                        cout << (v[m] + v[m + 1]) / 2 << endl;\n",
    "                }\n",
    "        }\n",
    "\n",
    "}"
   ]
  }
 ],
 "metadata": {
  "kernelspec": {
   "display_name": "C++14",
   "language": "C++14",
   "name": "xcpp14"
  },
  "language_info": {
   "codemirror_mode": "text/x-c++src",
   "file_extension": ".cpp",
   "mimetype": "text/x-c++src",
   "name": "c++",
   "version": "14"
  }
 },
 "nbformat": 4,
 "nbformat_minor": 5
}
