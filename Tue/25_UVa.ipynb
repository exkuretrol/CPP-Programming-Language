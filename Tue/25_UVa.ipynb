{
 "cells": [
  {
   "cell_type": "markdown",
   "id": "3681892c-c4f2-4fa0-b5b2-43686770bcd8",
   "metadata": {},
   "source": [
    "```cpp\n",
    "#include <iostream>\n",
    "#include <vector>\n",
    "#include <algorithm>\n",
    "using namespace std;\n",
    "\n",
    "int main()\n",
    "{\n",
    "    int n;\n",
    "    while (cin >> n)\n",
    "    {\n",
    "        vector<int> a(n); for(auto &v : a) cin >> v;\n",
    "        sort(a.begin(), a.end());\n",
    "        int w = aa[a.size() / 2];\n",
    "        int sum = 0;\n",
    "        for (auto &v : a) sum += abs(v - w);\n",
    "        cout << sum << endl;\n",
    "    }\n",
    "}\n",
    "```"
   ]
  },
  {
   "cell_type": "code",
   "execution_count": null,
   "id": "f9695ede-726b-40fd-8cca-880297d87a84",
   "metadata": {},
   "outputs": [],
   "source": []
  }
 ],
 "metadata": {
  "kernelspec": {
   "display_name": "C++11",
   "language": "C++11",
   "name": "xcpp11"
  },
  "language_info": {
   "codemirror_mode": "text/x-c++src",
   "file_extension": ".cpp",
   "mimetype": "text/x-c++src",
   "name": "c++",
   "version": "11"
  }
 },
 "nbformat": 4,
 "nbformat_minor": 5
}
