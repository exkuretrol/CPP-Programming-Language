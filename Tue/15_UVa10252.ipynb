{
 "cells": [
  {
   "cell_type": "markdown",
   "id": "b93004bd-7cb6-4bfa-96b7-2b942f4b19dd",
   "metadata": {},
   "source": [
    "### Input\n",
    "Input file contains several lines of input. Consecutive two lines make a set of input. That means in the input fiel line 1 and 2 is a set of input, line 3 and 4 is a set of input and so on. The first line of a pair contains a and the second contains b. Each string is on a separate line and consists of at most 1000 lowercase letters.\n",
    "\n",
    "### Output \n",
    "For each set of input, output a line contains x. If several x satisfy the criteria above, choose the first on in alphabetical order.\n",
    "\n",
    "### Sample Input\n",
    "```\n",
    "pretty\n",
    "women\n",
    "walking\n",
    "down\n",
    "the\n",
    "street\n",
    "```\n",
    "\n",
    "### Sample Output\n",
    "```\n",
    "e\n",
    "nw\n",
    "et\n",
    "```\n"
   ]
  },
  {
   "cell_type": "markdown",
   "id": "c1daa8fe-9537-4499-90c9-fb28667a0db8",
   "metadata": {},
   "source": [
    "```cpp\n",
    "#include <iostream>\n",
    "#include <sting>\n",
    "\n",
    "using namespace std;\n",
    "int main()\n",
    "{\n",
    "    string a, b;\n",
    "    while (getline(cin, a) && getline (cin, b))\n",
    "    {\n",
    "        int fa[256] = {};\n",
    "        for (auto &c : a) fa[c]++;\n",
    "        int fb[256] = {};\n",
    "        for (auto &c : b) fb[c]++;\n",
    "        for (int k = 0; k < 256; k++)\n",
    "        {\n",
    "            if (isalpha(k) == 0) continue;\n",
    "            int m = min(fa[k], fb[k]);\n",
    "            cout << string(m, k);\n",
    "        }\n",
    "        cout << endl;\n",
    "    }\n",
    "}\n",
    "```"
   ]
  }
 ],
 "metadata": {
  "kernelspec": {
   "display_name": "C++11",
   "language": "C++11",
   "name": "xcpp11"
  },
  "language_info": {
   "codemirror_mode": "text/x-c++src",
   "file_extension": ".cpp",
   "mimetype": "text/x-c++src",
   "name": "c++",
   "version": "11"
  }
 },
 "nbformat": 4,
 "nbformat_minor": 5
}
