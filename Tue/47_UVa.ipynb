{
 "cells": [
  {
   "cell_type": "markdown",
   "id": "b7978f14-84e8-4289-a6ca-b201119fe9ff",
   "metadata": {},
   "source": [
    "```cpp\n",
    "#include <iostream>\n",
    "#include <algorithm>\n",
    "#include <vector>\n",
    "using namespace std;\n",
    "\n",
    "int main()\n",
    "{\n",
    "    int n, qs;\n",
    "    cin >> n;\n",
    "    string ds = \"0123456789ABCDEFGHIJKLMNOPQRSTUVWXYZ\";\n",
    "    while (n--)\n",
    "    {\n",
    "        vector<int> a(36);\n",
    "        for (auto &v : a) cin >> v;\n",
    "        cin >> qs;\n",
    "        while (qs--)\n",
    "        {\n",
    "            int v, low = INT_MAX;\n",
    "            vector<int> ms;\n",
    "            cin >> v;\n",
    "            for (int m = 2; m <= 36; m++)\n",
    "            {\n",
    "                int sum = 0;\n",
    "                int u = v;\n",
    "                while (u) sum += a[u % m], u /= m;\n",
    "                if (sum == low) ms.push_back(m);\n",
    "                else if (sum < low)\n",
    "                {\n",
    "                    low = sum;\n",
    "                    ms.clear();\n",
    "                    ms.push_back(m);\n",
    "                }\n",
    "                for (auto &v : ms) cout << v << \" \" << endl;\n",
    "            }\n",
    "        }\n",
    "    }\n",
    "}\n",
    "```"
   ]
  },
  {
   "cell_type": "code",
   "execution_count": null,
   "id": "92ceb491-f31e-465a-8ac1-076a73a52cac",
   "metadata": {},
   "outputs": [],
   "source": []
  }
 ],
 "metadata": {
  "kernelspec": {
   "display_name": "C++11",
   "language": "C++11",
   "name": "xcpp11"
  },
  "language_info": {
   "codemirror_mode": "text/x-c++src",
   "file_extension": ".cpp",
   "mimetype": "text/x-c++src",
   "name": "c++",
   "version": "11"
  }
 },
 "nbformat": 4,
 "nbformat_minor": 5
}
