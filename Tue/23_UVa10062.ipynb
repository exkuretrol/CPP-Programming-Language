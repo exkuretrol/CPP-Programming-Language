{
 "cells": [
  {
   "cell_type": "markdown",
   "id": "41c8c531-d685-4294-bd8a-bdd0748331be",
   "metadata": {},
   "source": [
    "```cpp\n",
    "#include <iostream>\n",
    "using namespace std;\n",
    "\n",
    "int main()\n",
    "{\n",
    "    string s;\n",
    "    int pd = 0;\n",
    "    while (getline(cin, s))\n",
    "    {\n",
    "        if (pd++) cout << endl;\n",
    "        int f[256] = {};\n",
    "        for (auto &c : s) f[c]++;\n",
    "        for (int c = 1; c <= s.size(); c++)\n",
    "        {\n",
    "            for (int k = 127; k >= 32; k--)\n",
    "            {\n",
    "                if (f[k] == c) cout << k << \" \" << c;\n",
    "            }\n",
    "        }\n",
    "    }\n",
    "}\n",
    "```"
   ]
  }
 ],
 "metadata": {
  "kernelspec": {
   "display_name": "C++11",
   "language": "C++11",
   "name": "xcpp11"
  },
  "language_info": {
   "codemirror_mode": "text/x-c++src",
   "file_extension": ".cpp",
   "mimetype": "text/x-c++src",
   "name": "c++",
   "version": "11"
  }
 },
 "nbformat": 4,
 "nbformat_minor": 5
}
