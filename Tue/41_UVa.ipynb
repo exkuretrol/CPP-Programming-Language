{
 "cells": [
  {
   "cell_type": "markdown",
   "id": "88daa886-5575-4074-b07c-fd25b75e81d1",
   "metadata": {},
   "source": [
    "```cpp\n",
    "#include <string>\n",
    "#include <iostream>\n",
    "#include <sstream>\n",
    "using namespace std;\n",
    "\n",
    "int main()\n",
    "{\n",
    "    string s;\n",
    "    cin >> s;\n",
    "    while (cin >> s)\n",
    "    {\n",
    "        long long v10, v16;\n",
    "        istringstream(s) >> dec >> v10;\n",
    "        istringstream(s) >> hex >> v16;\n",
    "        int p10 = 0;\n",
    "        int p16 = 0;\n",
    "        while (v10) { p10 += v10 % 2; v10 /= 2; }\n",
    "        while (v16) { p16 += v16 % 2; v16 /= 2; }\n",
    "        cout << p10 << \" \" << p16 << endl;\n",
    "    }\n",
    "}\n",
    "```"
   ]
  },
  {
   "cell_type": "code",
   "execution_count": null,
   "id": "8a76ea97-314d-4a43-bdd5-483ab7b9a108",
   "metadata": {},
   "outputs": [],
   "source": []
  }
 ],
 "metadata": {
  "kernelspec": {
   "display_name": "C++11",
   "language": "C++11",
   "name": "xcpp11"
  },
  "language_info": {
   "codemirror_mode": "text/x-c++src",
   "file_extension": ".cpp",
   "mimetype": "text/x-c++src",
   "name": "c++",
   "version": "11"
  }
 },
 "nbformat": 4,
 "nbformat_minor": 5
}
