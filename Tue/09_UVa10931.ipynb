{
 "cells": [
  {
   "cell_type": "code",
   "execution_count": 2,
   "id": "642854cb-4d84-4427-8fe8-deacd1dc4873",
   "metadata": {},
   "outputs": [],
   "source": [
    "#include <iostream>\n",
    "#include <vector>\n",
    "using namespace std;"
   ]
  },
  {
   "cell_type": "code",
   "execution_count": 5,
   "id": "81f249cc-05aa-4ecf-bbd5-d140c9645bd8",
   "metadata": {},
   "outputs": [
    {
     "name": "stdin",
     "output_type": "stream",
     "text": [
      " 2147483647\n"
     ]
    },
    {
     "name": "stdout",
     "output_type": "stream",
     "text": [
      "The parity of 1111111111111111111111111111111 is 31 (mod 2).\n"
     ]
    },
    {
     "name": "stdin",
     "output_type": "stream",
     "text": [
      " 0\n"
     ]
    }
   ],
   "source": [
    "int n;\n",
    "while (cin >> n, n)\n",
    "{\n",
    "    vector<int> a;\n",
    "    int parity = 0;\n",
    "    while (n)\n",
    "    {\n",
    "        a.push_back(n % 2);\n",
    "        parity += n % 2;\n",
    "        n /= 2;\n",
    "    }\n",
    "    cout << \"The parity of \";\n",
    "    for (int k = a.size() - 1; k >= 0; k--)\n",
    "    {\n",
    "        cout << a[k];\n",
    "    }\n",
    "    cout << \" is \" << parity << \" (mod 2).\";\n",
    "    cout << endl;\n",
    "}\n"
   ]
  }
 ],
 "metadata": {
  "kernelspec": {
   "display_name": "C++11",
   "language": "C++11",
   "name": "xcpp11"
  },
  "language_info": {
   "codemirror_mode": "text/x-c++src",
   "file_extension": ".cpp",
   "mimetype": "text/x-c++src",
   "name": "c++",
   "version": "11"
  }
 },
 "nbformat": 4,
 "nbformat_minor": 5
}
