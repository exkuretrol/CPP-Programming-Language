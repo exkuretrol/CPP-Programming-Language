{
 "cells": [
  {
   "cell_type": "markdown",
   "id": "06762c99-e3be-4354-80e8-439163363ecd",
   "metadata": {},
   "source": [
    "```cpp\n",
    "// #include <bits/stdc++.h>\n",
    "#include <iostream>\n",
    "#include <algorithm>\n",
    "using namespace std;\n",
    "\n",
    "int main()\n",
    "{\n",
    "    int n;\n",
    "    while (cin >> n, n)\n",
    "    {\n",
    "        int G = 0;\n",
    "        for (int i = 1; i < n; i++)\n",
    "            for (int j = i; j <= n; j++)\n",
    "                G += __GCD(i, j);\n",
    "        cout << G << endl;\n",
    "    }\n",
    "}\n",
    "```"
   ]
  },
  {
   "cell_type": "code",
   "execution_count": null,
   "id": "cfd0a26a-987c-4531-ad3c-5372cdadfc0c",
   "metadata": {},
   "outputs": [],
   "source": []
  }
 ],
 "metadata": {
  "kernelspec": {
   "display_name": "C++11",
   "language": "C++11",
   "name": "xcpp11"
  },
  "language_info": {
   "codemirror_mode": "text/x-c++src",
   "file_extension": ".cpp",
   "mimetype": "text/x-c++src",
   "name": "c++",
   "version": "11"
  }
 },
 "nbformat": 4,
 "nbformat_minor": 5
}
