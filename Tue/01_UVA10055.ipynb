{
 "cells": [
  {
   "cell_type": "markdown",
   "id": "9f45ce76-62c2-4b5c-857e-c281684c275e",
   "metadata": {},
   "source": [
    "### Input\n",
    "\n",
    "The input contains two integer numbers in every line. These two numbers in each line denotes the number of soldiers in Hashmat's army and hisopponent's army or vice versa. The input numbers are not greater thatn 2^32. Input is terminated by End of File."
   ]
  },
  {
   "cell_type": "markdown",
   "id": "8f471295-a9a2-4231-b6bf-4de0b3b5a4fe",
   "metadata": {},
   "source": [
    "### Output\n",
    "\n",
    "For each line of input, print the difference of number of soldiers between Hashmat's army and his opponent's army. Each output should be in seperate line."
   ]
  },
  {
   "cell_type": "markdown",
   "id": "7154f25c-2a3e-4fe6-8561-33873d7442b0",
   "metadata": {},
   "source": [
    "### Sample Input\n",
    "\n",
    "```\n",
    "10 12\n",
    "10 14\n",
    "100 200\n",
    "```\n",
    "\n",
    "### Sample Output\n",
    "\n",
    "```\n",
    "2\n",
    "4\n",
    "100\n",
    "```"
   ]
  },
  {
   "cell_type": "code",
   "execution_count": null,
   "id": "fb982f26-4ac1-4c0c-84ee-2135f97bb64e",
   "metadata": {},
   "outputs": [],
   "source": [
    "#include <iostream>\n",
    "using namespace std;"
   ]
  },
  {
   "cell_type": "code",
   "execution_count": null,
   "id": "b5991f10-f917-47c7-955e-913a71a09686",
   "metadata": {},
   "outputs": [
    {
     "name": "stdin",
     "output_type": "stream",
     "text": [
      " 10 12\n"
     ]
    },
    {
     "name": "stdout",
     "output_type": "stream",
     "text": [
      "2\n"
     ]
    },
    {
     "name": "stdin",
     "output_type": "stream",
     "text": [
      " 10 14\n"
     ]
    },
    {
     "name": "stdout",
     "output_type": "stream",
     "text": [
      "4\n"
     ]
    },
    {
     "name": "stdin",
     "output_type": "stream",
     "text": [
      " -1\n",
      " 0\n"
     ]
    }
   ],
   "source": [
    "int a, b;\n",
    "while (cin >> a >> b, a > 0 && b > 0)\n",
    "{\n",
    "    cout << b - a << endl;\n",
    "}"
   ]
  },
  {
   "cell_type": "markdown",
   "id": "f3541b31-5ecb-4b8b-931d-d05e1005cfe0",
   "metadata": {},
   "source": [
    "```cpp\n",
    " cin >> a  >> b\n",
    "(cin >> a) >> b\n",
    "       cin >> b\n",
    "       cin\n",
    "       0/1\n",
    "```\n",
    "   "
   ]
  }
 ],
 "metadata": {
  "kernelspec": {
   "display_name": "C++11",
   "language": "C++11",
   "name": "xcpp11"
  },
  "language_info": {
   "codemirror_mode": "text/x-c++src",
   "file_extension": ".cpp",
   "mimetype": "text/x-c++src",
   "name": "c++",
   "version": "11"
  }
 },
 "nbformat": 4,
 "nbformat_minor": 5
}
