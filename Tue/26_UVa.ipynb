{
 "cells": [
  {
   "cell_type": "markdown",
   "id": "693c1493-2b15-4440-95b8-73a3e5d23637",
   "metadata": {},
   "source": [
    "```cpp\n",
    "#include <iostream>\n",
    "#include <algorithm>\n",
    "#include <vector>\n",
    "using namespace std;\n",
    "\n",
    "\n",
    "int main()\n",
    "{\n",
    "    int n;\n",
    "    while (cin >> n)\n",
    "    {\n",
    "        vector<int> a(n);\n",
    "        for (auto &v : a) cin >> v;\n",
    "        sort(a.begin(), a.end());\n",
    "        int ml = a[(a.size() - 1) / 2];\n",
    "        int mu = a[a.size() / 2];\n",
    "        \n",
    "        cout << a[ml] << \" \" \n",
    "             << upper_bound(v.begin(), v.end(), mu) - lower_bound(v.begin(), v.end(), ml)\n",
    "             << mu - ml + 1 << endl;\n",
    "        \n",
    "    }\n",
    "    return 0;\n",
    "}\n",
    "```"
   ]
  }
 ],
 "metadata": {
  "kernelspec": {
   "display_name": "C++11",
   "language": "C++11",
   "name": "xcpp11"
  },
  "language_info": {
   "codemirror_mode": "text/x-c++src",
   "file_extension": ".cpp",
   "mimetype": "text/x-c++src",
   "name": "c++",
   "version": "11"
  }
 },
 "nbformat": 4,
 "nbformat_minor": 5
}
