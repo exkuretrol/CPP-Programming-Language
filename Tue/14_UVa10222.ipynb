{
 "cells": [
  {
   "cell_type": "markdown",
   "id": "bab8c130-8ab7-4791-9885-92648394fec1",
   "metadata": {},
   "source": [
    "### Input \n",
    "The input file will contain only one test case i.e. the encoded message.\n",
    "The test case consists of one or more words.\n",
    "\n",
    "### Output\n",
    "For the given test case, print a line containing the decoded words. However, it is not so hard task to replace each letter or punctuation symbol by the two immediately to its left alphabet on your standard keyboard.\n",
    "\n",
    "### Sample Input\n",
    "```\n",
    "k[r dyt I[o\n",
    "```\n",
    "\n",
    "### Sample Output\n",
    "```\n",
    "how are you\n",
    "```"
   ]
  },
  {
   "cell_type": "markdown",
   "id": "d73f6266-fdae-4656-8f8f-c3f157d91cb0",
   "metadata": {},
   "source": [
    "```cpp\n",
    "#include <iostream>\n",
    "using namespace std;\n",
    "int main()\n",
    "{\n",
    "    string cs = \"`1234567890-=qwertyuiop[]\\\\asdfghjkl;'zxcvbnm,./\";\n",
    "    char c;\n",
    "    while (cin.get(c))\n",
    "    {\n",
    "        c = tolower(c);\n",
    "        if (cs.find(c) != string::npos)\n",
    "        {\n",
    "            cout << cs[cs.find(c) - 2];\n",
    "            continue;\n",
    "        }\n",
    "        cout << c;\n",
    "        \n",
    "    }\n",
    "}\n",
    "\n",
    "```"
   ]
  },
  {
   "cell_type": "markdown",
   "id": "d9b17e71-b4be-41fb-ad19-816a3b883268",
   "metadata": {},
   "source": [
    "```cpp\n",
    "#include <iostream>\n",
    "using namespace std;\n",
    "\n",
    "int main()\n",
    "{\n",
    "    string cs = \" \\n \\n`1234567890-=qwertyuiop[]\\\\asdfghjkl;'zxcvbnm,./\";\n",
    "    char c;\n",
    "    while (cin.get) cout << cs[cs.find(c) - 2];\n",
    "}\n",
    "```"
   ]
  }
 ],
 "metadata": {
  "kernelspec": {
   "display_name": "C++11",
   "language": "C++11",
   "name": "xcpp11"
  },
  "language_info": {
   "codemirror_mode": "text/x-c++src",
   "file_extension": ".cpp",
   "mimetype": "text/x-c++src",
   "name": "c++",
   "version": "11"
  }
 },
 "nbformat": 4,
 "nbformat_minor": 5
}
