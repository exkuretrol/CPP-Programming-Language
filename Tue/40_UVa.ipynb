{
 "cells": [
  {
   "cell_type": "markdown",
   "id": "21b58b38-5cbb-461b-aeff-02fab40ece4b",
   "metadata": {},
   "source": [
    "```cpp\n",
    "#inclucde <iostream>\n",
    "using namespace std;\n",
    "\n",
    "int main()\n",
    "{\n",
    "    int R, C, N;\n",
    "    cin >> R;\n",
    "    while (cin >> R >> C >> N)\n",
    "    {\n",
    "        cout << R << \" \" << C << \" \" << N << endl;\n",
    "        map <int, map<int, char>> m;\n",
    "        for (int r = 0; r < R; r++)\n",
    "            for (int c = 0; c < C; c++)\n",
    "                cin >> m[r][c];\n",
    "        \n",
    "        int vr, vc;\n",
    "        while (N--)\n",
    "        {\n",
    "            cin >> vr >> vc;\n",
    "            int d;\n",
    "            for (d = 0; 1; d++)\n",
    "            {\n",
    "                bool succ = 1;\n",
    "                for (int r = -d; r <= d; r++)\n",
    "                {\n",
    "                    for (int c = -d; c <= d; c++)\n",
    "                    {\n",
    "                        if (m[vr + r][vc + c] != m[vr][vc]) succ = 0;\n",
    "                    }    \n",
    "                }\n",
    "                if (!succ) break;\n",
    "            }\n",
    "            cout << (d - 1) * 2 + 1 << endl;\n",
    "        }\n",
    "    }\n",
    "}\n",
    "```"
   ]
  },
  {
   "cell_type": "code",
   "execution_count": null,
   "id": "9dab0d4a-dba7-428e-b0d5-da0657f8d5a3",
   "metadata": {},
   "outputs": [],
   "source": []
  }
 ],
 "metadata": {
  "kernelspec": {
   "display_name": "C++11",
   "language": "C++11",
   "name": "xcpp11"
  },
  "language_info": {
   "codemirror_mode": "text/x-c++src",
   "file_extension": ".cpp",
   "mimetype": "text/x-c++src",
   "name": "c++",
   "version": "11"
  }
 },
 "nbformat": 4,
 "nbformat_minor": 5
}
