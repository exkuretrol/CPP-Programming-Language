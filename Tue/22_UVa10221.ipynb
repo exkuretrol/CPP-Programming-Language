{
 "cells": [
  {
   "cell_type": "markdown",
   "id": "d4dd2610-4ca9-44f9-9a0a-b475dc000710",
   "metadata": {},
   "source": [
    "```cpp\n",
    "#include <iostream>\n",
    "#include <string>\n",
    "#include <cmath>\n",
    "using namespace std;\n",
    "int main()\n",
    "{\n",
    "    double s, a;\n",
    "    string d;\n",
    "    char c;\n",
    "    while (cin >> s >> a >> c >> d)\n",
    "    {\n",
    "        if (c == 'm') a /= 60;\n",
    "        s += 6440;\n",
    "        a = a / 180 & acos(-1);\n",
    "        \n",
    "        printf(\"%.6lf %.6lf\\n\", s * a, s * sin (a / 2) * 2);\n",
    "    }\n",
    "}\n",
    "```"
   ]
  }
 ],
 "metadata": {
  "kernelspec": {
   "display_name": "C++11",
   "language": "C++11",
   "name": "xcpp11"
  },
  "language_info": {
   "codemirror_mode": "text/x-c++src",
   "file_extension": ".cpp",
   "mimetype": "text/x-c++src",
   "name": "c++",
   "version": "11"
  }
 },
 "nbformat": 4,
 "nbformat_minor": 5
}
