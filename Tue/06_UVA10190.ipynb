{
 "cells": [
  {
   "cell_type": "markdown",
   "id": "3f1b6f5e",
   "metadata": {},
   "source": [
    "### Input\n",
    "\n",
    "The input will consist on an arbitrary number of lines. Each line will consist of two non-negative integers $n$, $m$ which are both leass than 2000000000. You must read until you reach the end of file."
   ]
  },
  {
   "cell_type": "markdown",
   "id": "cf11a8ba",
   "metadata": {},
   "source": [
    "### Output\n",
    "\n",
    "For each pair $n$, $m$ you must print the correspondent sequence a (as defined above) in a single line, with each adjacent numbers of the sequence separated by a single space. In the case the sequence doesn't exist because it violates some retriction, just pint the phrase 'Boring!' in a single line (without the quotes)."
   ]
  },
  {
   "cell_type": "markdown",
   "id": "45abc903-6a33-497a-af56-28bdca5b1327",
   "metadata": {},
   "source": [
    "### Sample Input\n",
    "```\n",
    "125 5\n",
    "30 3\n",
    "80 2\n",
    "81 3\n",
    "```\n",
    "### Sample Output\n",
    "```\n",
    "125 25 5 1\n",
    "Boring!\n",
    "Boring!\n",
    "81 27 9 3 1\n",
    "```"
   ]
  },
  {
   "cell_type": "code",
   "execution_count": 1,
   "id": "88a10a05-0ad8-476b-baff-dc76697acbe2",
   "metadata": {},
   "outputs": [],
   "source": [
    "#include <iostream>\n",
    "#include <string>\n",
    "using namespace std;"
   ]
  },
  {
   "cell_type": "code",
   "execution_count": 3,
   "id": "7d203a80-4678-4fd3-8c4e-4310a97cbbb5",
   "metadata": {},
   "outputs": [
    {
     "name": "stdin",
     "output_type": "stream",
     "text": [
      " 9 1\n"
     ]
    },
    {
     "name": "stdout",
     "output_type": "stream",
     "text": [
      "boring!"
     ]
    },
    {
     "name": "stdin",
     "output_type": "stream",
     "text": [
      " 125 5\n"
     ]
    },
    {
     "name": "stdout",
     "output_type": "stream",
     "text": [
      "125 25 5 1"
     ]
    },
    {
     "name": "stdin",
     "output_type": "stream",
     "text": [
      " 3 1\n"
     ]
    },
    {
     "name": "stdout",
     "output_type": "stream",
     "text": [
      "boring!"
     ]
    },
    {
     "name": "stdin",
     "output_type": "stream",
     "text": [
      " 125 5\n"
     ]
    },
    {
     "name": "stdout",
     "output_type": "stream",
     "text": [
      "125 25 5 1"
     ]
    },
    {
     "name": "stdin",
     "output_type": "stream",
     "text": [
      " -1 -1\n"
     ]
    }
   ],
   "source": [
    "int a, b;\n",
    "while (cin >> a >> b, a > 0 && b > 0)\n",
    "{\n",
    "    string s;\n",
    "    while (b > 1 && a % b == 0)\n",
    "    {        \n",
    "        if (a == b)\n",
    "        {\n",
    "            s += to_string(a) + \" \" + to_string(1);\n",
    "            break;\n",
    "        }\n",
    "        s += to_string(a) + \" \";\n",
    "        a /= b;\n",
    "    }\n",
    "    if (a % b != 0 || b == 1) s = \"boring!\";\n",
    "    cout << s;\n",
    "}"
   ]
  },
  {
   "cell_type": "code",
   "execution_count": 2,
   "id": "af188432-1f17-4f44-92b6-911833d6966b",
   "metadata": {},
   "outputs": [
    {
     "name": "stdin",
     "output_type": "stream",
     "text": [
      " 125 5\n"
     ]
    },
    {
     "name": "stdout",
     "output_type": "stream",
     "text": [
      "125 25 5 1\n"
     ]
    },
    {
     "name": "stdin",
     "output_type": "stream",
     "text": [
      " 0 0\n"
     ]
    }
   ],
   "source": [
    "int n, m;\n",
    "while (cin >> n >> m, n > 0 && m > 0)\n",
    "{\n",
    "    int a = n, b = m;\n",
    "    while (b > 1 && a % b == 0) a /= b;\n",
    "    if (a == 1 && b > 1)\n",
    "    {\n",
    "        cout << n;\n",
    "        while (n > 1 && n % m == 0)\n",
    "        {\n",
    "            n /= m;\n",
    "            cout << \" \" << n;\n",
    "        }\n",
    "        cout << endl;\n",
    "    }\n",
    "    else\n",
    "    {\n",
    "        cout << \"Boring!\" << endl;\n",
    "    }\n",
    "}"
   ]
  }
 ],
 "metadata": {
  "kernelspec": {
   "display_name": "C++11",
   "language": "C++11",
   "name": "xcpp11"
  },
  "language_info": {
   "codemirror_mode": "text/x-c++src",
   "file_extension": ".cpp",
   "mimetype": "text/x-c++src",
   "name": "c++",
   "version": "11"
  }
 },
 "nbformat": 4,
 "nbformat_minor": 5
}
