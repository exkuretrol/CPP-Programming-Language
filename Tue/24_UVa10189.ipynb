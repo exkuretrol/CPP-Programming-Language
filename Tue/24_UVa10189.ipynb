{
 "cells": [
  {
   "cell_type": "markdown",
   "id": "50648c1e-55ca-48f0-ba10-e366f6196cd9",
   "metadata": {},
   "source": [
    "```cpp\n",
    "#include <iostream>\n",
    "using namespace std;\n",
    "\n",
    "int main()\n",
    "{\n",
    "    int R, C, kase = 0;;\n",
    "    while (cin >> R >> C, R + C)\n",
    "    {\n",
    "        cout << \"Field #\" << ++kase << endl;\n",
    "        map<int, map<int, char>> m;\n",
    "        for (int r = 0; r < R; r++)\n",
    "            for (int c = 0; c < C; c++)\n",
    "                cin >> m[r][c];\n",
    "        for (int r = 0; r < R; r++)\n",
    "        {\n",
    "            for (int c = 0; c < C; c++)\n",
    "            {\n",
    "                if (m[r][c] == '*') continue;\n",
    "                m[r][c] = '0' + (m[r - 1][c - 1] == '*') + (m[r - 1][c    ] == '*') + (m[r - 1][c + 1] == '*')\n",
    "                              + (m[r    ][c - 1] == '*') + (m[r    ][c    ] == '*') + (m[r    ][c + 1] == '*')\n",
    "                              + (m[r + 1][c - 1] == '*') + (m[r + 1][c    ] == '*') + (m[r + 1][c + 1] == '*');\n",
    "            }\n",
    "        }\n",
    "        for (int r = 0; r < R; r++)\n",
    "            for (int c = 0; c < C; c++)\n",
    "                cout << m[r][c];\n",
    "    }\n",
    "}\n",
    "```"
   ]
  },
  {
   "cell_type": "code",
   "execution_count": null,
   "id": "84bf2a15-e720-40c0-9c2d-5086855eeaf4",
   "metadata": {},
   "outputs": [],
   "source": []
  }
 ],
 "metadata": {
  "kernelspec": {
   "display_name": "C++11",
   "language": "C++11",
   "name": "xcpp11"
  },
  "language_info": {
   "codemirror_mode": "text/x-c++src",
   "file_extension": ".cpp",
   "mimetype": "text/x-c++src",
   "name": "c++",
   "version": "11"
  }
 },
 "nbformat": 4,
 "nbformat_minor": 5
}
