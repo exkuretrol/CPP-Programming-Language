{
 "cells": [
  {
   "cell_type": "markdown",
   "id": "bff1dd6c-8255-4351-9448-6861b5e30cfa",
   "metadata": {},
   "source": [
    "```cpp\n",
    "#include <iostream>\n",
    "#include <vector>\n",
    "#include <string>\n",
    "#include <algorithm>\n",
    "using namespace std;\n",
    "\n",
    "int main()\n",
    "{\n",
    "    vector<string> vs;\n",
    "    string s;\n",
    "    int R = 0;\n",
    "    int C = 0;\n",
    "    while (getline(cin, s)) \n",
    "    { \n",
    "        R++;\n",
    "        vs.push_back(s); \n",
    "        C = max(C, (int) s.size());\n",
    "    }\n",
    "    vector<string> nvs(C,string(R, ' '));\n",
    "    for (int r = 0; r < R; r++)\n",
    "        for (int c = 0; c < C; c++)\n",
    "        {\n",
    "            char v = ' ';\n",
    "            if (c < vs[r].size()) v = vs[r][c];\n",
    "            nvs[c][R - 1 - r] = v;\n",
    "        }\n",
    "   \n",
    "    int L = 0;\n",
    "    for (int k = nvs.size() - 1; k >= 0; k--)\n",
    "    {\n",
    "        while (nvs[k].back() == ' ' && nvs[k].size() > L) (nvs[k].pop_back();\n",
    "        L = max(L, (int) (nvs[k].size()));\n",
    "    }\n",
    "    for (auto &s : nvs) cout << s << endl;\n",
    "}\n",
    "\n",
    "```"
   ]
  },
  {
   "cell_type": "code",
   "execution_count": 1,
   "id": "94b43610-86f0-4fce-adba-6d7c4d1f6aab",
   "metadata": {},
   "outputs": [],
   "source": [
    "#include <string>\n",
    "#include <iostream>"
   ]
  },
  {
   "cell_type": "code",
   "execution_count": 2,
   "id": "7de60039-e72c-4af7-a5ff-0dde4055e41d",
   "metadata": {},
   "outputs": [],
   "source": [
    "using namespace std;"
   ]
  },
  {
   "cell_type": "code",
   "execution_count": 3,
   "id": "96e07b09-0ace-444a-90be-065f82ec1e78",
   "metadata": {},
   "outputs": [
    {
     "name": "stderr",
     "output_type": "stream",
     "text": [
      "input_line_9:2:10: error: no matching constructor for initialization of 'std::string' (aka 'basic_string<char>')\n",
      " cout << string(5, \" \") << \".\";\n",
      "         ^      ~~~~~~\n",
      "/../lib/gcc/x86_64-linux-gnu/9/../../../../include/c++/9/bits/basic_string.h:544:7: note: candidate constructor not viable: no known conversion from 'const char [2]' to 'char' for 2nd argument\n",
      "      basic_string(size_type __n, _CharT __c, const _Alloc& __a = _Alloc())\n",
      "      ^\n",
      "/../lib/gcc/x86_64-linux-gnu/9/../../../../include/c++/9/bits/basic_string.h:465:7: note: candidate constructor not viable: no known conversion from 'int' to 'const std::__cxx11::basic_string<char>' for 1st argument\n",
      "      basic_string(const basic_string& __str, size_type __pos,\n",
      "      ^\n",
      "/../lib/gcc/x86_64-linux-gnu/9/../../../../include/c++/9/bits/basic_string.h:514:7: note: candidate constructor not viable: no known conversion from 'int' to 'const char *' for 1st argument\n",
      "      basic_string(const _CharT* __s, size_type __n,\n",
      "      ^\n",
      "/../lib/gcc/x86_64-linux-gnu/9/../../../../include/c++/9/bits/basic_string.h:529:7: note: candidate constructor not viable: no known conversion from 'int' to 'const char *' for 1st argument\n",
      "      basic_string(const _CharT* __s, const _Alloc& __a = _Alloc())\n",
      "      ^\n",
      "/../lib/gcc/x86_64-linux-gnu/9/../../../../include/c++/9/bits/basic_string.h:583:7: note: candidate constructor not viable: no known conversion from 'int' to 'initializer_list<char>' for 1st argument\n",
      "      basic_string(initializer_list<_CharT> __l, const _Alloc& __a = _Alloc())\n",
      "      ^\n",
      "/../lib/gcc/x86_64-linux-gnu/9/../../../../include/c++/9/bits/basic_string.h:587:7: note: candidate constructor not viable: no known conversion from 'int' to 'const std::__cxx11::basic_string<char>' for 1st argument\n",
      "      basic_string(const basic_string& __str, const _Alloc& __a)\n",
      "      ^\n",
      "/../lib/gcc/x86_64-linux-gnu/9/../../../../include/c++/9/bits/basic_string.h:591:7: note: candidate constructor not viable: no known conversion from 'int' to 'std::__cxx11::basic_string<char>' for 1st argument\n",
      "      basic_string(basic_string&& __str, const _Alloc& __a)\n",
      "      ^\n",
      "/../lib/gcc/x86_64-linux-gnu/9/../../../../include/c++/9/bits/basic_string.h:629:9: note: candidate template ignored: deduced conflicting types for parameter '_InputIterator' ('int' vs. 'const char *')\n",
      "        basic_string(_InputIterator __beg, _InputIterator __end,\n",
      "        ^\n",
      "/../lib/gcc/x86_64-linux-gnu/9/../../../../include/c++/9/bits/basic_string.h:444:7: note: candidate constructor not viable: requires single argument '__a', but 2 arguments were provided\n",
      "      basic_string(const _Alloc& __a) _GLIBCXX_NOEXCEPT\n",
      "      ^\n",
      "/../lib/gcc/x86_64-linux-gnu/9/../../../../include/c++/9/bits/basic_string.h:452:7: note: candidate constructor not viable: requires single argument '__str', but 2 arguments were provided\n",
      "      basic_string(const basic_string& __str)\n",
      "      ^\n",
      "/../lib/gcc/x86_64-linux-gnu/9/../../../../include/c++/9/bits/basic_string.h:556:7: note: candidate constructor not viable: requires single argument '__str', but 2 arguments were provided\n",
      "      basic_string(basic_string&& __str) noexcept\n",
      "      ^\n",
      "/../lib/gcc/x86_64-linux-gnu/9/../../../../include/c++/9/bits/basic_string.h:480:7: note: candidate constructor not viable: requires 3 arguments, but 2 were provided\n",
      "      basic_string(const basic_string& __str, size_type __pos,\n",
      "      ^\n",
      "/../lib/gcc/x86_64-linux-gnu/9/../../../../include/c++/9/bits/basic_string.h:435:7: note: candidate constructor not viable: requires 0 arguments, but 2 were provided\n",
      "      basic_string()\n",
      "      ^\n",
      "/../lib/gcc/x86_64-linux-gnu/9/../../../../include/c++/9/bits/basic_string.h:496:7: note: candidate constructor not viable: requires 4 arguments, but 2 were provided\n",
      "      basic_string(const basic_string& __str, size_type __pos,\n",
      "      ^\n"
     ]
    },
    {
     "ename": "Interpreter Error",
     "evalue": "",
     "output_type": "error",
     "traceback": [
      "Interpreter Error: "
     ]
    }
   ],
   "source": [
    "cout << string(5, \" \") << \".\";"
   ]
  },
  {
   "cell_type": "code",
   "execution_count": null,
   "id": "1a0bd51d-f5cc-4b87-ab7f-a5212e962ce7",
   "metadata": {},
   "outputs": [],
   "source": []
  }
 ],
 "metadata": {
  "kernelspec": {
   "display_name": "C++14",
   "language": "C++14",
   "name": "xcpp14"
  },
  "language_info": {
   "codemirror_mode": "text/x-c++src",
   "file_extension": ".cpp",
   "mimetype": "text/x-c++src",
   "name": "c++",
   "version": "14"
  }
 },
 "nbformat": 4,
 "nbformat_minor": 5
}
