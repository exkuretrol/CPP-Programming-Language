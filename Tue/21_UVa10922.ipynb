{
 "cells": [
  {
   "cell_type": "markdown",
   "id": "7dc5e749-31fa-497e-8c2c-873bb2b12d84",
   "metadata": {},
   "source": [
    "```cpp\n",
    "#include <iostream>\n",
    "#Include <string>\n",
    "\n",
    "int main()\n",
    "{\n",
    "    string s;\n",
    "    while (cin >> s && s != 0)\n",
    "    {\n",
    "        int d = 0;\n",
    "        int ds = 0;\n",
    "        for (auto &c : s) ds += c - '0';\n",
    "        if (ds % 9) {\n",
    "            cout << s << \" is not a multiple of 9.\" << endl;\n",
    "            continue;\n",
    "        }\n",
    "        while (ds % 9 == 0 && ds >= 10)\n",
    "        {\n",
    "            d++;\n",
    "            int u = ds;\n",
    "            ds = 0;\n",
    "            while (u) ds += u % 10, u /= 10;\n",
    "        }\n",
    "        cout << s << \" is a multiple of 9 and has 9-degree \" << d << \".\" << endl;\n",
    "    }\n",
    "}\n",
    "```"
   ]
  }
 ],
 "metadata": {
  "kernelspec": {
   "display_name": "C++11",
   "language": "C++11",
   "name": "xcpp11"
  },
  "language_info": {
   "codemirror_mode": "text/x-c++src",
   "file_extension": ".cpp",
   "mimetype": "text/x-c++src",
   "name": "c++",
   "version": "11"
  }
 },
 "nbformat": 4,
 "nbformat_minor": 5
}
