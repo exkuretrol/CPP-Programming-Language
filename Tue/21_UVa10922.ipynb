{
 "cells": [
  {
   "cell_type": "markdown",
   "id": "3a231b7a-600b-42ea-acc4-c2f3144a334d",
   "metadata": {},
   "source": [
    "## 題目說明\n",
    "\n",
    "給定一個正整數N，如果它是9的倍數，則計算它除以9後所得到的數字串中9的個數；否則輸出0。\n",
    "\n",
    "輸入：每行輸入一個數字N（1 <= N <= 10^100）。\n",
    "\n",
    "輸出：對於每個輸入的數字N，輸出它除以9後所得到的數字串中9的個數；如果N不能被9整除，9-degree輸出0。\n",
    "\n",
    "### Sample Input\n",
    "```\n",
    "999999999999999999999\n",
    "9\n",
    "9999999999999999999999999999998\n",
    "0\n",
    "```\n",
    "\n",
    "### Sample Output\n",
    "```\n",
    "999999999999999999999 is a multiple of 9 and has 9-degree 3.\n",
    "9 is a multiple of 9 and has 9-degree 1.\n",
    "9999999999999999999999999999998 is not a multiple of 9.\n",
    "```"
   ]
  },
  {
   "cell_type": "markdown",
   "id": "967da73f-911f-48a3-bb35-7e8941236999",
   "metadata": {
    "tags": []
   },
   "source": [
    "## 解題思路"
   ]
  },
  {
   "cell_type": "markdown",
   "id": "0beeed01-c3a1-48d3-baba-f4c0729db69a",
   "metadata": {},
   "source": [
    "1. while cin 吃資料\n",
    "2. for 每個字元相加直到數字 N 自身小於 10 停止"
   ]
  },
  {
   "cell_type": "markdown",
   "id": "d77319fb-23c5-4375-9b68-c7a5ab76e0f4",
   "metadata": {
    "tags": []
   },
   "source": [
    "## 程式碼"
   ]
  },
  {
   "cell_type": "markdown",
   "id": "7dc5e749-31fa-497e-8c2c-873bb2b12d84",
   "metadata": {},
   "source": [
    "```cpp\n",
    "#include <iostream>\n",
    "#Include <string>\n",
    "\n",
    "int main()\n",
    "{\n",
    "    string s;\n",
    "    while (cin >> s && s != 0)\n",
    "    {\n",
    "        int d = 0;\n",
    "        int ds = 0;\n",
    "        for (auto &c : s) ds += c - '0';\n",
    "        if (ds % 9) {\n",
    "            cout << s << \" is not a multiple of 9.\" << endl;\n",
    "            continue;\n",
    "        }\n",
    "        while (ds % 9 == 0 && ds >= 10)\n",
    "        {\n",
    "            d++;\n",
    "            int u = ds;\n",
    "            ds = 0;\n",
    "            while (u) ds += u % 10, u /= 10;\n",
    "        }\n",
    "        cout << s << \" is a multiple of 9 and has 9-degree \" << d << \".\" << endl;\n",
    "    }\n",
    "}\n",
    "```"
   ]
  },
  {
   "cell_type": "code",
   "execution_count": null,
   "id": "246a0436-6579-494d-a253-0186c642e074",
   "metadata": {},
   "outputs": [],
   "source": []
  }
 ],
 "metadata": {
  "kernelspec": {
   "display_name": "C++11",
   "language": "C++11",
   "name": "xcpp11"
  },
  "language_info": {
   "codemirror_mode": "text/x-c++src",
   "file_extension": ".cpp",
   "mimetype": "text/x-c++src",
   "name": "c++",
   "version": "11"
  }
 },
 "nbformat": 4,
 "nbformat_minor": 5
}
