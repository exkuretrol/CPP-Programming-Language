{
 "cells": [
  {
   "cell_type": "markdown",
   "id": "c22acaa0-00ca-4abb-b79a-2330b265b7a6",
   "metadata": {
    "tags": []
   },
   "source": [
    "### The $3n+1$ problem"
   ]
  },
  {
   "cell_type": "markdown",
   "id": "e2641afd-7fc0-4bd1-8014-73a8604821a6",
   "metadata": {},
   "source": [
    "Problems in Computer Science are often classified as belonging to a certain class of problems (e.g., NP, Unsolvable, Recursive). In this problem you will be analyzing a property of an algorithm whose classification is not known for all possible inputs."
   ]
  },
  {
   "cell_type": "markdown",
   "id": "3986cf59-6d59-4498-88f8-557852e215bf",
   "metadata": {},
   "source": [
    "Consider the following algorithm:"
   ]
  },
  {
   "cell_type": "markdown",
   "id": "a99033dd-e417-4c80-83d0-583c684986b3",
   "metadata": {},
   "source": [
    "$$\n",
    "\\begin{array}{llll}\n",
    "1. &\\text{input } n \\\\\n",
    "2. &\\text{print } n \\\\\n",
    "3. &\\text{if } n = 1 \\text{ then STOP} \\\\\n",
    "4. &\\qquad\\text{if } n \\text{ is odd then } n \\gets 3n + 1 \\\\\n",
    "5. &\\qquad\\text{else } n \\gets n/2 \\\\\n",
    "6. &\\text{GOTO } 2\n",
    "\\end{array}\n",
    "$$"
   ]
  },
  {
   "cell_type": "markdown",
   "id": "b9de4cd5-98f9-4ccb-bb2e-130e2b3af69e",
   "metadata": {},
   "source": [
    "Given the input $22$, the following sequence of numbers will printed"
   ]
  },
  {
   "cell_type": "markdown",
   "id": "70615851-4065-407b-aa4b-80889ecb3815",
   "metadata": {},
   "source": [
    "$$\n",
    "\\underbrace{22\\ 11\\ 34\\ 17\\ 52\\ 26\\ 13\\ 40\\ 20\\ 10\\ 5\\ 16\\ 8\\ 4\\ 2\\ 1}_{\\text{cycle-length:}\\ 16}\n",
    "$$"
   ]
  },
  {
   "cell_type": "markdown",
   "id": "86039f56-cee7-4e19-a76a-b8e7db6a0d98",
   "metadata": {},
   "source": [
    "It is conjectured that the algorithm above will terminate (when a $1$ is printed) for any integral input value. Despite the simplicity of the algorithm, it is unknown whether this conjecture is true, It has been verified, however, for all integers $n$ such that $0 < n < 1,000,000$ (and, in fact, for many more numbers than this.)\n",
    "\n",
    "Given an input $n$, it is possible to determine the number of numbers printed before and <span style=\"color: #38bdf8; background-color: #eff6ff;\">including the $1$ is printed</span>. For a given $n$ this is called the cycle-length of $n$. In the example above, <span style=\"color: #38bdf8; background-color: #eff6ff;\">the cycle length of $22$ is $16$</span>.\n",
    "\n",
    "For any two numbers $i$ and $j$ you are to <span style=\"color: #f43f5e; background-color: #ffe4e6;\">determine the maximum cycle length</span> over all numbers between and including both $i$ and $j$."
   ]
  },
  {
   "cell_type": "markdown",
   "id": "131e7cec-fd93-4cd1-856b-05fd789f8c33",
   "metadata": {
    "jp-MarkdownHeadingCollapsed": true,
    "tags": []
   },
   "source": [
    "### Input"
   ]
  },
  {
   "cell_type": "markdown",
   "id": "1454069d-260e-46ee-b364-b8d37c8aef34",
   "metadata": {},
   "source": [
    "The input will consist of a series of pairs of integers $i$ and $j$, one pair of integers per line. All integers will be less than $10,000$ and greater than $0$.\n",
    "\n",
    "You should process all pairs of integers and for each pair determine the maximum cycle length over all integers between and including $i$ and $j$.\n",
    "\n",
    "You can assume that no operation overflows a 32-bit integer."
   ]
  },
  {
   "cell_type": "markdown",
   "id": "117f344c-fab1-4700-a37b-44ee5bb0426b",
   "metadata": {
    "jp-MarkdownHeadingCollapsed": true,
    "tags": []
   },
   "source": [
    "### Output"
   ]
  },
  {
   "cell_type": "markdown",
   "id": "e0184e68-01cb-4ca0-9773-2dd2d1e222cf",
   "metadata": {},
   "source": [
    "For each pair of input integers $i$ and $j$ you should output $i$, $j$, and the maximum length for integers between and including $i$ and $j$. These three numbers should be separated by at least one space with all three numbers on one line and with one line of output for each line of input. The integers $i$ and $j$ must appear in the output in the same order in which they appeared in the input and should be followed by the maximum cycle length (on the same line)."
   ]
  },
  {
   "cell_type": "markdown",
   "id": "74eae1e1-55f6-411d-a4f2-8a743ee24259",
   "metadata": {},
   "source": [
    "### 解題思路"
   ]
  },
  {
   "cell_type": "markdown",
   "id": "1a600bde-a68e-40df-ac9f-586a54bcc3e2",
   "metadata": {},
   "source": [
    "- input $i$, $j$\n",
    "- for n in range($i$, $j$)\n",
    "- 3n + 1algorithm function\n",
    "- max(func algo., m)\n",
    "- output"
   ]
  },
  {
   "cell_type": "markdown",
   "id": "2b70e727-66de-45a6-b9f6-6e9b0a9bb947",
   "metadata": {
    "tags": []
   },
   "source": [
    "### Sample Input"
   ]
  },
  {
   "cell_type": "markdown",
   "id": "80523f9d-79d3-4ee9-ad1c-768c7d5d2ff8",
   "metadata": {},
   "source": [
    "```\n",
    "i\n",
    "| j\n",
    "v v\n",
    "1 10\n",
    " |\n",
    " separated by space\n",
    " \n",
    "100 200\n",
    "201 210\n",
    "900 1000\n",
    "```"
   ]
  },
  {
   "cell_type": "markdown",
   "id": "b9048b0e-a920-48fc-8a8a-e2e538fa8ab3",
   "metadata": {},
   "source": [
    "### Sample Output"
   ]
  },
  {
   "cell_type": "markdown",
   "id": "9ea8bb4b-3d05-4adb-b59f-3c5f581afacf",
   "metadata": {},
   "source": [
    "```\n",
    "1 10 20\n",
    "     |\n",
    "     maximum cycle length of number n between i, j.\n",
    "100 200 125\n",
    "201 210 89\n",
    "900 1000 174\n",
    "```"
   ]
  },
  {
   "cell_type": "code",
   "execution_count": 1,
   "id": "b9a03ff0-2d45-40ae-86e1-6a37332d9d6b",
   "metadata": {},
   "outputs": [],
   "source": [
    "#include <iostream>\n",
    "using namespace std;"
   ]
  },
  {
   "cell_type": "markdown",
   "id": "b60fcccb-1b89-4757-b1a6-e9ef7b46fd5b",
   "metadata": {},
   "source": [
    "$$\n",
    "\\begin{array}{llll}\n",
    "1. &\\text{input } n \\\\\n",
    "2. &\\text{print } n &\\color{#9ca3af}{\\backslash\\backslash\\text{counter++}} \\\\\n",
    "3. &\\text{if } n = 1 \\text{ then STOP} &\\color{#9ca3af}{\\backslash\\backslash\\text{return counter}} \\\\\n",
    "4. &\\qquad\\text{if } n \\text{ is odd then } n \\gets 3n + 1 &\\color{#9ca3af}{\\backslash\\backslash\\text{n = 3n + 1, algo3np1}} \\\\\n",
    "5. &\\qquad\\text{else } n \\gets n/2 &\\color{#9ca3af}{\\backslash\\backslash\\text{n = n / 2, algo3np1}} \\\\\n",
    "6. &\\text{GOTO } 2\n",
    "\\end{array}\n",
    "$$"
   ]
  },
  {
   "cell_type": "code",
   "execution_count": 4,
   "id": "7fb1a585-a054-409f-a4c1-8b0c66c3365c",
   "metadata": {},
   "outputs": [],
   "source": [
    "int algo3np1(int n, int counter = 0)\n",
    "{\n",
    "    counter++;\n",
    "    if (n == 1) return counter;\n",
    "    if (n % 2) return algo3np1(3 * n + 1, counter);\n",
    "    else return algo3np1(n / 2, counter);\n",
    "}"
   ]
  },
  {
   "cell_type": "code",
   "execution_count": 7,
   "id": "c2e33de7-4c18-4ccb-af9f-3d9026f05e3b",
   "metadata": {},
   "outputs": [
    {
     "name": "stdin",
     "output_type": "stream",
     "text": [
      " 900 1000\n"
     ]
    },
    {
     "name": "stdout",
     "output_type": "stream",
     "text": [
      "900 1000 174"
     ]
    }
   ],
   "source": [
    "int l, u;\n",
    "cin >> l >> u;\n",
    "\n",
    "int m = 0;\n",
    "for (int i = l; i <= u; i++)\n",
    "{\n",
    "    int steps = algo3np1(i);\n",
    "    if (steps > m) m = steps;\n",
    "}\n",
    "cout << l << \" \" << u << \" \" << m;"
   ]
  },
  {
   "cell_type": "code",
   "execution_count": 1,
   "id": "87b1b7aa-c3f0-4353-b304-9b20d352b217",
   "metadata": {},
   "outputs": [],
   "source": [
    "#include <iostream>\n",
    "#include <algorithm>\n",
    "using namespace std;"
   ]
  },
  {
   "cell_type": "code",
   "execution_count": 2,
   "id": "66173ea5-89b7-41b8-b3be-1ea334663491",
   "metadata": {},
   "outputs": [],
   "source": [
    "int n31(int n)\n",
    "{\n",
    "    if (n % 2) return 3 * n + 1;\n",
    "    else return n / 2;\n",
    "}"
   ]
  },
  {
   "cell_type": "code",
   "execution_count": 3,
   "id": "1382ca30-f38c-4965-9a55-ab43e7798fff",
   "metadata": {},
   "outputs": [],
   "source": [
    "int cycle(int n)\n",
    "{\n",
    "    int ans = 0;\n",
    "    while (n != 1)\n",
    "    {\n",
    "        ans++;\n",
    "        n = n31(n);\n",
    "    }\n",
    "    return ans + 1;\n",
    "}"
   ]
  },
  {
   "cell_type": "code",
   "execution_count": 4,
   "id": "2f7439e5-aa57-4d65-801e-1f105909812f",
   "metadata": {},
   "outputs": [
    {
     "name": "stdin",
     "output_type": "stream",
     "text": [
      " 0 0\n"
     ]
    }
   ],
   "source": [
    "int a, b;\n",
    "while (cin >> a >> b, a)\n",
    "{\n",
    "    int ans = 0;\n",
    "    for (int k = a; k <= b; k++)\n",
    "    {\n",
    "        ans = max(ans, cycle(k));\n",
    "    }\n",
    "    cout << a << \" \" << b << \" \" << ans << endl;\n",
    "}"
   ]
  },
  {
   "cell_type": "code",
   "execution_count": null,
   "id": "85b1eccb-231b-46fd-8506-a1a37c5d7479",
   "metadata": {},
   "outputs": [],
   "source": []
  }
 ],
 "metadata": {
  "kernelspec": {
   "display_name": "C++14",
   "language": "C++14",
   "name": "xcpp14"
  },
  "language_info": {
   "codemirror_mode": "text/x-c++src",
   "file_extension": ".cpp",
   "mimetype": "text/x-c++src",
   "name": "c++",
   "version": "14"
  },
  "toc-autonumbering": false
 },
 "nbformat": 4,
 "nbformat_minor": 5
}
