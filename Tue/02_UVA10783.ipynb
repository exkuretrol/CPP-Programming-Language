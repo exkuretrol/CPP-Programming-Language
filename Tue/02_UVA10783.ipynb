{
 "cells": [
  {
   "cell_type": "markdown",
   "id": "ee42ab6a-852e-4098-8d77-40327ce67c1f",
   "metadata": {},
   "source": [
    "### Input"
   ]
  },
  {
   "cell_type": "markdown",
   "id": "567a70ae-1080-4457-9d5a-e503b3fab72e",
   "metadata": {},
   "source": [
    "There can be at multiple test cases. The first line of input gives you the number of test cases, $T(1 \\leq T \\leq 100)$. Then $T$ test cases follow. Each test case consists of 2 integers a and b $(0 \\leq a \\leq b \\leq 100)$ in two seperate lines."
   ]
  },
  {
   "cell_type": "markdown",
   "id": "c617c4cb-ed80-4417-9924-f5f59a37ea0a",
   "metadata": {},
   "source": [
    "### Output"
   ]
  },
  {
   "cell_type": "markdown",
   "id": "7bc45bdc-81da-4795-8d82-de68d30b1d06",
   "metadata": {},
   "source": [
    "For each test case you are you are to print on line of output - the serial number of the test case followed by the summation of the odd integers in the range [a, b]."
   ]
  },
  {
   "cell_type": "code",
   "execution_count": 1,
   "id": "7a076861-42ac-49e1-b2a1-b5aeac3209bd",
   "metadata": {},
   "outputs": [],
   "source": [
    "#include <iostream>\n",
    "using namespace std;"
   ]
  },
  {
   "cell_type": "code",
   "execution_count": 6,
   "id": "278053a1-ef5c-4bc9-922d-449bd5d5df29",
   "metadata": {},
   "outputs": [
    {
     "name": "stdin",
     "output_type": "stream",
     "text": [
      " 2 10 50 3 5\n"
     ]
    },
    {
     "name": "stdout",
     "output_type": "stream",
     "text": [
      "Case 1: 600\n",
      "Case 2: 8\n"
     ]
    }
   ],
   "source": [
    "int n;\n",
    "cin >> n;\n",
    "for (int i = 1; i <= n; i++)\n",
    "{\n",
    "    int a, b;\n",
    "    cin >> a >> b;\n",
    "    \n",
    "    int t = 0;\n",
    "    for (int j = a; j <= b; j++)\n",
    "    {\n",
    "        if (j % 2 == 1) t += j;\n",
    "    }\n",
    "    printf(\"Case %d: %d\\n\", i, t);\n",
    "}"
   ]
  }
 ],
 "metadata": {
  "kernelspec": {
   "display_name": "C++11",
   "language": "C++11",
   "name": "xcpp11"
  },
  "language_info": {
   "codemirror_mode": "text/x-c++src",
   "file_extension": ".cpp",
   "mimetype": "text/x-c++src",
   "name": "c++",
   "version": "11"
  }
 },
 "nbformat": 4,
 "nbformat_minor": 5
}
