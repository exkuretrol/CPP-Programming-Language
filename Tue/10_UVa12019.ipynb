{
 "cells": [
  {
   "cell_type": "code",
   "execution_count": 1,
   "id": "8adb10df-8a4d-4419-b9c9-5c1e0851874b",
   "metadata": {},
   "outputs": [],
   "source": [
    "#include <iostream>\n",
    "#include <string>\n",
    "using namespace std;"
   ]
  },
  {
   "cell_type": "code",
   "execution_count": 2,
   "id": "3a35c7ee-e0b3-4829-8c59-cc7e23a91b96",
   "metadata": {},
   "outputs": [
    {
     "name": "stdin",
     "output_type": "stream",
     "text": [
      " 1 1\n",
      " 1\n"
     ]
    },
    {
     "name": "stdout",
     "output_type": "stream",
     "text": [
      "Saturday\n"
     ]
    },
    {
     "name": "stdin",
     "output_type": "stream",
     "text": [
      " 0 0\n"
     ]
    }
   ],
   "source": [
    "int m, d;\n",
    "int ds[] = {0, \n",
    "            31, 28, 31, 30, 31, \n",
    "            30, 31, 31, 30, 31, \n",
    "            30, 31};\n",
    "string ws[] = {\"Sunday\", \"Monday\", \"Tuesday\", \"Wednesday\", \"Thursday\", \"Friday\", \"Saturday\"};\n",
    "cin >> m;\n",
    "while (cin >> m >> d && m && d)\n",
    "{\n",
    "    for (int k = 1; k <= m - 1; k++) d += ds[k];\n",
    "    d += 5;\n",
    "    cout << ws[d % 7] << endl;\n",
    "}"
   ]
  },
  {
   "cell_type": "code",
   "execution_count": null,
   "id": "9651d2ba-64e9-45c3-b6bf-e2d4f3f04835",
   "metadata": {},
   "outputs": [],
   "source": []
  }
 ],
 "metadata": {
  "kernelspec": {
   "display_name": "C++11",
   "language": "C++11",
   "name": "xcpp11"
  },
  "language_info": {
   "codemirror_mode": "text/x-c++src",
   "file_extension": ".cpp",
   "mimetype": "text/x-c++src",
   "name": "c++",
   "version": "11"
  }
 },
 "nbformat": 4,
 "nbformat_minor": 5
}
