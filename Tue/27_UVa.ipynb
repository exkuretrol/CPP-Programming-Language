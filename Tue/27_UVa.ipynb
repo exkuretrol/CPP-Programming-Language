{
 "cells": [
  {
   "cell_type": "markdown",
   "id": "dfa25df5-de2d-4819-94af-a8746cb46ae9",
   "metadata": {},
   "source": [
    "```cpp\n",
    "#include <iostream>\n",
    "using namespace std;\n",
    "\n",
    "int main()\n",
    "{\n",
    "    int n;\n",
    "    while (cin >> n, n)\n",
    "    {\n",
    "        while (n >= 10)\n",
    "        {\n",
    "            int ds = 0;\n",
    "            while (n) ds += n % 10, n /= 10;\n",
    "            n = ds;\n",
    "        }\n",
    "        cout << n << endl;\n",
    "    }\n",
    "}\n",
    "```"
   ]
  },
  {
   "cell_type": "code",
   "execution_count": null,
   "id": "40489042-679a-49a9-adab-5ccdbbef9ff6",
   "metadata": {},
   "outputs": [],
   "source": []
  }
 ],
 "metadata": {
  "kernelspec": {
   "display_name": "C++11",
   "language": "C++11",
   "name": "xcpp11"
  },
  "language_info": {
   "codemirror_mode": "text/x-c++src",
   "file_extension": ".cpp",
   "mimetype": "text/x-c++src",
   "name": "c++",
   "version": "11"
  }
 },
 "nbformat": 4,
 "nbformat_minor": 5
}
