{
 "cells": [
  {
   "cell_type": "markdown",
   "id": "6bcae604-35ce-444c-adff-c4de3c1db757",
   "metadata": {},
   "source": [
    "### Square Numbers"
   ]
  },
  {
   "cell_type": "code",
   "execution_count": 1,
   "id": "547f5d18-42cf-4990-adc6-7f00979f6166",
   "metadata": {},
   "outputs": [],
   "source": [
    "#include <iostream>\n",
    "using namespace std;"
   ]
  },
  {
   "cell_type": "code",
   "execution_count": 4,
   "id": "0aceb075-25e9-45eb-b145-cb414266a073",
   "metadata": {},
   "outputs": [
    {
     "name": "stdin",
     "output_type": "stream",
     "text": [
      " 0 0\n"
     ]
    }
   ],
   "source": [
    "int a, b;\n",
    "while (cin >> a >> b && a)\n",
    "{\n",
    "    int ans = 0;\n",
    "    for (int k = a; k <= b; k++)\n",
    "    {\n",
    "        int r = sqrt(a);\n",
    "    }\n",
    "}"
   ]
  },
  {
   "cell_type": "code",
   "execution_count": null,
   "id": "417a16b2-b282-45ad-a656-dd917b108935",
   "metadata": {},
   "outputs": [],
   "source": []
  }
 ],
 "metadata": {
  "kernelspec": {
   "display_name": "C++11",
   "language": "C++11",
   "name": "xcpp11"
  },
  "language_info": {
   "codemirror_mode": "text/x-c++src",
   "file_extension": ".cpp",
   "mimetype": "text/x-c++src",
   "name": "c++",
   "version": "11"
  }
 },
 "nbformat": 4,
 "nbformat_minor": 5
}
