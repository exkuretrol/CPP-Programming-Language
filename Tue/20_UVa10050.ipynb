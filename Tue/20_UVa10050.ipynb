{
 "cells": [
  {
   "cell_type": "markdown",
   "id": "e11e7907-7b5d-403a-9f1b-fc2c417e5dab",
   "metadata": {},
   "source": [
    "### Input\n",
    "The first line of the input consists of a single integer T giving the number of test cases to follow.\n",
    "The first line of each test case contains an integer $N(7 \\leq N \\leq 3650)$ giving the number of days over which the simulation must be run. The next line contains another integer $P(1 \\leq P \\leq 100)$ representing the number of political parties in this case. The ith of the next P lines contains a positive integer h_i (which will never be a multiple of 7) giving the hartal parameter for party $i(1 \\leq i \\leq P)$."
   ]
  },
  {
   "cell_type": "markdown",
   "id": "9a6cf753-8e5e-4bc6-b079-5a8ccadbde23",
   "metadata": {},
   "source": [
    "### Output\n",
    "For each test case in the input output the number of working days we lose. Each output must be on a separate line."
   ]
  },
  {
   "cell_type": "markdown",
   "id": "8b673cc5-62b3-4fb7-8cd9-b41cfac1aad2",
   "metadata": {},
   "source": [
    "### Sample Input\n",
    "```\n",
    "2\n",
    "14\n",
    "3\n",
    "3\n",
    "4\n",
    "8\n",
    "100\n",
    "4\n",
    "12\n",
    "15\n",
    "25\n",
    "40\n",
    "```"
   ]
  },
  {
   "cell_type": "markdown",
   "id": "50adcb4c-fc29-48e9-8956-57b6e23913c0",
   "metadata": {},
   "source": [
    "### Sample Output\n",
    "```\n",
    "5\n",
    "15\n",
    "```"
   ]
  },
  {
   "cell_type": "markdown",
   "id": "e59b0be1-3d89-4423-bc0e-d176bfcfce71",
   "metadata": {},
   "source": [
    "```cpp\n",
    "#include <iostream>\n",
    "using namespace std;\n",
    "\n",
    "int main()\n",
    "{\n",
    "    int D; n; cin >> n;\n",
    "    while (cin >> D >> n)\n",
    "    {\n",
    "        vector<int> a(n);\n",
    "        for (auto &v : a) cin >> v;\n",
    "        int ans = 0;\n",
    "        for (int d = 1; d <= D; d++)\n",
    "        {\n",
    "            if (d % 7 == 6) continue;\n",
    "            if (d % 7 == 0) continue;\n",
    "            bool h = 0;\n",
    "            for (auto &v : a)\n",
    "            {\n",
    "                if (d % v == 0)\n",
    "                {\n",
    "                    h = 1;\n",
    "                    break;\n",
    "                }\n",
    "            }\n",
    "            ans += h;\n",
    "        }\n",
    "    }\n",
    "}\n",
    "```"
   ]
  }
 ],
 "metadata": {
  "kernelspec": {
   "display_name": "C++11",
   "language": "C++11",
   "name": "xcpp11"
  },
  "language_info": {
   "codemirror_mode": "text/x-c++src",
   "file_extension": ".cpp",
   "mimetype": "text/x-c++src",
   "name": "c++",
   "version": "11"
  }
 },
 "nbformat": 4,
 "nbformat_minor": 5
}
