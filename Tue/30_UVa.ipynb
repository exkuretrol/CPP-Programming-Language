{
 "cells": [
  {
   "cell_type": "markdown",
   "id": "c89f3174-8848-4856-be51-85d7c59d2ed8",
   "metadata": {},
   "source": [
    "```cpp\n",
    "#include <iostream>\n",
    "using namespace std;\n",
    "\n",
    "int main()\n",
    "{\n",
    "    int n;\n",
    "    cin >> n;\n",
    "    string a, b;\n",
    "    while (cin >> a >> b)\n",
    "    {\n",
    "        // int na = 0;\n",
    "        // int nb = 0;\n",
    "        // for (auto &c : a) na = na * 2 + c - '0';\n",
    "        // for (auto &c : b) nb = nb * 2 + c - '0';\n",
    "        \n",
    "        int na = stoi(a, 0, 2);\n",
    "        int nb = stoi(b, 0, 2);\n",
    "        // while (nb && (na %= nb)) swap(na, nb);\n",
    "        int ks = 0;\n",
    "        // if (na + nb > 1)\n",
    "        if (__gcd(na, nb) > 1)\n",
    "        {\n",
    "            print(\"Pair #%d: All you needis love!\\n\", ++ks);\n",
    "        }\n",
    "        else \n",
    "        {\n",
    "            print(\"Pair #%d: Love is not all you need!\\n\", ++ks);\n",
    "        }\n",
    "    }\n",
    "}\n",
    "```"
   ]
  },
  {
   "cell_type": "code",
   "execution_count": null,
   "id": "27a654ae-8d72-4b90-af8c-6e19d45c392e",
   "metadata": {},
   "outputs": [],
   "source": []
  }
 ],
 "metadata": {
  "kernelspec": {
   "display_name": "C++11",
   "language": "C++11",
   "name": "xcpp11"
  },
  "language_info": {
   "codemirror_mode": "text/x-c++src",
   "file_extension": ".cpp",
   "mimetype": "text/x-c++src",
   "name": "c++",
   "version": "11"
  }
 },
 "nbformat": 4,
 "nbformat_minor": 5
}
