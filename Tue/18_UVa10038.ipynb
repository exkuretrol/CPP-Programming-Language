{
 "cells": [
  {
   "cell_type": "markdown",
   "id": "799c6feb-a5bc-4e81-9758-ca6d67d722ea",
   "metadata": {},
   "source": [
    "```cpp\n",
    "#include <iostream>\n",
    "#include <vector>\n",
    "#include <algorithm>\n",
    "#include <set>\n",
    "using namespace std;\n",
    "int main()\n",
    "{\n",
    "    int n;\n",
    "    while (cin >> n)\n",
    "    {\n",
    "        vector<int> a(n);\n",
    "        int m, M;\n",
    "        for (auto &v : a) cin >> v;\n",
    "        m = M = abs(a[1] - a[0]);\n",
    "        set<int> all;\n",
    "        for (int k = 1; k < a.size(); k++)\n",
    "        {\n",
    "            int d = abs(a[k] - a[k - 1]);\n",
    "            all.insert(d);\n",
    "            m = min(m, d);\n",
    "            M = max(M, d);\n",
    "        }\n",
    "        if (m == 1 && M == n - 1 && all.size() == n - 1) cout << \"Jolly\" << endl;\n",
    "        else cout << \"Not jolly\" << endl;\n",
    "        // if (m != 1 || M != n - 1 || all.size() != n - 1) cout << \"Not jolly\" << endl;\n",
    "        // else cout << \"Jolly\" << endl;\n",
    "    }\n",
    "}\n",
    "```"
   ]
  }
 ],
 "metadata": {
  "kernelspec": {
   "display_name": "C++11",
   "language": "C++11",
   "name": "xcpp11"
  },
  "language_info": {
   "codemirror_mode": "text/x-c++src",
   "file_extension": ".cpp",
   "mimetype": "text/x-c++src",
   "name": "c++",
   "version": "11"
  }
 },
 "nbformat": 4,
 "nbformat_minor": 5
}
