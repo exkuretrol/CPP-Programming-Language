{
 "cells": [
  {
   "cell_type": "markdown",
   "id": "1c3e9009-ba30-4f09-a7a8-11854503da0c",
   "metadata": {},
   "source": [
    "```cpp\n",
    "#include <iostream>\n",
    "#include <vector>\n",
    "#include <string>\n",
    "using namespace std;\n",
    "\n",
    "int main()\n",
    "{\n",
    "    int xs, ys;\n",
    "    while (cin >> xs >> ys)\n",
    "    {\n",
    "        // 0...xs, 0...ys\n",
    "        vector<vector<int>> m(ys + 1, vector<int>(xs + 1));\n",
    "        int x, y;\n",
    "        char d;\n",
    "        string s, LS = \"ENWSE\", RS = \"ESWNE\";\n",
    "        while (cin >> x >> y >> d >> s)\n",
    "        {\n",
    "            bool lost = 0;\n",
    "            for (auto &c : s)\n",
    "            {\n",
    "                if (c == 'L') { d = LS[LS.find(d) + 1]; continue; }\n",
    "                if (c == 'R') { d = RS[RS.find(d) + 1]; continue; }\n",
    "                int nx = x, ny = y;\n",
    "                if (d == 'E')\n",
    "                {\n",
    "                    if (d == 'E') nx++;\n",
    "                    if (d == 'W') nx--;\n",
    "                    if (d == 'N') ny++;\n",
    "                    if (d == 'S') ny--;\n",
    "                    if (0 <= nx && nx <= xs &&\n",
    "                        0 <= ny && ny <= ys)\n",
    "                    {\n",
    "                        x = nx; \n",
    "                        y = ny; \n",
    "                        continue;\n",
    "                    }\n",
    "                    if (m[x][y]) continue;\n",
    "                    lost = 1;\n",
    "                    m[x][y] = 1;\n",
    "                    break;\n",
    "                }\n",
    "                if (lost) cout << x << \" \" << y << \" \" << d << \" LOST\" << endl;\n",
    "                else      cout << x << \" \" << y << endl;\n",
    "            }\n",
    "        }\n",
    "    }\n",
    "}\n",
    "```"
   ]
  },
  {
   "cell_type": "code",
   "execution_count": null,
   "id": "7575075c-1fcd-4990-b836-cda67ce32576",
   "metadata": {},
   "outputs": [],
   "source": []
  }
 ],
 "metadata": {
  "kernelspec": {
   "display_name": "C++11",
   "language": "C++11",
   "name": "xcpp11"
  },
  "language_info": {
   "codemirror_mode": "text/x-c++src",
   "file_extension": ".cpp",
   "mimetype": "text/x-c++src",
   "name": "c++",
   "version": "11"
  }
 },
 "nbformat": 4,
 "nbformat_minor": 5
}
