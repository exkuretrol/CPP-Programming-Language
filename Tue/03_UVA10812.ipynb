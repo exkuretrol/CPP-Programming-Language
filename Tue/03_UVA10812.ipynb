{
 "cells": [
  {
   "cell_type": "markdown",
   "id": "651b75ac-325d-4929-9365-78b25d0c9a4d",
   "metadata": {},
   "source": [
    "### Input\n",
    "\n",
    "The first line of input contains $n$, the number of test cases. $n$ lines follow, each representing a test case. Each test case gives $s$ and $d$, non-negative integers representing the sum and (absolute) difference between the two final scores."
   ]
  },
  {
   "cell_type": "markdown",
   "id": "19005d9c-7d92-4409-bced-73febf03dc93",
   "metadata": {},
   "source": [
    "### Output\n",
    "\n",
    "For each test case, output a line giving the two final scores, largest first. If there are no such scores, output a line containing \"impossible\". Recall the football scores are always non-negative integers."
   ]
  },
  {
   "cell_type": "markdown",
   "id": "54ab21e6-1ac7-4932-9c49-59e1bfabcf4c",
   "metadata": {},
   "source": [
    "### Sample Input\n",
    "```\n",
    "2\n",
    "40 20\n",
    "20 40\n",
    "```\n",
    "### Sample Output\n",
    "```\n",
    "30 10\n",
    "impossible\n",
    "```"
   ]
  },
  {
   "cell_type": "code",
   "execution_count": null,
   "id": "7cfbf69f-fb0a-4be6-a656-3fbf8f5c0461",
   "metadata": {},
   "outputs": [],
   "source": [
    "#include <iostream>\n",
    "using namespace std;"
   ]
  },
  {
   "cell_type": "code",
   "execution_count": null,
   "id": "cf7709fc-3914-49b2-a14a-fb172cab3d70",
   "metadata": {},
   "outputs": [
    {
     "name": "stdin",
     "output_type": "stream",
     "text": [
      " 2\n",
      " 20 40\n"
     ]
    },
    {
     "name": "stdout",
     "output_type": "stream",
     "text": [
      "impossible\n"
     ]
    }
   ],
   "source": [
    "int n;\n",
    "cin >> n;\n",
    "for (int m = 0; m < n; m++)\n",
    "{\n",
    "    int i, j;\n",
    "    cin >> i >> j;\n",
    "    // if a > b:\n",
    "    // a + b = i\n",
    "    // a - b = j\n",
    "    // a = (i + j) / 2\n",
    "    // b = i - a;\n",
    "    if (i >= 0 && j >= 0)\n",
    "    {\n",
    "        int a, b;\n",
    "        a = (i + j) / 2;\n",
    "        b = i - a;\n",
    "        if (a < 0 || b < 0)\n",
    "        {\n",
    "            cout << \"impossible\" << endl;\n",
    "            break;\n",
    "        }\n",
    "        cout << a << \" \" << b << endl;\n",
    "    }\n",
    "    else\n",
    "    {\n",
    "        cout << \"impossible\" << endl;\n",
    "    }\n",
    "}"
   ]
  },
  {
   "cell_type": "code",
   "execution_count": null,
   "id": "ded63309-6510-4caa-95b5-869cc250310a",
   "metadata": {},
   "outputs": [
    {
     "name": "stdin",
     "output_type": "stream",
     "text": [
      " 2\n",
      " 40 20\n"
     ]
    },
    {
     "name": "stdout",
     "output_type": "stream",
     "text": [
      "30 10\n"
     ]
    },
    {
     "name": "stdin",
     "output_type": "stream",
     "text": [
      " 20 40\n"
     ]
    },
    {
     "name": "stdout",
     "output_type": "stream",
     "text": [
      "impossible\n"
     ]
    },
    {
     "name": "stdin",
     "output_type": "stream",
     "text": [
      " -1 -1\n"
     ]
    },
    {
     "name": "stdout",
     "output_type": "stream",
     "text": [
      "impossible\n"
     ]
    },
    {
     "name": "stdin",
     "output_type": "stream",
     "text": [
      " - 1\n"
     ]
    }
   ],
   "source": [
    "int T;\n",
    "cin >> T;\n",
    "int s, d;\n",
    "while (cin >> s >> d)\n",
    "{\n",
    "    int a = (s + d) / 2;\n",
    "    int b = (s - d) / 2;\n",
    "    if (b < 0 || (s + d) % 2 || (s - d) % 2) cout << \"impossible\";\n",
    "    else cout << a << \" \" << b;\n",
    "    cout << endl;\n",
    "}"
   ]
  }
 ],
 "metadata": {
  "kernelspec": {
   "display_name": "C++11",
   "language": "C++11",
   "name": "xcpp11"
  },
  "language_info": {
   "codemirror_mode": "text/x-c++src",
   "file_extension": ".cpp",
   "mimetype": "text/x-c++src",
   "name": "c++",
   "version": "11"
  }
 },
 "nbformat": 4,
 "nbformat_minor": 5
}
