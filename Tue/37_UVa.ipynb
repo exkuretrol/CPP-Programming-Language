{
 "cells": [
  {
   "cell_type": "markdown",
   "id": "852702d3-aa36-469f-a2fd-aa0f00ffecba",
   "metadata": {},
   "source": [
    "```cpp\n",
    "#include <iostream>\n",
    "#include <cmath>\n",
    "using namespace std;\n",
    "\n",
    "int main()\n",
    "{\n",
    "    int n, m;\n",
    "    cin >> n;\n",
    "    double p;\n",
    "    while (cin >> n >> p >> m)\n",
    "    {\n",
    "        double q = 1 - p;\n",
    "        double r = pow(q, n);\n",
    "        if (p == 0)\n",
    "        {\n",
    "            cout << \"0.0000\" << endl;\n",
    "            continue;\n",
    "        }\n",
    "        printf(\"%.4lf\\n\", pow(q, m - 1) * p / (1 - r));\n",
    "    }\n",
    "}\n",
    "```"
   ]
  },
  {
   "cell_type": "code",
   "execution_count": null,
   "id": "5f2a0210-77d0-49a6-986a-2724199942d9",
   "metadata": {},
   "outputs": [],
   "source": []
  }
 ],
 "metadata": {
  "kernelspec": {
   "display_name": "C++11",
   "language": "C++11",
   "name": "xcpp11"
  },
  "language_info": {
   "codemirror_mode": "text/x-c++src",
   "file_extension": ".cpp",
   "mimetype": "text/x-c++src",
   "name": "c++",
   "version": "11"
  }
 },
 "nbformat": 4,
 "nbformat_minor": 5
}
