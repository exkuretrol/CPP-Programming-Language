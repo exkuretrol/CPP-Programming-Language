{
 "cells": [
  {
   "cell_type": "code",
   "execution_count": 1,
   "id": "f77cf68c-7dd2-4565-905b-0dde5ad610aa",
   "metadata": {},
   "outputs": [],
   "source": [
    "#include <iostream>\n",
    "using namespace std;"
   ]
  },
  {
   "cell_type": "code",
   "execution_count": 5,
   "id": "c248e46e-df3f-4e60-8e12-519df1e2f142",
   "metadata": {},
   "outputs": [
    {
     "name": "stdin",
     "output_type": "stream",
     "text": [
      " 9999 1\n"
     ]
    },
    {
     "name": "stdout",
     "output_type": "stream",
     "text": [
      "4 carry operations.\n"
     ]
    },
    {
     "name": "stdin",
     "output_type": "stream",
     "text": [
      " 0 0\n"
     ]
    }
   ],
   "source": [
    "long long a, b;\n",
    "while (cin >> a >> b && (a || b))\n",
    "{\n",
    "    int c = 0;\n",
    "    int ans = 0;\n",
    "    while (a || b || c)\n",
    "    {\n",
    "        c = (a % 10 + b % 10 + c);\n",
    "\n",
    "        a /= 10;\n",
    "        b /= 10;\n",
    "        c /= 10;\n",
    "        ans += c;\n",
    "    }\n",
    "    if (ans == 0) cout << \"No carry operation.\";\n",
    "    else if (ans == 1) cout << \"1 carry operation.\";\n",
    "    else cout << ans << \" carry operations.\";\n",
    "    cout << endl;\n",
    "}"
   ]
  }
 ],
 "metadata": {
  "kernelspec": {
   "display_name": "C++11",
   "language": "C++11",
   "name": "xcpp11"
  },
  "language_info": {
   "codemirror_mode": "text/x-c++src",
   "file_extension": ".cpp",
   "mimetype": "text/x-c++src",
   "name": "c++",
   "version": "11"
  }
 },
 "nbformat": 4,
 "nbformat_minor": 5
}
