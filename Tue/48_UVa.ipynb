{
 "cells": [
  {
   "cell_type": "markdown",
   "id": "6c820193-54ec-47e0-b377-575fe5d68287",
   "metadata": {},
   "source": [
    "```cpp\n",
    "#include <iostream>\n",
    "#include <algorithm>\n",
    "#include <vector>\n",
    "#include <string>\n",
    "using namespace std;\n",
    "\n",
    "int main()\n",
    "{\n",
    "    string s, ds = \"0123456789ABCDEFGHIJKLMNOPQRSTUVWXYZabcdefghijklmopqrstuvwxyz\";\n",
    "    while (cin >> s)\n",
    "    {\n",
    "        int base = max(2, (int) ds.find(*max_element(s.begin(), s.end())) + 1);\n",
    "        for (; base <= ds.size(); base++)\n",
    "        {\n",
    "            int v = 0;\n",
    "            for (auto &c : s)\n",
    "            {\n",
    "                if (c == '+') continue;\n",
    "                if (c == '-') continue;\n",
    "                v = v * base + ds.find(c);\n",
    "                v %= (base - 1);\n",
    "            }\n",
    "            \n",
    "            if (v % (base - 1) == 0) break;\n",
    "        }\n",
    "        if (base <= ds.size()) cout << base << endl;\n",
    "        else cout << \"such number is impossible!\" << endl;\n",
    "    }\n",
    "}\n",
    "```"
   ]
  },
  {
   "cell_type": "code",
   "execution_count": null,
   "id": "f79f8401-99d6-41c5-95f5-c1974bc7c07d",
   "metadata": {},
   "outputs": [],
   "source": []
  }
 ],
 "metadata": {
  "kernelspec": {
   "display_name": "C++11",
   "language": "C++11",
   "name": "xcpp11"
  },
  "language_info": {
   "codemirror_mode": "text/x-c++src",
   "file_extension": ".cpp",
   "mimetype": "text/x-c++src",
   "name": "c++",
   "version": "11"
  }
 },
 "nbformat": 4,
 "nbformat_minor": 5
}
