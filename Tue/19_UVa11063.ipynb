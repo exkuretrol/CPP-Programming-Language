{
 "cells": [
  {
   "cell_type": "markdown",
   "id": "3028bafc-abc4-4dbf-9530-c08fb6d7811b",
   "metadata": {},
   "source": [
    "### Input\n",
    "\n",
    "### Output\n",
    "\n",
    "### Sample Input\n",
    "\n",
    "### Sample Output"
   ]
  },
  {
   "cell_type": "markdown",
   "id": "593c3408-a6b8-4461-9c0d-ebeff9c63f5a",
   "metadata": {},
   "source": [
    "```cpp\n",
    "#include <iostream>\n",
    "#include <algorithm>\n",
    "// #include <bits/stdc++.h>\n",
    "using namespace std;\n",
    "\n",
    "int main()\n",
    "{\n",
    "    int n;\n",
    "    int kase = 0;\n",
    "    while (cin >> n)\n",
    "    {\n",
    "        vector<int> a(n);\n",
    "        for (auto &v : a) cin >> v;\n",
    "        sort(a.begin(), a.end());\n",
    "        set<int> all;\n",
    "        for (auto &v : a) all.insert(v);\n",
    "        set<int> all2;\n",
    "        \n",
    "        cout << \"Case #\" << ++kase << \":\";\n",
    "        for(auto &i : a) \n",
    "            for (auto &j : a) \n",
    "                all2.insert(i + j);\n",
    "        \n",
    "        if (a[0] >= 1 && all.size() == n && all2.size() == n + n * (n - 1) / 2)\n",
    "        {\n",
    "            cout << \"It is a B2-Sequence.\" << endl;\n",
    "        }\n",
    "        else\n",
    "        {\n",
    "            cout << \"It is not a B2-Sequence.\" << endl;\n",
    "        }\n",
    "        cout << endl;\n",
    "    }\n",
    "}\n",
    "```"
   ]
  },
  {
   "cell_type": "code",
   "execution_count": null,
   "id": "a077a6c2-1885-4c8e-a435-bce0a4412b76",
   "metadata": {},
   "outputs": [],
   "source": []
  }
 ],
 "metadata": {
  "kernelspec": {
   "display_name": "Python (default)",
   "language": "python",
   "name": "python3"
  },
  "language_info": {
   "codemirror_mode": {
    "name": "ipython",
    "version": 3
   },
   "file_extension": ".py",
   "mimetype": "text/x-python",
   "name": "python",
   "nbconvert_exporter": "python",
   "pygments_lexer": "ipython3",
   "version": "3.10.4"
  }
 },
 "nbformat": 4,
 "nbformat_minor": 5
}
