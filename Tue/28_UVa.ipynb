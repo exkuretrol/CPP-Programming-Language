{
 "cells": [
  {
   "cell_type": "markdown",
   "id": "652efd1f-eac3-485c-8c53-a51a6cecf42b",
   "metadata": {},
   "source": [
    "```cpp\n",
    "#include <iostream>\n",
    "using namespace std;\n",
    "\n",
    "bool is_prime(int n)\n",
    "{\n",
    "    for (int i = 2; d * d <= n; d++)\n",
    "    {\n",
    "        if (n % d == 0) return 0;\n",
    "    }\n",
    "    return 1;\n",
    "}\n",
    "\n",
    "int main()\n",
    "{\n",
    "    int n;\n",
    "    while (cin >> n)\n",
    "    {\n",
    "        if (is_prime(n) == false)\n",
    "        {\n",
    "            printf(\"%d is not prime.\\n\", n);\n",
    "            continue;\n",
    "        }\n",
    "        int m = n; \n",
    "        int rn = 0;\n",
    "        \n",
    "        while (m)\n",
    "        {\n",
    "            rn = rn * 10 + m % 10;\n",
    "            m /= 10;\n",
    "        }\n",
    "        // string s;\n",
    "        // istringstream(s) >> n;\n",
    "        // int rn; \n",
    "        // reverse(s.begin(), s.end());\n",
    "        // istringstream(s) >> rn;\n",
    "        \n",
    "        if (!is_prime(rn) || n == rn)\n",
    "        {\n",
    "            printf(\"%d is prime.\\n\", n);\n",
    "        }\n",
    "        else\n",
    "        {\n",
    "            rintf(\"%d is emirp.\\n\", n);\n",
    "        }\n",
    "    }\n",
    "}\n",
    "```"
   ]
  },
  {
   "cell_type": "code",
   "execution_count": null,
   "id": "ec93743c-459f-4c70-bb32-8a3524f51bec",
   "metadata": {},
   "outputs": [],
   "source": []
  }
 ],
 "metadata": {
  "kernelspec": {
   "display_name": "C++11",
   "language": "C++11",
   "name": "xcpp11"
  },
  "language_info": {
   "codemirror_mode": "text/x-c++src",
   "file_extension": ".cpp",
   "mimetype": "text/x-c++src",
   "name": "c++",
   "version": "11"
  }
 },
 "nbformat": 4,
 "nbformat_minor": 5
}
