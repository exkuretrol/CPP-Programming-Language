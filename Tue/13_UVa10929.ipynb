{
 "cells": [
  {
   "cell_type": "markdown",
   "id": "0e5fdaf0-fb02-4eeb-bff7-47e420c5e687",
   "metadata": {},
   "source": [
    "### Input \n",
    "The input is a file such that each line contains a positive number. A line containing the number '0' is the end of the input. The given numbers can contain up to 1000 digits."
   ]
  },
  {
   "cell_type": "markdown",
   "id": "f137e671-2311-4ff5-a8a4-49de7a54932c",
   "metadata": {},
   "source": [
    "### Output\n",
    "The output of the program shall indicate, for each input number, if it is a multiple of eleven or not."
   ]
  },
  {
   "cell_type": "markdown",
   "id": "659384fc-c354-4e6b-8ed4-998f90e2b09e",
   "metadata": {},
   "source": [
    "### Sample Input\n",
    "\n",
    "```\n",
    "112233\n",
    "30800\n",
    "2937\n",
    "323455693\n",
    "5038297\n",
    "112234\n",
    "0\n",
    "```\n",
    "\n",
    "### Sample Output\n",
    "```\n",
    "112233 is a multiple of 11.\n",
    "30800 is a multiple of 11.\n",
    "2937 is a multiple of 11.\n",
    "323455693 is a multiple of 11.\n",
    "5038297 is a multiple of 11.\n",
    "112234 is not a multiple of 11.\n",
    "```"
   ]
  },
  {
   "cell_type": "markdown",
   "id": "24554ce1-0fbc-492d-b394-3ab1eb539905",
   "metadata": {},
   "source": [
    "```cpp\n",
    "#include <iostream>\n",
    "#include <string>\n",
    "\n",
    "using namespace std;\n",
    "int main()\n",
    "{\n",
    "    string s;\n",
    "    while (cin >> s, s != \"0\")\n",
    "    {\n",
    "        int ans = 0;\n",
    "        int np = 1;\n",
    "        for (auto &c : s)\n",
    "        {\n",
    "            ans += np * (c - '0');\n",
    "            np  *= - 1;\n",
    "        }\n",
    "        if (ans % 11 == 0) cout << s << \" is a multiple of 11.\" << endl;\n",
    "        else cout << s << \"\n",
    "    }\n",
    "}\n",
    "```"
   ]
  },
  {
   "cell_type": "markdown",
   "id": "669fd748-10c9-4362-ab2a-add4650a1300",
   "metadata": {},
   "source": [
    "```cpp\n",
    "#include <iostream>\n",
    "#include <string>\n",
    "\n",
    "using namespace std;\n",
    "int main()\n",
    "{\n",
    "    int ans = 0;\n",
    "    for (auto &c : \n",
    "         ans * 10 + (c - '0')) * 11\n",
    "}\n",
    "```\n",
    "\n",
    "```\n",
    "2937\n",
    "\n",
    "(2 * 10 + 9) % 11 --> 7\n",
    "(7 * 10 + 3) % 11 --> 7\n",
    "(7 * 10 + 7) % 11 --> 0\n",
    "```"
   ]
  }
 ],
 "metadata": {
  "kernelspec": {
   "display_name": "C++11",
   "language": "C++11",
   "name": "xcpp11"
  },
  "language_info": {
   "codemirror_mode": "text/x-c++src",
   "file_extension": ".cpp",
   "mimetype": "text/x-c++src",
   "name": "c++",
   "version": "11"
  }
 },
 "nbformat": 4,
 "nbformat_minor": 5
}
