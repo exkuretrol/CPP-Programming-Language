{
 "cells": [
  {
   "cell_type": "markdown",
   "id": "748114d3-e77a-4642-a957-6b07efc92470",
   "metadata": {},
   "source": [
    "```cpp\n",
    "#include <iostream>\n",
    "#include <string>\n",
    "#include <map>\n",
    "using namespace std;\n",
    "\n",
    "int main()\n",
    "{\n",
    "    map<string, int> msi;\n",
    "    string s, t;\n",
    "    cin >> s;\n",
    "    while (cin >> s && getline(cin, t))\n",
    "        msi[s]++;\n",
    "    for (auto &kv : msi) cout << kv.first << \" \" << kv.second << endl;\n",
    "}\n",
    "```"
   ]
  }
 ],
 "metadata": {
  "kernelspec": {
   "display_name": "C++11",
   "language": "C++11",
   "name": "xcpp11"
  },
  "language_info": {
   "codemirror_mode": "text/x-c++src",
   "file_extension": ".cpp",
   "mimetype": "text/x-c++src",
   "name": "c++",
   "version": "11"
  }
 },
 "nbformat": 4,
 "nbformat_minor": 5
}
