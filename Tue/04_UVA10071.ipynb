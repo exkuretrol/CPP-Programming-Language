{
 "cells": [
  {
   "cell_type": "markdown",
   "id": "b375aa16",
   "metadata": {},
   "source": [
    "### Input"
   ]
  },
  {
   "cell_type": "markdown",
   "id": "be237125",
   "metadata": {},
   "source": [
    "The input will contain two integers in each line. Each line makes one set of input. These two integers denote the value of $v(-100 \\leq v \\leq 100)$ and $t(0 \\leq t \\leq 200)$ ($t$ means at the time the particle gains that velocity)"
   ]
  },
  {
   "cell_type": "markdown",
   "id": "83d8ea1c",
   "metadata": {},
   "source": [
    "### Output"
   ]
  },
  {
   "cell_type": "markdown",
   "id": "93ba3058",
   "metadata": {},
   "source": [
    "For each line of input print a single integer in one line denoting the displacement"
   ]
  },
  {
   "cell_type": "markdown",
   "id": "0560c39f",
   "metadata": {},
   "source": [
    "```\n",
    "0 0\n",
    "5 12\n",
    "```"
   ]
  },
  {
   "cell_type": "markdown",
   "id": "1abcf792",
   "metadata": {},
   "source": [
    "```\n",
    "0\n",
    "120\n",
    "```"
   ]
  },
  {
   "cell_type": "code",
   "execution_count": null,
   "id": "a1055e5f-f341-45bc-9122-0bfbe025db96",
   "metadata": {},
   "outputs": [],
   "source": [
    "#include <iostream>\n",
    "using namespace std;"
   ]
  },
  {
   "cell_type": "code",
   "execution_count": null,
   "id": "b7cd5235-36a2-4054-a780-50a048795c1e",
   "metadata": {},
   "outputs": [
    {
     "name": "stdin",
     "output_type": "stream",
     "text": [
      " -1 0\n"
     ]
    }
   ],
   "source": [
    "int v, t;\n",
    "while(cin >> v >> t, v >= 0 && t >= 0)\n",
    "{\n",
    "    cout << 2 * v * t;\n",
    "}\n"
   ]
  }
 ],
 "metadata": {
  "kernelspec": {
   "display_name": "C++11",
   "language": "C++11",
   "name": "xcpp11"
  },
  "language_info": {
   "codemirror_mode": "text/x-c++src",
   "file_extension": ".cpp",
   "mimetype": "text/x-c++src",
   "name": "c++",
   "version": "11"
  }
 },
 "nbformat": 4,
 "nbformat_minor": 5
}
