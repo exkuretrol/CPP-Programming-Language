{
 "cells": [
  {
   "cell_type": "markdown",
   "id": "a2eca8ed-69a3-42c8-97f7-94031ff15b89",
   "metadata": {},
   "source": [
    "```cpp\n",
    "#include <iostream>\n",
    "#include <map>\n",
    "#include <string>\n",
    "using namespace std;\n",
    "\n",
    "int main()\n",
    "{\n",
    "    map<char, string> m;\n",
    "    //        123456789A\n",
    "    m['c'] = \"0111001111\";\n",
    "    m['d'] = \"0111001110\";\n",
    "    m['e'] = \"0111001100\";\n",
    "    m['f'] = \"0111001000\";\n",
    "    m['g'] = \"0111000000\";\n",
    "    m['a'] = \"0110000000\";\n",
    "    m['b'] = \"0100000000\";\n",
    "    m['C'] = \"0010000000\";\n",
    "    m['D'] = \"1111001110\";\n",
    "    m['E'] = \"1111001100\";\n",
    "    m['F'] = \"1111001000\";\n",
    "    m['G'] = \"1111000000\";\n",
    "    m['A'] = \"1110000000\";\n",
    "    m['B'] = \"1100000000\";\n",
    "    \n",
    "    string s;\n",
    "    getline(cin, s);\n",
    "    while (getline(cin, s))\n",
    "    {\n",
    "        string ans(10, 0), state(10, '0');\n",
    "        for (auto &c : s)\n",
    "        {\n",
    "            for (int k = 0; k < 10; k++)\n",
    "            {\n",
    "                if (state[k] != m[c][k] && state[k] == '0') ans[k]++;\n",
    "            }\n",
    "            state = m[c];\n",
    "        }\n",
    "        for (int k = 0; k < 10; k++)\n",
    "        {\n",
    "            if (k) cout << \" \";\n",
    "            cout << (int) ans[k];\n",
    "        }\n",
    "        cout << endl;\n",
    "    }\n",
    "}\n",
    "```"
   ]
  },
  {
   "cell_type": "code",
   "execution_count": null,
   "id": "3a63f5a7-eb9e-4d8c-ac50-f65d206a4dfe",
   "metadata": {},
   "outputs": [],
   "source": []
  }
 ],
 "metadata": {
  "kernelspec": {
   "display_name": "C++11",
   "language": "C++11",
   "name": "xcpp11"
  },
  "language_info": {
   "codemirror_mode": "text/x-c++src",
   "file_extension": ".cpp",
   "mimetype": "text/x-c++src",
   "name": "c++",
   "version": "11"
  }
 },
 "nbformat": 4,
 "nbformat_minor": 5
}
