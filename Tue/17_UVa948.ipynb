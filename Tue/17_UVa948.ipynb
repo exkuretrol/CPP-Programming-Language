{
 "cells": [
  {
   "cell_type": "markdown",
   "id": "c56db632-3674-45b6-9481-73c1ef9b34e0",
   "metadata": {},
   "source": [
    "### Input\n",
    "The first line of input contains a single number N, representing the quantity of numbers that follow $(1 \\leq N \\leq 500)$.\n",
    "Then follow exactly N lines, each one containing a single positive integer smaller than 100 000 000. \n",
    "These numbers can come in any order.\n",
    "\n",
    "### Output\n",
    "You should output a single line for each of the N integers in the input, with the format 'DEC_BASE = FIB_BASE(fib)'. DEC_BASE is the original number in decimal base and FIB_BASE is its representation in Fibonaccimal base. See the sample output for an example."
   ]
  },
  {
   "cell_type": "markdown",
   "id": "da4b02d2-4083-423b-ba18-767f6f7c6353",
   "metadata": {},
   "source": [
    "```cpp\n",
    "#include <iostream>\n",
    "using namespace std;\n",
    "typedef long long LL;\n",
    "int main()\n",
    "{\n",
    "    LL F[80] = {1, 2};\n",
    "    for (int k = 2; k < 80; k++)\n",
    "    {\n",
    "        F[k] = F[k - 1] + F[k - 2];\n",
    "    }\n",
    "    int n;\n",
    "    cin >> n;\n",
    "    while (cin >> n)\n",
    "    {\n",
    "        cout << n << \" = \";\n",
    "        int pd = 0;\n",
    "        for (int m = 50; m >= 0; m--)\n",
    "        {\n",
    "            if (n >= F[m])\n",
    "            {\n",
    "                cout << 1;\n",
    "                pd = 1;\n",
    "                n -= F[m];\n",
    "                continue;\n",
    "            }\n",
    "            if (pd) cout << 0;\n",
    "        }\n",
    "        cout << \" (fib)\" << endl;\n",
    "    }\n",
    "}\n",
    "```"
   ]
  }
 ],
 "metadata": {
  "kernelspec": {
   "display_name": "C++11",
   "language": "C++11",
   "name": "xcpp11"
  },
  "language_info": {
   "codemirror_mode": "text/x-c++src",
   "file_extension": ".cpp",
   "mimetype": "text/x-c++src",
   "name": "c++",
   "version": "11"
  }
 },
 "nbformat": 4,
 "nbformat_minor": 5
}
