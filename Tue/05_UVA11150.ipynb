{
 "cells": [
  {
   "cell_type": "markdown",
   "id": "8551d1b9-3d95-46c1-ba31-5678bf3ace8d",
   "metadata": {},
   "source": [
    "### Input"
   ]
  },
  {
   "cell_type": "markdown",
   "id": "98be613d-c2ad-4cfb-9596-6403e3c8346d",
   "metadata": {},
   "source": []
  },
  {
   "cell_type": "markdown",
   "id": "21bb4ab7-5e1e-4b66-a0d0-f2865c7e9c75",
   "metadata": {},
   "source": [
    "### Output"
   ]
  },
  {
   "cell_type": "markdown",
   "id": "90e63d0d-da34-444c-9920-87fed851a0e0",
   "metadata": {},
   "source": []
  },
  {
   "cell_type": "markdown",
   "id": "13c7b7f4-390a-4511-86a1-0202254c5a52",
   "metadata": {},
   "source": [
    "### Sample Input\n",
    "\n",
    "```\n",
    "8\n",
    "```"
   ]
  },
  {
   "cell_type": "markdown",
   "id": "623c90c5-943d-497c-adba-6f8fbcd474f9",
   "metadata": {},
   "source": [
    "### Sample Output\n",
    "\n",
    "```\n",
    "12\n",
    "```"
   ]
  },
  {
   "cell_type": "code",
   "execution_count": 3,
   "id": "4137d4e4-bd28-4485-ac5f-dcb3b22ed4d3",
   "metadata": {},
   "outputs": [],
   "source": [
    "#include <iostream>\n",
    "using namespace std;"
   ]
  },
  {
   "cell_type": "code",
   "execution_count": 5,
   "id": "c7c4115f-6583-4e41-adde-92f4cd69e9de",
   "metadata": {},
   "outputs": [
    {
     "name": "stdin",
     "output_type": "stream",
     "text": [
      " 8\n"
     ]
    },
    {
     "name": "stdout",
     "output_type": "stream",
     "text": [
      "12"
     ]
    },
    {
     "name": "stdin",
     "output_type": "stream",
     "text": [
      " 0\n"
     ]
    },
    {
     "name": "stdout",
     "output_type": "stream",
     "text": [
      "0"
     ]
    },
    {
     "name": "stdin",
     "output_type": "stream",
     "text": [
      " -1\n"
     ]
    },
    {
     "name": "stdout",
     "output_type": "stream",
     "text": [
      "-1"
     ]
    },
    {
     "name": "stdin",
     "output_type": "stream",
     "text": [
      " --1\n"
     ]
    }
   ],
   "source": [
    "int n;\n",
    "while (cin >> n)\n",
    "{\n",
    "    int e = 0;\n",
    "    int ans = 0;\n",
    "    while (n || e >= 3)\n",
    "    {\n",
    "        ans += n;\n",
    "        e += n;\n",
    "        n = e / 3;\n",
    "        e = e % 3;\n",
    "    }\n",
    "    if (e == 2) ans++;\n",
    "    cout << ans;\n",
    "}"
   ]
  }
 ],
 "metadata": {
  "kernelspec": {
   "display_name": "C++11",
   "language": "C++11",
   "name": "xcpp11"
  },
  "language_info": {
   "codemirror_mode": "text/x-c++src",
   "file_extension": ".cpp",
   "mimetype": "text/x-c++src",
   "name": "c++",
   "version": "11"
  }
 },
 "nbformat": 4,
 "nbformat_minor": 5
}
