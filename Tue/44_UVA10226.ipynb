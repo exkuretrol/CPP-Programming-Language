{
 "cells": [
  {
   "cell_type": "markdown",
   "id": "74d199a5-acc6-40aa-9b86-87df37847a7d",
   "metadata": {
    "tags": []
   },
   "source": [
    "## 題目說明\n",
    "\n",
    "題目描述：給定一些樹的名字，請計算每種樹出現的頻率。\n",
    "\n",
    "輸入：輸入包含多組測試數據，每組測試數據以空行開始，以空行結束。每組測試數據的第一行給出一個正整數n（n <= 10^5），表示樹的名字的總數。接下來的n行給出樹的名字，每行不超過30個字符。\n",
    "\n",
    "輸出：對於每組測試數據，輸出每種樹的名字以及它出現的頻率，每組輸出以空行隔開。\n",
    "\n",
    "### Sample Input\n",
    "```\n",
    "1\n",
    "\n",
    "Red Alder\n",
    "Ash\n",
    "Aspen\n",
    "Basswood\n",
    "Ash\n",
    "Beech\n",
    "Yellow Birch\n",
    "Ash\n",
    "Cherry\n",
    "Cottonwood\n",
    "Ash\n",
    "Cypress\n",
    "Red Elm\n",
    "Gum\n",
    "Hackberry\n",
    "White Oak\n",
    "Hickory\n",
    "Pecan\n",
    "Hard Maple\n",
    "White Oak\n",
    "Soft Maple\n",
    "Red Oak\n",
    "Red Oak\n",
    "White Oak\n",
    "Poplan\n",
    "Sassafras\n",
    "Sycamore\n",
    "Black Walnut\n",
    "Willow\n",
    "\n",
    "```\n",
    "\n",
    "### Sample Output\n",
    "```\n",
    "Ash 13.7931\n",
    "Aspen 3.4483\n",
    "Basswood 3.4483\n",
    "Beech 3.4483\n",
    "Black Walnut 3.4483\n",
    "Cherry 3.4483\n",
    "Cottonwood 3.4483\n",
    "Cypress 3.4483\n",
    "Gum 3.4483\n",
    "Hackberry 3.4483\n",
    "Hard Maple 3.4483\n",
    "Hickory 3.4483\n",
    "Pecan 3.4483\n",
    "Poplan 3.4483\n",
    "Red Alder 3.4483\n",
    "Red Elm 3.4483\n",
    "Red Oak 6.8966\n",
    "Sassafras 3.4483\n",
    "Soft Maple 3.4483\n",
    "Sycamore 3.4483\n",
    "White Oak 10.3448\n",
    "Willow 3.4483\n",
    "Yellow Birch 3.4483\n",
    "```"
   ]
  },
  {
   "cell_type": "markdown",
   "id": "ca4a19f7-62ab-4fa2-a9b1-b77a51253495",
   "metadata": {
    "tags": []
   },
   "source": [
    "## 解題思路"
   ]
  },
  {
   "cell_type": "markdown",
   "id": "460766fe-0875-44f2-a628-e67d568a5116",
   "metadata": {},
   "source": [
    "- 用 `getline(cin, s)` 吃資料\n",
    "- 當讀到資料用 `map<string, int>` 存放資料，`map[s]++`，此時可以邊算總和"
   ]
  },
  {
   "cell_type": "markdown",
   "id": "2ead8be0-090d-47a3-8d9c-14fc3e898ffc",
   "metadata": {
    "tags": []
   },
   "source": [
    "## 程式碼"
   ]
  },
  {
   "cell_type": "markdown",
   "id": "9e57605f-9c56-48ba-8212-569577f78658",
   "metadata": {},
   "source": [
    "```cpp\n",
    "#include <map>\n",
    "#include <string>\n",
    "#include <iostream>\n",
    "using namespace std;\n",
    "\n",
    "int main()\n",
    "{\n",
    "    int n;\n",
    "    cin >> n;\n",
    "    string s;\n",
    "    getline(cin, s);\n",
    "    getline(cin, s);\n",
    "    while (n--)\n",
    "    {\n",
    "        map<string, int> msi;\n",
    "        int sum = 0;\n",
    "        while (getline(cin, s) && s.size()) msi[s]++, sum++;\n",
    "        for (auto &kv : msi)\n",
    "        {\n",
    "            cout << kv.first << \" \";\n",
    "            printf(\"%.4lf\\n\", kv.second * 100.0 / sum);\n",
    "        }\n",
    "        if (n) cout << endl;\n",
    "    }\n",
    "    \n",
    "}\n",
    "```"
   ]
  },
  {
   "cell_type": "code",
   "execution_count": null,
   "id": "f1f0725e-6345-4d14-9105-ff0713a9a8dc",
   "metadata": {},
   "outputs": [],
   "source": []
  }
 ],
 "metadata": {
  "kernelspec": {
   "display_name": "C++11",
   "language": "C++11",
   "name": "xcpp11"
  },
  "language_info": {
   "codemirror_mode": "text/x-c++src",
   "file_extension": ".cpp",
   "mimetype": "text/x-c++src",
   "name": "c++",
   "version": "11"
  }
 },
 "nbformat": 4,
 "nbformat_minor": 5
}
