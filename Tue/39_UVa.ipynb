{
 "cells": [
  {
   "cell_type": "markdown",
   "id": "53044085-98b8-4503-9d4a-bc7dcac94fe9",
   "metadata": {},
   "source": [
    "```cpp\n",
    "#include <iostream>\n",
    "#include <string>\n",
    "using namespace std;\n",
    "\n",
    "int main()\n",
    "{\n",
    "    int m;\n",
    "    while (cin >> m && m)\n",
    "    {\n",
    "        char c;\n",
    "        string str;\n",
    "        int t = 1, n = 2, s = 5, w = 3, e = 4, d = 6;\n",
    "        while (m--)\n",
    "        {\n",
    "            cin >> c >> str;\n",
    "            if (c == 'n') { b = t; t = s; s = d; d = n; n = b; }\n",
    "            if (c == 's') { b = t; t = n; n = d; d = s; s = b; }\n",
    "            if (c == 'e') { b = t; t = w; w = d; d = e; e = b; }\n",
    "            if (c == 'w') { b = t; t = e; e = d; d = w; w = b; }\n",
    "        }\n",
    "        cout << t << endl;\n",
    "    }\n",
    "}\n",
    "\n",
    "```\n",
    "\n",
    "```\n",
    "  \n",
    "  2    N\n",
    " 314  WTE\n",
    "  5    S\n",
    "  6    B\n",
    "```"
   ]
  },
  {
   "cell_type": "code",
   "execution_count": null,
   "id": "50dd1fdb-b7df-43a4-a630-9d54c6eef314",
   "metadata": {},
   "outputs": [],
   "source": []
  }
 ],
 "metadata": {
  "kernelspec": {
   "display_name": "C++11",
   "language": "C++11",
   "name": "xcpp11"
  },
  "language_info": {
   "codemirror_mode": "text/x-c++src",
   "file_extension": ".cpp",
   "mimetype": "text/x-c++src",
   "name": "c++",
   "version": "11"
  }
 },
 "nbformat": 4,
 "nbformat_minor": 5
}
