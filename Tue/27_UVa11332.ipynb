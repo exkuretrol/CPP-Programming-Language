{
 "cells": [
  {
   "cell_type": "markdown",
   "id": "ba77c290-9489-4149-a4df-aab3768103d1",
   "metadata": {},
   "source": [
    "## 題目說明\n",
    "\n",
    "題目描述：給定一個正整數N，將N的每位數相加，得到一個新的數字S。如果S是一位數，則輸出S；否則重複以上步驟，直到得到一位數為止。\n",
    "\n",
    "輸入：每行輸入一個正整數N（0 <= N <= 2^31-1）。\n",
    "\n",
    "輸出：對於每個輸入的正整數N，輸出它的一位數結果。\n",
    "\n",
    "### Sample Input\n",
    "```\n",
    "2\n",
    "11\n",
    "47\n",
    "1234567892\n",
    "0\n",
    "```\n",
    "\n",
    "### Sample Output\n",
    "```\n",
    "2\n",
    "2\n",
    "2\n",
    "2\n",
    "```"
   ]
  },
  {
   "cell_type": "markdown",
   "id": "360cf601-b258-4a06-afcd-4fcbb1da0b61",
   "metadata": {
    "tags": []
   },
   "source": [
    "## 解題思路\n",
    "1. 用 cin 吃資料\n",
    "2. while 數字 >= 10，數字 = 每個位數相加，數字 = 新數字"
   ]
  },
  {
   "cell_type": "markdown",
   "id": "aefff8e7-aa5d-4f17-b5f9-623167058a0a",
   "metadata": {
    "tags": []
   },
   "source": [
    "## 程式碼"
   ]
  },
  {
   "cell_type": "markdown",
   "id": "dfa25df5-de2d-4819-94af-a8746cb46ae9",
   "metadata": {},
   "source": [
    "```cpp\n",
    "#include <iostream>\n",
    "using namespace std;\n",
    "\n",
    "int main()\n",
    "{\n",
    "    int n;\n",
    "    while (cin >> n, n)\n",
    "    {\n",
    "        while (n >= 10)\n",
    "        {\n",
    "            int ds = 0;\n",
    "            while (n) ds += n % 10, n /= 10;\n",
    "            n = ds;\n",
    "        }\n",
    "        cout << n << endl;\n",
    "    }\n",
    "}\n",
    "```"
   ]
  },
  {
   "cell_type": "code",
   "execution_count": null,
   "id": "40489042-679a-49a9-adab-5ccdbbef9ff6",
   "metadata": {},
   "outputs": [],
   "source": []
  }
 ],
 "metadata": {
  "kernelspec": {
   "display_name": "C++11",
   "language": "C++11",
   "name": "xcpp11"
  },
  "language_info": {
   "codemirror_mode": "text/x-c++src",
   "file_extension": ".cpp",
   "mimetype": "text/x-c++src",
   "name": "c++",
   "version": "11"
  }
 },
 "nbformat": 4,
 "nbformat_minor": 5
}
