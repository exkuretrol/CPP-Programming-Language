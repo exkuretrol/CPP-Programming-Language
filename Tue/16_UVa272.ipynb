{
 "cells": [
  {
   "cell_type": "markdown",
   "id": "97a73a89-16b3-40f2-b80e-95fe31cd108b",
   "metadata": {},
   "source": [
    "## 題目說明"
   ]
  },
  {
   "cell_type": "markdown",
   "id": "ed97fc2b-b2f1-491d-8c3a-a6aa51644919",
   "metadata": {},
   "source": [
    "題目描述：將給定的文本中的雙引號替換為TEX格式的引號。TEX格式的引號是用 \\`\\` 和 '' 表示的。\n",
    "\n",
    "輸入：輸入包含多組測試數據，每組測試數據是一個字符串，長度不超過10^5。\n",
    "\n",
    "輸出：對於每組測試數據，輸出替換後的字符串。\n",
    "\n",
    "### Sample Input\n",
    "```\n",
    "\"To be or not to be,\" quoth the Bard, \"that\n",
    "is the question\".\n",
    "The programming contestant replied: \"I must disagree.\n",
    "To `C' or not to `C', that is The Question!\"\n",
    "```\n",
    "\n",
    "### Sample Output\n",
    "```\n",
    "``To be or not to be,'' quoth the Bard, ``that\n",
    "is the question''.\n",
    "The programming contestant replied: ``I must disagree.\n",
    "To `C' or not to `C', that is The Question!''\n",
    "```"
   ]
  },
  {
   "cell_type": "markdown",
   "id": "97a3b269-234e-45f5-b695-5d54e1ac85c3",
   "metadata": {},
   "source": [
    "## 解題思路\n",
    "\n",
    "1. 使用 cin.get 搭配 while 取得每個輸入字元\n",
    "2. 用一個 0-1 之間的整數辨別左括號或是右括號\n"
   ]
  },
  {
   "cell_type": "markdown",
   "id": "cdfe0ebf-8ae3-4129-841c-1c382c2e0d40",
   "metadata": {
    "tags": []
   },
   "source": [
    "## 程式碼"
   ]
  },
  {
   "cell_type": "markdown",
   "id": "c2cca20b-65b9-4507-8bfa-3a0ed707e04d",
   "metadata": {},
   "source": [
    "```cpp\n",
    "#include <iostream>\n",
    "using namespace std;\n",
    "int main()\n",
    "{\n",
    "    char c;\n",
    "    int f = 0;\n",
    "    while (cin.get(c))\n",
    "    {\n",
    "        if (c == '\\\"' && f == 0) \n",
    "        {\n",
    "            cout << \"``\";\n",
    "            f = 1 - f;\n",
    "            continue;\n",
    "        }\n",
    "        if (c == '\\\"' && f == 1)\n",
    "        {\n",
    "            cout << \"''\";\n",
    "            f = 1 - f;\n",
    "            continue;\n",
    "        }\n",
    "        cout << c;\n",
    "    }\n",
    "    return 0;\n",
    "}\n",
    "```"
   ]
  }
 ],
 "metadata": {
  "kernelspec": {
   "display_name": "C++11",
   "language": "C++11",
   "name": "xcpp11"
  },
  "language_info": {
   "codemirror_mode": "text/x-c++src",
   "file_extension": ".cpp",
   "mimetype": "text/x-c++src",
   "name": "c++",
   "version": "11"
  }
 },
 "nbformat": 4,
 "nbformat_minor": 5
}
