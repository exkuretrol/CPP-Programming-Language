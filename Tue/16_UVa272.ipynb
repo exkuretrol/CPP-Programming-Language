{
 "cells": [
  {
   "cell_type": "markdown",
   "id": "ed97fc2b-b2f1-491d-8c3a-a6aa51644919",
   "metadata": {},
   "source": [
    "### Input \n",
    "Input will consist of several lines of test containing an even number of double-quote(\") characters. Input is ended with an end-of-file character.\n",
    "\n",
    "### Output\n",
    "\n",
    "The test must be output exactly as it was input except that:\n",
    "\n",
    "```\n",
    "- the first \" in each pair is replaced by two ` characters: \\`\\` and\n",
    "- the second \" in each pair is replaced by two ' characters: ''.\n",
    "```\n",
    "\n",
    "### Sample Input\n",
    "\n",
    "\n",
    "### Sample Output\n"
   ]
  },
  {
   "cell_type": "markdown",
   "id": "c2cca20b-65b9-4507-8bfa-3a0ed707e04d",
   "metadata": {},
   "source": [
    "```cpp\n",
    "#include <iostream>\n",
    "using namespace std;\n",
    "int main()\n",
    "{\n",
    "    char c;\n",
    "    int f = 0;\n",
    "    while (cin.get(c))\n",
    "    {\n",
    "        if (c == '\\\"' && f == 0) \n",
    "        {\n",
    "            cout << \"``\";\n",
    "            f = 1 - f;\n",
    "            continue;\n",
    "        }\n",
    "        if (c == '\\\"' && f == 1)\n",
    "        {\n",
    "            cout << \"''\";\n",
    "            f = 1 - f;\n",
    "            continue;\n",
    "        }\n",
    "        cout << c;\n",
    "    }\n",
    "    return 0;\n",
    "}\n",
    "```"
   ]
  }
 ],
 "metadata": {
  "kernelspec": {
   "display_name": "C++11",
   "language": "C++11",
   "name": "xcpp11"
  },
  "language_info": {
   "codemirror_mode": "text/x-c++src",
   "file_extension": ".cpp",
   "mimetype": "text/x-c++src",
   "name": "c++",
   "version": "11"
  }
 },
 "nbformat": 4,
 "nbformat_minor": 5
}
