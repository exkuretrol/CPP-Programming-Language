{
 "cells": [
  {
   "cell_type": "markdown",
   "id": "9f6eb029-8c11-471c-ae80-3b8ac2e30b15",
   "metadata": {},
   "source": [
    "### APCS c575"
   ]
  },
  {
   "cell_type": "markdown",
   "id": "2f0530d1-e5a2-46de-8849-30cc31ddc1f1",
   "metadata": {},
   "source": [
    "```\n",
    "K ---> R binary search\n",
    "R ---> K\n",
    "\n",
    "0 1 2 3 4 5 6 7 8 9\n",
    "  * *     *   * *\n",
    "\n",
    "----------------------\n",
    "when\n",
    "D = 2 * R\n",
    "  = 8 ---> K = 1\n",
    "\n",
    "0 1 2 3 4 5 6 7 8 9\n",
    "  * *     *   * *\n",
    "  1 1 1 1 1 1 1 1\n",
    "\n",
    "----------------------\n",
    "when\n",
    "D = 3 ---> K = 2\n",
    "\n",
    "\n",
    "0 1 2 3 4 5 6 7 8 9\n",
    "  * *     *   * *\n",
    "  1 1 1 1 2 2 2 2\n",
    "\n",
    "----------------------\n",
    "when\n",
    "D = 2 ---> K = 3\n",
    "0 1 2 3 4 5 6 7 8 9\n",
    "  * *     *   * *\n",
    "  1 1 1   2 2 2 3 3 3\n",
    "```\n",
    "\n",
    "```cpp\n",
    "function KbyD(D)\n",
    "{\n",
    "\n",
    "}\n",
    "```\n",
    "\n",
    "```cpp\n",
    "function DbyK(K)\n",
    "{\n",
    "    let b = -1, e = n;\n",
    "    while(b+1 != e)\n",
    "    {\n",
    "        let m = (b + e) / 2;\n",
    "        let v = KbyD(m);\n",
    "        if (v <= k) b = m;\n",
    "        else e = m;\n",
    "    }\n",
    "    return b;\n",
    "}\n",
    "```"
   ]
  },
  {
   "cell_type": "markdown",
   "id": "36299bd4-4eab-4486-af2c-5b42d8c26402",
   "metadata": {},
   "source": [
    "喬治的領悟：\n",
    "\n",
    "STL\n",
    "```\n",
    "L                 R\n",
    "---------+---------\n",
    "         0\n",
    "```"
   ]
  },
  {
   "cell_type": "markdown",
   "id": "2928802e-f871-4093-8aad-8601c5f4d61c",
   "metadata": {},
   "source": [
    "find last A[i] $<$ target"
   ]
  },
  {
   "cell_type": "markdown",
   "id": "544b6135-0df3-4b0b-a733-729a094888da",
   "metadata": {},
   "source": [
    "```cpp\n",
    "int A[1024];\n",
    "int n = 100;\n",
    "int t;\n",
    "int main()\n",
    "{\n",
    "    int L = -1;\n",
    "    int R = n;\n",
    "    while (L + 1 != R)\n",
    "    {\n",
    "        int m = (L + R) / 2;\n",
    "        if (A[m] < t) L = m;\n",
    "        else          R = m;\n",
    "    }\n",
    "    if (L == 0) return -1;\n",
    "    return L\n",
    "}\n",
    "```"
   ]
  },
  {
   "cell_type": "markdown",
   "id": "245ecfd4-b2d5-41ca-a276-7f6dd4434b8e",
   "metadata": {},
   "source": [
    "find first A[i] $\\leq$ target"
   ]
  },
  {
   "cell_type": "markdown",
   "id": "6be739b6-87f0-4ae6-94ef-cdc6e599b7fb",
   "metadata": {},
   "source": [
    "```cpp\n",
    "int A[1024];\n",
    "int n = 100;\n",
    "int t;\n",
    "int main()\n",
    "{\n",
    "    int L = -1;\n",
    "    int R = n;\n",
    "    while (L + 1 != R)\n",
    "    {\n",
    "        int m = (L + R) / 2;\n",
    "        if (A[m] <= t) L = m;\n",
    "        else           R = m;\n",
    "    }\n",
    "    if (L == 0) return -1;\n",
    "    return L\n",
    "}\n",
    "```"
   ]
  },
  {
   "cell_type": "markdown",
   "id": "3c241e26-5cba-41ac-9331-e0d641cdbae7",
   "metadata": {},
   "source": [
    "find first A[i] $>$ target"
   ]
  },
  {
   "cell_type": "markdown",
   "id": "a26550e6-0a94-4aa0-8b4d-fe2ea8ce618d",
   "metadata": {},
   "source": [
    "```cpp\n",
    "int A[1024];\n",
    "int n = 100;\n",
    "int t;\n",
    "int main()\n",
    "{\n",
    "    int L = -1;\n",
    "    int R = n;\n",
    "    while (L + 1 != R)\n",
    "    {\n",
    "        int m = (L + R) / 2;\n",
    "        if (A[m] > t) R = m;\n",
    "        else          L = m;\n",
    "    }\n",
    "    if (R == n) return -1;\n",
    "    return R;\n",
    "}\n",
    "```"
   ]
  },
  {
   "cell_type": "markdown",
   "id": "7a3b830f-9900-4b8f-ad12-e680b3230a41",
   "metadata": {},
   "source": [
    "find last A[i] $\\geq$ target"
   ]
  },
  {
   "cell_type": "markdown",
   "id": "ea39cd9b-271e-41f1-80f4-d87afd2c1d96",
   "metadata": {
    "tags": []
   },
   "source": [
    "```cpp\n",
    "int A[1024];\n",
    "int n = 100;\n",
    "int t;\n",
    "int main()\n",
    "{\n",
    "    int L = -1;\n",
    "    int R = n;\n",
    "    while (L + 1 != R)\n",
    "    {\n",
    "        int m = (L + R) / 2;\n",
    "        if (A[m] >= t) R = m;\n",
    "        else           L = m;\n",
    "    }\n",
    "    if (R == n) return -1;\n",
    "    return R\n",
    "}\n",
    "```"
   ]
  },
  {
   "cell_type": "code",
   "execution_count": 30,
   "id": "68876f5e-fc41-4955-a132-e04273326530",
   "metadata": {},
   "outputs": [],
   "source": [
    "int A[] = {0, 5, 10, 15, 20, 25, 30, 35, 40, 45, 50, 55, 60, 65, 70, 75};\n",
    "int n = 14;\n",
    "int t = 61;"
   ]
  },
  {
   "cell_type": "code",
   "execution_count": 31,
   "id": "f1c0e79d-5f79-4c87-b1ef-7411d26348a3",
   "metadata": {},
   "outputs": [],
   "source": [
    "int b()\n",
    "{\n",
    "    int L = -1;\n",
    "    int R = n;\n",
    "    while (L + 1 != R)\n",
    "    {\n",
    "        int m = (L + R) / 2;\n",
    "        if (A[m] >= t) R = m;\n",
    "        else           L = m;\n",
    "    }\n",
    "    if (R == n) return -1;\n",
    "    return R;\n",
    "}"
   ]
  },
  {
   "cell_type": "code",
   "execution_count": 32,
   "id": "e21856fc-c2a1-461c-bcff-73df5e3d9a17",
   "metadata": {},
   "outputs": [
    {
     "data": {
      "text/plain": [
       "13"
      ]
     },
     "execution_count": 32,
     "metadata": {},
     "output_type": "execute_result"
    }
   ],
   "source": [
    "b()"
   ]
  },
  {
   "cell_type": "code",
   "execution_count": 12,
   "id": "c43fb62d-25c4-47cf-a7c8-17e50c6f11cd",
   "metadata": {},
   "outputs": [],
   "source": [
    "// STL; Standard Template Library\n",
    "template <class IT, class C>\n",
    "IT lower_bound(IT b, IT e, C c) // c <= *p     i.e. *p >= c 開區間\n",
    "{\n",
    "    \n",
    "}"
   ]
  },
  {
   "cell_type": "code",
   "execution_count": 13,
   "id": "73aba596-f3b0-4fde-8a35-dded1dad947f",
   "metadata": {},
   "outputs": [],
   "source": [
    "template <class IT, class C>\n",
    "IT upper_bound(IT b, IT e, C c) // c  < *p     i.e. *p >  c 閉區間\n",
    "{\n",
    "    \n",
    "}"
   ]
  }
 ],
 "metadata": {
  "kernelspec": {
   "display_name": "C++14",
   "language": "C++14",
   "name": "xcpp14"
  },
  "language_info": {
   "codemirror_mode": "text/x-c++src",
   "file_extension": ".cpp",
   "mimetype": "text/x-c++src",
   "name": "c++",
   "version": "14"
  }
 },
 "nbformat": 4,
 "nbformat_minor": 5
}
