{
 "cells": [
  {
   "cell_type": "markdown",
   "id": "03f49835-4299-4e60-b22d-73f51cea6ea0",
   "metadata": {},
   "source": [
    "從 Target 中尋找 Pattern\n",
    "\n",
    "T\n",
    "```\n",
    "a b a a a b a b a c b\n",
    "```\n",
    "\n",
    "P\n",
    "```\n",
    "a b a b c\n",
    "```"
   ]
  },
  {
   "cell_type": "markdown",
   "id": "aa20b39b-973c-474d-9954-496484aa78ea",
   "metadata": {},
   "source": [
    "# String Search（AC 自動機）"
   ]
  },
  {
   "cell_type": "code",
   "execution_count": null,
   "id": "8b3c3f86-cf72-42f5-a62f-58a7c8b59450",
   "metadata": {},
   "outputs": [],
   "source": []
  },
  {
   "cell_type": "markdown",
   "id": "7096b7ab-f61a-4cbb-808a-1c0d9adcc337",
   "metadata": {},
   "source": [
    "# KMP Algorithm"
   ]
  },
  {
   "cell_type": "markdown",
   "id": "046fdef2-72dd-4a47-be19-a0b3ebca0bb6",
   "metadata": {},
   "source": [
    "Knuth-Morris-Pratt algorithm"
   ]
  },
  {
   "cell_type": "markdown",
   "id": "cc8f7ee1-a6b3-4fea-9acd-b8f08b4b7d13",
   "metadata": {},
   "source": [
    "最長公共前後綴"
   ]
  },
  {
   "cell_type": "markdown",
   "id": "39a8dc5c-5317-47ea-8753-78c1e064644d",
   "metadata": {},
   "source": [
    "pattern = ababc"
   ]
  },
  {
   "cell_type": "markdown",
   "id": "34650265-e731-474c-9975-51913a95053b",
   "metadata": {},
   "source": [
    "\n",
    "substr | `a        `| `a b      ` | `a b a    ` | `a b a b  ` | `a b a b c`\n",
    "-------|---:|---:|---:|---:|---:\n",
    "prefix | 0  |  0 |  1 |  2 | 0\n",
    "\n"
   ]
  },
  {
   "cell_type": "markdown",
   "id": "f9858a56-fac8-483a-b369-9ca1cad008de",
   "metadata": {},
   "source": [
    "`a b a c a b a b`\n",
    "\n",
    "index | 0| 1| 2| 3| 4| 5| 6| 7\n",
    "------|-:|-:|-:|-:|-:|-:|-:|-:|\n",
    "substr| `a              ` | `a b            ` | `a b a          ` | `a b a c        ` | `a b a c a      ` | `a b a c a b    ` | `a b a c a b a  ` |`a b a c a b a b`\n",
    "T     | a | b | a | c | a | b | a | b \n",
    "prefix|0|0|1|0|1|2|3|2"
   ]
  },
  {
   "cell_type": "markdown",
   "id": "624daa68-786c-4e67-8b12-263e6c2148b9",
   "metadata": {},
   "source": [
    "# 暴力法"
   ]
  },
  {
   "cell_type": "markdown",
   "id": "9c77d43e-7b81-452b-8a82-279d4e9467f7",
   "metadata": {},
   "source": [
    "match -> 位移"
   ]
  }
 ],
 "metadata": {
  "kernelspec": {
   "display_name": "Python (default)",
   "language": "python",
   "name": "python3"
  },
  "language_info": {
   "codemirror_mode": {
    "name": "ipython",
    "version": 3
   },
   "file_extension": ".py",
   "mimetype": "text/x-python",
   "name": "python",
   "nbconvert_exporter": "python",
   "pygments_lexer": "ipython3",
   "version": "3.10.4"
  }
 },
 "nbformat": 4,
 "nbformat_minor": 5
}
