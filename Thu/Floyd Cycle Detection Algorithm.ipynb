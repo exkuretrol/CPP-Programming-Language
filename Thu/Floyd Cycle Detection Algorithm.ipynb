{
 "cells": [
  {
   "cell_type": "markdown",
   "id": "cd2c5d99-e0f7-49b6-87d3-cb38f5659721",
   "metadata": {},
   "source": [
    "# Floyd Cycle Detection Algorithm"
   ]
  },
  {
   "cell_type": "markdown",
   "id": "072f4439-9ba5-4067-9c7f-b933659d9e7e",
   "metadata": {},
   "source": [
    "龜兔賽跑"
   ]
  },
  {
   "cell_type": "markdown",
   "id": "3ad8fdec-bc49-461d-a98a-3bc5c4080fc9",
   "metadata": {},
   "source": [
    "- UVa 350\n",
    "- UVa 11053\n",
    "- UVa 202\n",
    "- UVa 10591"
   ]
  },
  {
   "cell_type": "markdown",
   "id": "1fec7d65-d1fc-4613-9edd-2f4da4d41a5d",
   "metadata": {},
   "source": [
    "https://www.youtube.com/watch?v=VVFPYw8XlGo"
   ]
  },
  {
   "cell_type": "markdown",
   "id": "b4d960a0-5780-4493-999e-81a8b4e45721",
   "metadata": {},
   "source": [
    "5 DP\n",
    "6 DFS"
   ]
  },
  {
   "cell_type": "code",
   "execution_count": null,
   "id": "0a1062ac-206c-4936-8db0-a7194236f1a6",
   "metadata": {},
   "outputs": [],
   "source": []
  },
  {
   "cell_type": "markdown",
   "id": "f47e337d",
   "metadata": {},
   "source": [
    "# Floyd Cycle Detection Algorithm"
   ]
  },
  {
   "cell_type": "markdown",
   "id": "0b894ad9",
   "metadata": {},
   "source": [
    "龜兔賽跑"
   ]
  },
  {
   "cell_type": "markdown",
   "id": "e7770d17",
   "metadata": {},
   "source": [
    "- UVa 350\n",
    "- UVa 11053\n",
    "- UVa 202\n",
    "- UVa 10591"
   ]
  },
  {
   "cell_type": "markdown",
   "id": "4f92361d",
   "metadata": {},
   "source": [
    "https://www.youtube.com/watch?v=VVFPYw8XlGo"
   ]
  },
  {
   "cell_type": "markdown",
   "id": "410c8142",
   "metadata": {},
   "source": [
    "5 DP\n",
    "6 DFS"
   ]
  },
  {
   "cell_type": "code",
   "execution_count": null,
   "id": "f1bdc6ec",
   "metadata": {},
   "outputs": [],
   "source": []
  }
 ],
 "metadata": {
  "kernelspec": {
   "display_name": "C++11",
   "language": "C++11",
   "name": "xcpp11"
  },
  "language_info": {
   "codemirror_mode": "text/x-c++src",
   "file_extension": ".cpp",
   "mimetype": "text/x-c++src",
   "name": "c++",
   "version": "11"
  }
 },
 "nbformat": 4,
 "nbformat_minor": 5
}
