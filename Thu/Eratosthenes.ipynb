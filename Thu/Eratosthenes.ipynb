{
 "cells": [
  {
   "cell_type": "markdown",
   "id": "f1b353a4-17d6-427a-87bb-ac51076c7b4d",
   "metadata": {},
   "source": [
    "# 埃拉托斯特尼篩法"
   ]
  },
  {
   "cell_type": "code",
   "execution_count": null,
   "id": "4e49df47-c47e-49e8-9633-ff628dcba681",
   "metadata": {},
   "outputs": [],
   "source": [
    "#include <iostream>\n",
    "using namespace std;"
   ]
  },
  {
   "cell_type": "markdown",
   "id": "36b34aca-19fd-4868-b972-9d39471f0cea",
   "metadata": {},
   "source": [
    "## 方篩"
   ]
  },
  {
   "cell_type": "code",
   "execution_count": null,
   "id": "2a41dc28-c824-4321-b4a8-72b11824bd98",
   "metadata": {},
   "outputs": [],
   "source": [
    "bool notPrime[10000001];"
   ]
  },
  {
   "cell_type": "code",
   "execution_count": null,
   "id": "1f0c43e8-dcec-4086-912b-aa4542d79fb7",
   "metadata": {},
   "outputs": [],
   "source": [
    "void Eratosthenes(int MAXN)\n",
    "{\n",
    "    notPrime[0] = notPrime[1] = true;\n",
    "    for (int i = 2; i * i <= MAXN; i++)\n",
    "    {\n",
    "        if (!notPrime[i])\n",
    "        {\n",
    "            for (int j = i * i; j <= MAXN; j += i)\n",
    "            {\n",
    "                notPrime[j] = true;\n",
    "            }\n",
    "        }\n",
    "    }\n",
    "}"
   ]
  },
  {
   "cell_type": "markdown",
   "id": "cf31064f-073a-4c77-8dc0-4db9999c3164",
   "metadata": {},
   "source": [
    "## 線篩"
   ]
  },
  {
   "cell_type": "code",
   "execution_count": null,
   "id": "602d5167-53b1-4b85-9cc1-78f0902781d3",
   "metadata": {},
   "outputs": [],
   "source": [
    "bool flag[10000001];\n",
    "vector<int> primeTable;"
   ]
  },
  {
   "cell_type": "code",
   "execution_count": null,
   "id": "a2fd8ac2-212a-485f-b403-1c07b50142a4",
   "metadata": {},
   "outputs": [],
   "source": [
    "void Linear(int MAXN);"
   ]
  },
  {
   "cell_type": "code",
   "execution_count": null,
   "id": "78f23f96-dc42-4512-a0eb-0a739bf947a5",
   "metadata": {
    "tags": []
   },
   "outputs": [
    {
     "name": "stderr",
     "output_type": "stream",
     "text": [
      "input_line_14:6:26: error: use of undeclared identifier 'MAXN'\n",
      "    for (int i = 2; i <= MAXN; i++)\n",
      "                         ^\n",
      "input_line_14:8:44: error: rvalue reference to type 'std::vector<int, std::allocator<int> >::value_type' (aka 'int') cannot bind to lvalue of type 'int'\n",
      "        if (!flag[i]) primeTable.push_back(i);\n",
      "                                           ^\n",
      "/../lib/gcc/x86_64-linux-gnu/9/../../../../include/c++/9/bits/stl_vector.h:1200:30: note: passing argument to parameter '__x' here\n",
      "      push_back(value_type&& __x)\n",
      "                             ^\n",
      "input_line_14:9:46: error: use of undeclared identifier 'MAXN'\n",
      "        for (int j = 0; i * primeTable[j] <= MAXN; j++)\n",
      "                                             ^\n"
     ]
    },
    {
     "ename": "Interpreter Error",
     "evalue": "",
     "output_type": "error",
     "traceback": [
      "Interpreter Error: "
     ]
    }
   ],
   "source": [
    "void Linear(int MAXN);\n",
    "{\n",
    "    flag[0] = flag[1] = true;\n",
    "    \n",
    "    for (int i = 2; i <= MAXN; i++)\n",
    "    {\n",
    "        if (!flag[i]) primeTable.push_back(i);\n",
    "        for (int j = 0; i * primeTable[j] <= MAXN; j++)\n",
    "        {\n",
    "            flag[i * primeTable[j]] = true;\n",
    "            if (i % primeTable[j] == 0) break;\n",
    "        }\n",
    "    }\n",
    "}"
   ]
  },
  {
   "cell_type": "markdown",
   "id": "a5504fc9-43ab-4624-834f-c18bc72600d3",
   "metadata": {},
   "source": [
    "| i | primeTable |\n",
    "|---|------------|\n",
    "| 2 |            |"
   ]
  },
  {
   "cell_type": "markdown",
   "id": "e624c2ed-e9df-4685-a69d-6e3b9f37081a",
   "metadata": {},
   "source": []
  },
  {
   "cell_type": "code",
   "execution_count": null,
   "id": "f0993413-b827-4997-9d49-a1e0e3f182f7",
   "metadata": {},
   "outputs": [],
   "source": []
  },
  {
   "cell_type": "markdown",
   "id": "0cc3df81",
   "metadata": {},
   "source": [
    "# 埃拉托斯特尼篩法"
   ]
  },
  {
   "cell_type": "code",
   "execution_count": null,
   "id": "6cb21d7e",
   "metadata": {},
   "outputs": [],
   "source": [
    "#include <iostream>\n",
    "using namespace std;"
   ]
  },
  {
   "cell_type": "markdown",
   "id": "4f3bb2e8",
   "metadata": {},
   "source": [
    "## 方篩"
   ]
  },
  {
   "cell_type": "code",
   "execution_count": null,
   "id": "bc924099",
   "metadata": {},
   "outputs": [],
   "source": [
    "bool notPrime[10000001];"
   ]
  },
  {
   "cell_type": "code",
   "execution_count": null,
   "id": "26bb4098",
   "metadata": {},
   "outputs": [],
   "source": [
    "void Eratosthenes(int MAXN)\n",
    "{\n",
    "    notPrime[0] = notPrime[1] = true;\n",
    "    for (int i = 2; i * i <= MAXN; i++)\n",
    "    {\n",
    "        if (!notPrime[i])\n",
    "        {\n",
    "            for (int j = i * i; j <= MAXN; j += i)\n",
    "            {\n",
    "                notPrime[j] = true;\n",
    "            }\n",
    "        }\n",
    "    }\n",
    "}"
   ]
  },
  {
   "cell_type": "markdown",
   "id": "a6aea9e1",
   "metadata": {},
   "source": [
    "## 線篩"
   ]
  },
  {
   "cell_type": "code",
   "execution_count": null,
   "id": "cef74a23",
   "metadata": {},
   "outputs": [],
   "source": [
    "bool flag[10000001];\n",
    "vector<int> primeTable;"
   ]
  },
  {
   "cell_type": "code",
   "execution_count": null,
   "id": "0aa3fdc3",
   "metadata": {},
   "outputs": [],
   "source": [
    "void Linear(int MAXN);"
   ]
  },
  {
   "cell_type": "code",
   "execution_count": null,
   "id": "ca56c8b1",
   "metadata": {
    "tags": []
   },
   "outputs": [
    {
     "name": "stderr",
     "output_type": "stream",
     "text": [
      "input_line_14:6:26: error: use of undeclared identifier 'MAXN'\n",
      "    for (int i = 2; i <= MAXN; i++)\n",
      "                         ^\n",
      "input_line_14:8:44: error: rvalue reference to type 'std::vector<int, std::allocator<int> >::value_type' (aka 'int') cannot bind to lvalue of type 'int'\n",
      "        if (!flag[i]) primeTable.push_back(i);\n",
      "                                           ^\n",
      "/../lib/gcc/x86_64-linux-gnu/9/../../../../include/c++/9/bits/stl_vector.h:1200:30: note: passing argument to parameter '__x' here\n",
      "      push_back(value_type&& __x)\n",
      "                             ^\n",
      "input_line_14:9:46: error: use of undeclared identifier 'MAXN'\n",
      "        for (int j = 0; i * primeTable[j] <= MAXN; j++)\n",
      "                                             ^\n"
     ]
    },
    {
     "ename": "Interpreter Error",
     "evalue": "",
     "output_type": "error",
     "traceback": [
      "Interpreter Error: "
     ]
    }
   ],
   "source": [
    "void Linear(int MAXN);\n",
    "{\n",
    "    flag[0] = flag[1] = true;\n",
    "    \n",
    "    for (int i = 2; i <= MAXN; i++)\n",
    "    {\n",
    "        if (!flag[i]) primeTable.push_back(i);\n",
    "        for (int j = 0; i * primeTable[j] <= MAXN; j++)\n",
    "        {\n",
    "            flag[i * primeTable[j]] = true;\n",
    "            if (i % primeTable[j] == 0) break;\n",
    "        }\n",
    "    }\n",
    "}"
   ]
  },
  {
   "cell_type": "markdown",
   "id": "4faedfbf",
   "metadata": {},
   "source": [
    "| i | primeTable |\n",
    "|---|------------|\n",
    "| 2 |            |"
   ]
  },
  {
   "cell_type": "markdown",
   "id": "78443e29",
   "metadata": {},
   "source": []
  },
  {
   "cell_type": "code",
   "execution_count": null,
   "id": "b023c6f1",
   "metadata": {},
   "outputs": [],
   "source": []
  }
 ],
 "metadata": {
  "kernelspec": {
   "display_name": "C++11",
   "language": "C++11",
   "name": "xcpp11"
  },
  "language_info": {
   "codemirror_mode": "text/x-c++src",
   "file_extension": ".cpp",
   "mimetype": "text/x-c++src",
   "name": "c++",
   "version": "11"
  }
 },
 "nbformat": 4,
 "nbformat_minor": 5
}
