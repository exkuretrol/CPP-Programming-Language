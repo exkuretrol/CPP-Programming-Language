{
 "cells": [
  {
   "cell_type": "markdown",
   "id": "bfcdd22e-d2b4-4616-8772-49ec0b774bca",
   "metadata": {},
   "source": [
    "# Chapter 1 認識C++"
   ]
  },
  {
   "cell_type": "markdown",
   "id": "5fdc437c-4016-47f6-8f20-b3e9248d61f0",
   "metadata": {},
   "source": [
    "- compiler（編譯器）：將原始檔（source file）編譯成目的檔（object file）\n",
    "- linker（連結程式）：將目的檔連結函式庫（library）與其他目的檔後，變成可執行檔案（executable file）\n",
    "- semantic error（語意錯誤）：程式可以跑，但是結果不如預期\n",
    "- syntax error（語法錯誤）：程式不能跑，因為語法錯誤"
   ]
  },
  {
   "cell_type": "markdown",
   "id": "dbf17ac9-3cfe-4268-b514-10412a0f9b05",
   "metadata": {},
   "source": [
    "```cpp\n",
    "#include <iostream>\n",
    "#include <cstdlib>\n",
    "\n",
    "using namespace std; \n",
    "\n",
    "// 以下為主程式（main program）\n",
    "int main(void) {\n",
    "    cout << \"Hello, C++\" << endl;\n",
    "    system(\"pause\");\n",
    "    return 0;\n",
    "}\n",
    "```"
   ]
  },
  {
   "cell_type": "markdown",
   "id": "622c8d03-0611-45b9-89b9-aec01f396079",
   "metadata": {},
   "source": [
    "[![](https://mermaid.ink/img/pako:eNptUd1KAkEUfpXhXOsL7EWQrr1A3XW6WNwxhXZW1vUiVCgyChOMiOgHKhN009QIzEirl3Hc2bdoRln1wrsz5_s750wBkrZJQYN9x8imyY6ObHMXQTRrvHLiexd8XEPYI9HoBonJ_vTqnfc7877_Mua1ivBGotVQHGTxuKJ4d8Fzd9q-DnVxZLF5IVF_6Iluf2ksRTOsiMCPB0G1j1AkMWT62m5iPVeXxvz0czK68R96_n15JVxX8Aw_-5GR_LuzgiyiF7Jp_VyZKkFw1PAHl6uTLmd6Gop6dZZSJAm189ebeG1KVjjillo1vJK0nvz1gsavaD_y8gfv3komRMCijmVkTHn8AjJCENw0tSiCJsuU7dCci4CsJJn5rGm4NGFmXNsBzXXyNAJG3rW3D1kyfM85esaQP2mBljIOcrT0D13y0ko)](https://mermaid.live/edit#pako:eNptUd1KAkEUfpXhXOsL7EWQrr1A3XW6WNwxhXZW1vUiVCgyChOMiOgHKhN009QIzEirl3Hc2bdoRln1wrsz5_s750wBkrZJQYN9x8imyY6ObHMXQTRrvHLiexd8XEPYI9HoBonJ_vTqnfc7877_Mua1ivBGotVQHGTxuKJ4d8Fzd9q-DnVxZLF5IVF_6Iluf2ksRTOsiMCPB0G1j1AkMWT62m5iPVeXxvz0czK68R96_n15JVxX8Aw_-5GR_LuzgiyiF7Jp_VyZKkFw1PAHl6uTLmd6Gop6dZZSJAm189ebeG1KVjjillo1vJK0nvz1gsavaD_y8gfv3komRMCijmVkTHn8AjJCENw0tSiCJsuU7dCci4CsJJn5rGm4NGFmXNsBzXXyNAJG3rW3D1kyfM85esaQP2mBljIOcrT0D13y0ko)"
   ]
  }
 ],
 "metadata": {
  "kernelspec": {
   "display_name": "C++14",
   "language": "C++14",
   "name": "xcpp14"
  },
  "language_info": {
   "codemirror_mode": "text/x-c++src",
   "file_extension": ".cpp",
   "mimetype": "text/x-c++src",
   "name": "c++",
   "version": "14"
  }
 },
 "nbformat": 4,
 "nbformat_minor": 5
}
