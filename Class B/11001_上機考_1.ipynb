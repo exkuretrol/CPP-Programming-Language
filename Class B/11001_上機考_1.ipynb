{
 "cells": [
  {
   "cell_type": "code",
   "execution_count": 1,
   "id": "dddfeff8-f32f-45ec-bd10-867da0ac3909",
   "metadata": {},
   "outputs": [],
   "source": [
    "#include <iostream>\n",
    "using namespace std;"
   ]
  },
  {
   "cell_type": "markdown",
   "id": "29405f06-59b7-4dec-87ca-336bc3a8e046",
   "metadata": {},
   "source": [
    "$1.\\ $輸入列數後，輸出相對的圖形。"
   ]
  },
  {
   "cell_type": "code",
   "execution_count": null,
   "id": "6c07aa72-f4c2-453d-a020-9c9519f437a2",
   "metadata": {},
   "outputs": [],
   "source": [
    "// 我猜是輸出形狀，像是三角形或金字塔"
   ]
  },
  {
   "cell_type": "markdown",
   "id": "8da869d4-1a14-466b-bb48-e001a12c9eb4",
   "metadata": {},
   "source": [
    "$2.\\ $輸入正整數$n$，輸出$n\\times n$乘法表。"
   ]
  },
  {
   "cell_type": "code",
   "execution_count": null,
   "id": "cb50ba11-9370-4274-b1e4-0a8e602e3ce6",
   "metadata": {},
   "outputs": [
    {
     "name": "stdin",
     "output_type": "stream",
     "text": [
      " 7\n"
     ]
    },
    {
     "name": "stdout",
     "output_type": "stream",
     "text": [
      "1 * 1 = 1\t2 * 1 = 2\t3 * 1 = 3\t4 * 1 = 4\t5 * 1 = 5\t6 * 1 = 6\t7 * 1 = 7\t\n",
      "1 * 2 = 2\t2 * 2 = 4\t3 * 2 = 6\t4 * 2 = 8\t5 * 2 = 10\t6 * 2 = 12\t7 * 2 = 14\t\n",
      "1 * 3 = 3\t2 * 3 = 6\t3 * 3 = 9\t4 * 3 = 12\t5 * 3 = 15\t6 * 3 = 18\t7 * 3 = 21\t\n",
      "1 * 4 = 4\t2 * 4 = 8\t3 * 4 = 12\t4 * 4 = 16\t5 * 4 = 20\t6 * 4 = 24\t7 * 4 = 28\t\n",
      "1 * 5 = 5\t2 * 5 = 10\t3 * 5 = 15\t4 * 5 = 20\t5 * 5 = 25\t6 * 5 = 30\t7 * 5 = 35\t\n",
      "1 * 6 = 6\t2 * 6 = 12\t3 * 6 = 18\t4 * 6 = 24\t5 * 6 = 30\t6 * 6 = 36\t7 * 6 = 42\t\n",
      "1 * 7 = 7\t2 * 7 = 14\t3 * 7 = 21\t4 * 7 = 28\t5 * 7 = 35\t6 * 7 = 42\t7 * 7 = 49\t\n"
     ]
    }
   ],
   "source": [
    "int n;\n",
    "cin >> n; // n = 7\n",
    "for (int i = 1; i <= n; i++)\n",
    "{\n",
    "    for (int j = 1; j <= n; j++)\n",
    "    {\n",
    "        printf(\"%d * %d = %d\\t\", j, i, i * j);\n",
    "    }\n",
    "    cout << endl;\n",
    "}"
   ]
  },
  {
   "cell_type": "markdown",
   "id": "649ae7ac-0dcc-433a-85d3-b03a21ecb0d7",
   "metadata": {},
   "source": [
    "$3.\\ $輸入正整數$n$，輸出$n$個 Fibonacci Numbers$(1, 1, 2, 3, 5, 8, 13, 21, 34, \\dots)$。"
   ]
  },
  {
   "cell_type": "code",
   "execution_count": null,
   "id": "eb2e75a0-e260-4066-b535-3de8d7bb76d8",
   "metadata": {},
   "outputs": [],
   "source": [
    "// F_0 = 0\n",
    "// F_1 = 1\n",
    "// F_n = F_{n - 1} + F_{n - 2}\n",
    "\n",
    "int fibnum(int n)\n",
    "{\n",
    "    if (n == 0) return 0;\n",
    "    if (n == 1) return 1;\n",
    "    return fibnum(n - 1) + fibnum(n - 2);\n",
    "}"
   ]
  },
  {
   "cell_type": "code",
   "execution_count": null,
   "id": "eb536177-5dd0-4300-ade2-ad7a4843ec64",
   "metadata": {},
   "outputs": [
    {
     "name": "stdin",
     "output_type": "stream",
     "text": [
      " 9\n"
     ]
    },
    {
     "name": "stdout",
     "output_type": "stream",
     "text": [
      "1, 1, 2, 3, 5, 8, 13, 21, 34"
     ]
    }
   ],
   "source": [
    "int n;\n",
    "cin >> n; // n = 9\n",
    "for (int i = 0; i <= n; i++)\n",
    "{\n",
    "    if (i == 0) continue;\n",
    "    if (i == n) cout << fibnum(i);\n",
    "    else cout << fibnum(i) << \", \";\n",
    "}"
   ]
  },
  {
   "cell_type": "markdown",
   "id": "565d654b-fd0d-4c12-86a4-799ad17c8dd9",
   "metadata": {},
   "source": [
    "$4.\\ $輸入一個正奇數，若非正奇數，須繼續輸入。輸出$1$到此數的奇數和。"
   ]
  },
  {
   "cell_type": "code",
   "execution_count": null,
   "id": "534ba88f-4c68-469b-be46-7b3e8bd7ddf4",
   "metadata": {},
   "outputs": [
    {
     "name": "stdin",
     "output_type": "stream",
     "text": [
      " 2\n",
      " 15\n"
     ]
    },
    {
     "name": "stdout",
     "output_type": "stream",
     "text": [
      "64"
     ]
    }
   ],
   "source": [
    "while (cin >> n) // n = 2, 15\n",
    "{\n",
    "    if (n % 2 != 0)\n",
    "    {\n",
    "        int acc = 0;\n",
    "        for (int i = 1; i <= n; i += 2)\n",
    "        {\n",
    "            acc += i;\n",
    "        }\n",
    "        cout << acc;\n",
    "        break;\n",
    "    }\n",
    "}"
   ]
  },
  {
   "cell_type": "markdown",
   "id": "4d911de9-8a45-41fb-8480-ea40afee8d83",
   "metadata": {},
   "source": [
    "$5.\\ $輸入一個十進位正整數，輸出相應之二進位數字。"
   ]
  },
  {
   "cell_type": "code",
   "execution_count": 11,
   "id": "e06422a5-e275-48c8-9941-55b34584fc1d",
   "metadata": {},
   "outputs": [
    {
     "name": "stdin",
     "output_type": "stream",
     "text": [
      " 8\n"
     ]
    },
    {
     "name": "stdout",
     "output_type": "stream",
     "text": [
      "b00001000"
     ]
    }
   ],
   "source": [
    "int n;\n",
    "int b[8];\n",
    "cin >> n; // n = 8\n",
    "for (int i = 0; n > 0; i++)\n",
    "{\n",
    "    b[i] = n % 2;\n",
    "    n /= 2;\n",
    "}\n",
    "cout << \"b\";\n",
    "for (int i = 7; i >= 0; i--) cout << b[i]"
   ]
  },
  {
   "cell_type": "markdown",
   "id": "03032fa8-954d-4655-a1ef-9b23ec0fea16",
   "metadata": {},
   "source": [
    "$6.\\ $輸入一些正整數（$-1$代表結束），輸出這些整數中的最大值與最小值。"
   ]
  },
  {
   "cell_type": "code",
   "execution_count": null,
   "id": "aa9fc7f3-5c6d-4d42-a3f9-7332f75620d9",
   "metadata": {},
   "outputs": [],
   "source": [
    "#include <limits.h>"
   ]
  },
  {
   "cell_type": "code",
   "execution_count": null,
   "id": "0f694b28-8f50-4594-ad54-df74fd0c3dff",
   "metadata": {},
   "outputs": [
    {
     "name": "stdin",
     "output_type": "stream",
     "text": [
      " 123 4 -1\n"
     ]
    },
    {
     "name": "stdout",
     "output_type": "stream",
     "text": [
      "Maximum: 123\n",
      "Minimum: 4\n"
     ]
    }
   ],
   "source": [
    "int n, max = INT_MIN, min = INT_MAX;\n",
    "while (cin >> n) // n = 123, 4, -1\n",
    "{\n",
    "    if (n == -1 && max == INT_MIN && min == INT_MAX)\n",
    "    {\n",
    "        cout << \"請先輸入 -1 以外的數值才能比較！\";\n",
    "        break;\n",
    "    }\n",
    "    if (n == -1)\n",
    "    {\n",
    "        printf(\"Maximum: %d\\nMinimum: %d\\n\", max, min);\n",
    "        break;\n",
    "    }\n",
    "    if (n > max) max = n;\n",
    "    if (n < min) min = n;\n",
    "}"
   ]
  },
  {
   "cell_type": "markdown",
   "id": "9cf88ba4-a958-4082-9a02-3c19022cebcd",
   "metadata": {},
   "source": [
    "$7.\\ $假設西元 2021 年 1 月 1 日為星期五。輸入 2021 年某月某日，輸出：\n",
    "\n",
    "    a. 該日期為星期幾\n",
    "    b. 該月份之月曆"
   ]
  },
  {
   "cell_type": "code",
   "execution_count": null,
   "id": "08d1719f-4183-4946-b209-fd862f4ecd96",
   "metadata": {},
   "outputs": [],
   "source": [
    "#include <string>"
   ]
  },
  {
   "cell_type": "code",
   "execution_count": null,
   "id": "d4b611f0-9678-4747-b496-05685b74443f",
   "metadata": {},
   "outputs": [],
   "source": [
    "int mday(int m)\n",
    "{\n",
    "    switch(m)\n",
    "    {\n",
    "        case 1: case 3: case 5: case 7: case 8: case 10: case 12:\n",
    "            return 31;\n",
    "            break;\n",
    "        case 2:\n",
    "            return 28;\n",
    "            break;\n",
    "        case 4: case 6: case 9: case 11:\n",
    "            return 30;\n",
    "            break;\n",
    "        default:\n",
    "            return -1;\n",
    "    }\n",
    "}"
   ]
  },
  {
   "cell_type": "code",
   "execution_count": null,
   "id": "d0e7e41f-19a4-4a0a-b13c-9c6817f34d06",
   "metadata": {},
   "outputs": [
    {
     "name": "stdout",
     "output_type": "stream",
     "text": [
      "2021-11-27 是星期六"
     ]
    }
   ],
   "source": [
    "// 2021年某月某日\n",
    "// 2021/1/1 是星期五\n",
    "string w[7] = {\"日\", \"一\", \"二\", \"三\", \"四\", \"五\", \"六\"};\n",
    "int m = 11;\n",
    "int n = 27;\n",
    "\n",
    "int acc = 0;\n",
    "int acc_2 = 0;\n",
    "\n",
    "if (m == 1) \n",
    "{\n",
    "    acc = n;\n",
    "}\n",
    "\n",
    "if (m > 1)\n",
    "{\n",
    "    for (int i = 1; i < m; i++)\n",
    "    {\n",
    "        acc += mday(i);\n",
    "        acc_2 += mday(i);\n",
    "    }\n",
    "    acc += n;\n",
    "}\n",
    "acc_2 += 1;\n",
    "int w_ind = (acc + 4) % 7;\n",
    "\n",
    "int first_day_ind = (acc_2 + 4) % 7;\n",
    "cout << 2021 << \"-\" << m << \"-\" << n << \" 是星期\" << w[w_ind];"
   ]
  },
  {
   "cell_type": "code",
   "execution_count": null,
   "id": "97316aee-8a55-4ed5-af80-197fb2f23c21",
   "metadata": {},
   "outputs": [
    {
     "name": "stdout",
     "output_type": "stream",
     "text": [
      "2021-11\n",
      "\t日\t一\t二\t三\t四\t五\t六\n",
      "\t \t 1\t 2\t 3\t 4\t 5\t 6\n",
      "\t 7\t 8\t 9\t10\t11\t12\t13\n",
      "\t14\t15\t16\t17\t18\t19\t20\n",
      "\t21\t22\t23\t24\t25\t26\t27\n",
      "\t28\t29\t30"
     ]
    }
   ],
   "source": [
    "int l = sizeof(w) / sizeof(w[0]);\n",
    "\n",
    "cout << \"2021\" << \"-\" << m << endl;\n",
    "for (int i = 0; i < l; i++)\n",
    "{\n",
    "    cout << \"\\t\" << w[i];\n",
    "}\n",
    "cout << endl;\n",
    "\n",
    "for (int j = 0; j < first_day_ind; j++) cout << \"\\t \";\n",
    "\n",
    "for (int i = 1; i <= mday(m); i++)\n",
    "{\n",
    "    cout << \"\\t\";\n",
    "    printf(\"%2d\", i);\n",
    "    if ((i + first_day_ind) % 7 == 0) cout << endl;\n",
    "}"
   ]
  },
  {
   "cell_type": "markdown",
   "id": "3504afcc-f323-4973-afaf-5a135a0c516f",
   "metadata": {},
   "source": [
    "$8.\\ $請寫一個函數判斷整數是否為質數，函數中不能有輸入或輸出。並於主程式輸入正整數$n$，就由呼叫此函數，輸出大於$1$且小於$n$的質數。"
   ]
  },
  {
   "cell_type": "code",
   "execution_count": 2,
   "id": "519e01dd-2314-4b38-8154-2ff8c7f3457f",
   "metadata": {},
   "outputs": [],
   "source": [
    "bool primeOrNot(int n) // 8\n",
    "{\n",
    "    for (int i = 2; i < n; i++)\n",
    "    {\n",
    "        if (n % i == 0) return false;\n",
    "    }\n",
    "    return true;\n",
    "}"
   ]
  },
  {
   "cell_type": "code",
   "execution_count": 3,
   "id": "3fc63115-e7bf-4f03-9779-bcea09f6b8cd",
   "metadata": {},
   "outputs": [],
   "source": [
    "void primeList(int n) // 2\n",
    "{\n",
    "    int counter = 0;\n",
    "    for (int i = 2; 1; i++)\n",
    "    {\n",
    "        if (primeOrNot(i)) \n",
    "        {\n",
    "            cout << i;\n",
    "            counter++;\n",
    "            if (counter == n) break;\n",
    "            else cout << \", \";\n",
    "        }\n",
    "    }\n",
    "}"
   ]
  },
  {
   "cell_type": "code",
   "execution_count": 4,
   "id": "ef30f49c-9e26-4605-9b71-5f11f2982c31",
   "metadata": {},
   "outputs": [
    {
     "name": "stdout",
     "output_type": "stream",
     "text": [
      "2, 3"
     ]
    }
   ],
   "source": [
    "primeList(2);"
   ]
  },
  {
   "cell_type": "markdown",
   "id": "0bdf84c4-5a75-4637-8dce-04c8de17a72c",
   "metadata": {},
   "source": [
    "$9.\\ $請寫一函數（function）計算整數次方，當傳入整數$x$，則回傳整數$x ^ 2$。於主程式輸入整數$n(n \\leq 10)$，藉呼叫此函數，輸出$1^1 + 2^2 + 3^3 + \\dots + n^n$的總和。"
   ]
  },
  {
   "cell_type": "code",
   "execution_count": null,
   "id": "f1960a62-f46b-4c4f-8089-6a06f3c32f23",
   "metadata": {},
   "outputs": [],
   "source": [
    "int pow(int b, int p)\n",
    "{\n",
    "    if (p == 1) return b;\n",
    "    return b * pow(b, p - 1);\n",
    "}"
   ]
  },
  {
   "cell_type": "code",
   "execution_count": null,
   "id": "f58a83d4-c4f7-4fdb-b0be-7940f69e04c7",
   "metadata": {},
   "outputs": [
    {
     "name": "stdin",
     "output_type": "stream",
     "text": [
      " 10\n"
     ]
    },
    {
     "name": "stdout",
     "output_type": "stream",
     "text": [
      "1815136725"
     ]
    }
   ],
   "source": [
    "int n;\n",
    "cin >> n;\n",
    "int acc = 0;\n",
    "for (int i = 1; i <= n; i++)\n",
    "{\n",
    "    acc += pow(i, i); \n",
    "}\n",
    "cout << acc;"
   ]
  },
  {
   "cell_type": "markdown",
   "id": "cff59cfa-d813-40cc-bb25-5609d6a9b18c",
   "metadata": {},
   "source": [
    "$10.\\ $輸入兩個正整數，判斷兩數相加過程中會發生幾次進位？"
   ]
  },
  {
   "cell_type": "markdown",
   "id": "7f161236-e202-4d84-a026-9ff258adfb97",
   "metadata": {},
   "source": [
    "方法一：用字串做"
   ]
  },
  {
   "cell_type": "code",
   "execution_count": null,
   "id": "16dce83d-d47d-43eb-b26a-0e0e54d8e901",
   "metadata": {},
   "outputs": [],
   "source": [
    "#include <string>"
   ]
  },
  {
   "cell_type": "code",
   "execution_count": null,
   "id": "9b9641e1-5c57-45f0-a4d5-ea39be8c17b2",
   "metadata": {},
   "outputs": [
    {
     "name": "stdin",
     "output_type": "stream",
     "text": [
      " 999999999 1\n"
     ]
    },
    {
     "data": {
      "text/plain": [
       "@0x7f285620c600"
      ]
     },
     "execution_count": 62,
     "metadata": {},
     "output_type": "execute_result"
    }
   ],
   "source": [
    "long long int a, b;\n",
    "string str_a, str_b;\n",
    "cin >> a >> b; // a = 999999999; b = 1"
   ]
  },
  {
   "cell_type": "code",
   "execution_count": null,
   "id": "e6fe81e9-9781-4eca-9149-0d4d9fe81c58",
   "metadata": {},
   "outputs": [],
   "source": [
    "str_a = to_string(a);\n",
    "str_b = to_string(b);"
   ]
  },
  {
   "cell_type": "code",
   "execution_count": null,
   "id": "d6ab8d36-3012-40bd-a509-164a91b573ef",
   "metadata": {},
   "outputs": [],
   "source": [
    "int len_a = str_a.size();\n",
    "int len_b = str_b.size();"
   ]
  },
  {
   "cell_type": "code",
   "execution_count": null,
   "id": "92ac1418-7018-4011-ac25-ea353c73df67",
   "metadata": {},
   "outputs": [],
   "source": [
    "if (len_a > len_b)\n",
    "{\n",
    "    for (int i = 0; i < len_a - len_b; i++) str_b = \"0\" + str_b;\n",
    "}\n",
    "else\n",
    "{\n",
    "    for (int i = 0; i < len_b - len_a; i++) str_a = \"0\" + str_a;\n",
    "}"
   ]
  },
  {
   "cell_type": "code",
   "execution_count": null,
   "id": "b768590b-f6b9-4703-a3e4-015a80fee452",
   "metadata": {},
   "outputs": [],
   "source": [
    "str_b = \"0\" + str_b;\n",
    "str_a = \"0\" + str_a;"
   ]
  },
  {
   "cell_type": "code",
   "execution_count": null,
   "id": "c0e45e1a-ea79-4808-b2dd-cff96547e68e",
   "metadata": {},
   "outputs": [],
   "source": [
    "int getLastDigit(string a)\n",
    "{\n",
    "    return a.back() - '0';\n",
    "}"
   ]
  },
  {
   "cell_type": "code",
   "execution_count": null,
   "id": "53ec3e58-3163-43a2-a9f4-5a723cee9b48",
   "metadata": {},
   "outputs": [],
   "source": [
    "int calcCarry(string a, string b, int add = 0, bool carry = false)\n",
    "{\n",
    "    int last_a = getLastDigit(a);\n",
    "    int last_b = getLastDigit(b);\n",
    "    a.pop_back();\n",
    "    b.pop_back();\n",
    "    \n",
    "    int overflow = ((((carry) ? 1 : 0) + last_a + last_b) > 9) ? 1 : 0;\n",
    "    \n",
    "    if (a.size() == 0 && b.size() == 0) return add;\n",
    "    return calcCarry(a, b, add += overflow, (overflow == 1) ? true : false);\n",
    "}"
   ]
  },
  {
   "cell_type": "code",
   "execution_count": null,
   "id": "ff4168a3-45d8-41ee-8a4f-0054f6f116cf",
   "metadata": {},
   "outputs": [
    {
     "data": {
      "text/plain": [
       "9"
      ]
     },
     "execution_count": 54,
     "metadata": {},
     "output_type": "execute_result"
    }
   ],
   "source": [
    "calcCarry(str_a, str_b, 0, false)"
   ]
  },
  {
   "cell_type": "markdown",
   "id": "568ef93c-e525-4507-86a3-fee927da3101",
   "metadata": {},
   "source": [
    "方法二：用數字算"
   ]
  },
  {
   "cell_type": "code",
   "execution_count": null,
   "id": "4f86585d-a192-4625-afe9-eea2ca574ab1",
   "metadata": {},
   "outputs": [],
   "source": [
    "int calcCarry2 (int a, int b, bool carry = false, int counter = 0)\n",
    "{\n",
    "    if (a == 0 && b == 0) return counter;\n",
    "    int last_a = a % 10;\n",
    "    int last_b = b % 10;\n",
    "    int overflow = ((((carry) ? 1 : 0) + last_a + last_b) > 9) ? true : false;\n",
    "    return calcCarry2(a / 10, b / 10, overflow, counter += overflow);\n",
    "}"
   ]
  },
  {
   "cell_type": "code",
   "execution_count": null,
   "id": "daa68983-4603-4319-aa32-b6d446076545",
   "metadata": {},
   "outputs": [
    {
     "data": {
      "text/plain": [
       "9"
      ]
     },
     "execution_count": 63,
     "metadata": {},
     "output_type": "execute_result"
    }
   ],
   "source": [
    "calcCarry2(a, b)"
   ]
  },
  {
   "cell_type": "markdown",
   "id": "716d677b-c119-4f73-8e63-4074f97d4a28",
   "metadata": {},
   "source": [
    "方法三：while 王浩人提供"
   ]
  },
  {
   "cell_type": "code",
   "execution_count": null,
   "id": "1b4b87db-5a07-4a60-92fb-dc27bd4a1c76",
   "metadata": {},
   "outputs": [
    {
     "name": "stdout",
     "output_type": "stream",
     "text": [
      "9"
     ]
    }
   ],
   "source": [
    "int carry = 0, times = 0;\n",
    "int x = a, y = b;\n",
    "while (x % 10 || y % 10)\n",
    "{\n",
    "    a = x % 10;\n",
    "    b = y % 10;\n",
    "    x /= 10;\n",
    "    y /= 10;\n",
    "    if (a + b + carry >= 10) \n",
    "    {\n",
    "        times++;\n",
    "        carry = 1;\n",
    "    }\n",
    "    else carry = 0;\n",
    "}\n",
    "cout << times;"
   ]
  }
 ],
 "metadata": {
  "kernelspec": {
   "display_name": "C++11",
   "language": "C++11",
   "name": "xcpp11"
  },
  "language_info": {
   "codemirror_mode": "text/x-c++src",
   "file_extension": ".cpp",
   "mimetype": "text/x-c++src",
   "name": "c++",
   "version": "11"
  }
 },
 "nbformat": 4,
 "nbformat_minor": 5
}
