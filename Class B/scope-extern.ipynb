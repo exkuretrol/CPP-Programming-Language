{
 "cells": [
  {
   "cell_type": "markdown",
   "id": "ba392e34-29a5-4b9d-85a2-d18d4414e48c",
   "metadata": {},
   "source": [
    "# 期末考上機考可能會考的題目"
   ]
  },
  {
   "cell_type": "markdown",
   "id": "440232bd-1068-4323-8f71-dd2788e1fde9",
   "metadata": {},
   "source": [
    "## scope"
   ]
  },
  {
   "cell_type": "markdown",
   "id": "e8b79081-2a0a-4216-b005-fb00bcdbea2e",
   "metadata": {},
   "source": [
    "- 視野（scope）：變數能應用的地方\n",
    "    - program scope\n",
    "    - file scope\n",
    "    - function scope\n",
    "    - block scope"
   ]
  },
  {
   "cell_type": "code",
   "execution_count": null,
   "id": "60fe8d22-7898-4e2c-809a-6d04aca97fea",
   "metadata": {},
   "outputs": [],
   "source": [
    "#include <iostream>\n",
    "using namespace std;"
   ]
  },
  {
   "cell_type": "markdown",
   "id": "5f9b2628-b4f8-4ff2-8055-63a17723b81c",
   "metadata": {},
   "source": [
    "### block scope"
   ]
  },
  {
   "cell_type": "code",
   "execution_count": null,
   "id": "12bf1821-125d-41e0-9770-30fcf28de12f",
   "metadata": {},
   "outputs": [],
   "source": [
    "int f(void)\n",
    "{\n",
    "    // outer scope\n",
    "    int i = 0, x = 3;\n",
    "    {\n",
    "        // innter scope\n",
    "        int i = 1, y = 5;\n",
    "        cout << \"> inner <\" << endl;\n",
    "        cout << \"i: \" << i << endl << \"y: \" << y << endl;\n",
    "    }\n",
    "    cout << \"> outer <\" << endl;\n",
    "    cout << \"i: \" << i << endl << \"x: \" << x;\n",
    "    return 0;\n",
    "}"
   ]
  },
  {
   "cell_type": "code",
   "execution_count": null,
   "id": "b5989c24-ab7d-4690-b4f3-22076487f567",
   "metadata": {},
   "outputs": [
    {
     "name": "stdout",
     "output_type": "stream",
     "text": [
      "> inner <\n",
      "i: 1\n",
      "y: 5\n",
      "> outer <\n",
      "i: 0\n",
      "x: 3"
     ]
    }
   ],
   "source": [
    "f();"
   ]
  },
  {
   "cell_type": "markdown",
   "id": "0ad9c8c8-81ae-4401-bd1d-27a6cc26d4dd",
   "metadata": {},
   "source": [
    "## extent"
   ]
  },
  {
   "cell_type": "markdown",
   "id": "9f6ca285-ba38-4682-869a-890b62c7556b",
   "metadata": {},
   "source": [
    "- 生命期（extent）：變數在記憶體中存活的時間\n",
    "    - static extent：所需的記憶體與整個程式共存亡，static -> data\n",
    "    - local extent：真正要使用時才產生，不使用則釋放記憶體，local -> stack"
   ]
  },
  {
   "cell_type": "markdown",
   "id": "7d556dd1-d5d3-4f83-b066-33f0964e485a",
   "metadata": {},
   "source": [
    "<div style=\"display: grid; place-items: center; width: 100%;\">\n",
    "<img src=\"attachment:598f2bf4-ab2d-4201-be11-bc9b188395e1.png\" width=\"20%\"/>\n",
    "</div>\n"
   ]
  },
  {
   "cell_type": "markdown",
   "id": "7e55394f-fe37-432d-9139-08824470df9c",
   "metadata": {},
   "source": [
    "- Storage Class\n",
    "    - auto\n",
    "    - static auto\n",
    "    - global (extern)\n",
    "    - static global\n",
    "    - register"
   ]
  },
  {
   "cell_type": "markdown",
   "id": "9548b2ce-fa1f-481b-985b-f3ac61757472",
   "metadata": {},
   "source": [
    "auto variable\n",
    "\n",
    "- scope: function / block\n",
    "- extent: local\n",
    "\n",
    "> declare in function / block\n",
    "\n"
   ]
  },
  {
   "cell_type": "code",
   "execution_count": null,
   "id": "4540282a-91fb-4be7-b6b7-3805779687f6",
   "metadata": {},
   "outputs": [],
   "source": [
    "void f()  \n",
    "{\n",
    "    int i = 0;\n",
    "    i++;\n",
    "    cout << \"i = \" << i << endl;\n",
    "}"
   ]
  },
  {
   "cell_type": "code",
   "execution_count": null,
   "id": "c112dd0c-7106-4a23-bd9b-321e175f225d",
   "metadata": {},
   "outputs": [
    {
     "name": "stdout",
     "output_type": "stream",
     "text": [
      "i = 1\n",
      "i = 1\n",
      "i = 1\n"
     ]
    }
   ],
   "source": [
    "int i;\n",
    "for (i = 0; i < 3; i++) f();"
   ]
  },
  {
   "cell_type": "markdown",
   "id": "fdb2ad64-45f6-4555-b799-602e326631c3",
   "metadata": {},
   "source": [
    "static auto variable\n",
    "\n",
    "- scope: function / block\n",
    "- extent: static\n",
    "\n",
    "> compile 時即配置了記憶體空間（space），執行時會佔用同樣的位置。若有初值的設定，只會設定一次。"
   ]
  },
  {
   "cell_type": "code",
   "execution_count": null,
   "id": "0e4108c8-b98f-40a6-a738-d41c9dff9b2e",
   "metadata": {
    "collapsed": true,
    "jupyter": {
     "outputs_hidden": true
    },
    "tags": []
   },
   "outputs": [
    {
     "name": "stderr",
     "output_type": "stream",
     "text": [
      "input_line_7:5:5: error: use of undeclared identifier 'cout'\n",
      "    cout << \"i = \" << i << endl;\n",
      "    ^\n",
      "input_line_7:5:28: error: use of undeclared identifier 'endl'; did you mean 'std::endl'?\n",
      "    cout << \"i = \" << i << endl;\n",
      "                           ^~~~\n",
      "                           std::endl\n",
      "/../lib/gcc/x86_64-linux-gnu/9/../../../../include/c++/9/ostream:599:5: note: 'std::endl' declared here\n",
      "    endl(basic_ostream<_CharT, _Traits>& __os)\n",
      "    ^\n"
     ]
    },
    {
     "ename": "Interpreter Error",
     "evalue": "",
     "output_type": "error",
     "traceback": [
      "Interpreter Error: "
     ]
    }
   ],
   "source": [
    "void f()\n",
    "{\n",
    "    static int i = 0;\n",
    "    i++;\n",
    "    cout << \"i = \" << i << endl;\n",
    "}"
   ]
  },
  {
   "cell_type": "code",
   "execution_count": null,
   "id": "f6b5ecb9-7338-4b80-9fdb-a8ade3413824",
   "metadata": {},
   "outputs": [
    {
     "name": "stdout",
     "output_type": "stream",
     "text": [
      "i = 1\n",
      "i = 2\n",
      "i = 3\n"
     ]
    }
   ],
   "source": [
    "int i;\n",
    "for (i = 0; i < 3; i++) f();"
   ]
  },
  {
   "cell_type": "markdown",
   "id": "0a7a2758-af43-4914-b930-67bbee3d4d2d",
   "metadata": {},
   "source": [
    "global variable (extern variable)\n",
    "\n",
    "- scope: \n",
    "    1. 由定義開始處開始至檔案結束為「自然視野（natural scope）」。\n",
    "    2. 任何不在自然視野內之 functions 可以藉由 `extern` 宣告來拓展視野。\n",
    "       <br>如果 `extern` 於 function\n",
    "        - 內：視野僅及於該 function 內。\n",
    "        - 外：視野從宣告開始至檔案結束。\n",
    "    3. files 之間亦可以用 extern 來拓展視野。\n",
    "- extent: static"
   ]
  },
  {
   "cell_type": "markdown",
   "id": "9e88f10d-7d20-4ee3-8bfb-83fb3a61e224",
   "metadata": {},
   "source": [
    "```cpp\n",
    "// file1.cpp\n",
    "\n",
    "int x;\n",
    "main ()             // x ⤵\n",
    "{\n",
    "    extern int z;   // z ← 拓展 z 的視野\n",
    "                    //     僅能在 {} 裡面作用\n",
    "    ...\n",
    "}       \n",
    "\n",
    "int y;  \n",
    "f1() {...}          // x, y ⤵\n",
    "\n",
    "\n",
    "f2() {...}\n",
    "int z;              // x, y, z ⤵ \n",
    "\n",
    "cout << x << y; \n",
    "```"
   ]
  },
  {
   "cell_type": "markdown",
   "id": "bac824e2-a9ce-488b-a8cb-255791a4cfab",
   "metadata": {},
   "source": [
    "```cpp\n",
    "// file2.cpp\n",
    "\n",
    "f3() {...}\n",
    "\n",
    "extern z;           // z ⤵ 拓展 z 的視野，只能作用至檔案結束\n",
    "\n",
    "f4() \n",
    "{\n",
    "    extern int y;   // y ← 拓展 y 的視野\n",
    "    cout << y;      //     僅能在 {} 裡面作用   \n",
    "    ...\n",
    "}\n",
    "\n",
    "```"
   ]
  },
  {
   "cell_type": "markdown",
   "id": "63c25501-017c-418b-bda2-baa55c47cb4c",
   "metadata": {},
   "source": [
    "static global / extern variable\n",
    "\n",
    "- scope:\n",
    "    1. 從定義開始至檔案結束\n",
    "    2. 只能在該檔案中使用 extern 拓展視野\n",
    "\n",
    "- extent: static"
   ]
  },
  {
   "cell_type": "markdown",
   "id": "74c289cc-9182-4d9b-ac3e-fcc6a5225b6a",
   "metadata": {},
   "source": [
    "register variable\n",
    "\n",
    "- scope: 跟 auto 相同\n",
    "- extent: 跟 auto 相同\n",
    "\n",
    "```cpp\n",
    "\n",
    "register int i;\n",
    "//       or pointer\n",
    "```           "
   ]
  },
  {
   "cell_type": "markdown",
   "id": "3ad4efc4",
   "metadata": {},
   "source": [
    "# 期末考上機考可能會考的題目"
   ]
  },
  {
   "cell_type": "markdown",
   "id": "44e8120c",
   "metadata": {},
   "source": [
    "## scope"
   ]
  },
  {
   "cell_type": "markdown",
   "id": "f6fd5fbd",
   "metadata": {},
   "source": [
    "- 視野（scope）：變數能應用的地方\n",
    "    - program scope\n",
    "    - file scope\n",
    "    - function scope\n",
    "    - block scope"
   ]
  },
  {
   "cell_type": "code",
   "execution_count": null,
   "id": "47b17e71",
   "metadata": {},
   "outputs": [],
   "source": [
    "#include <iostream>\n",
    "using namespace std;"
   ]
  },
  {
   "cell_type": "markdown",
   "id": "d82164d5",
   "metadata": {},
   "source": [
    "### block scope"
   ]
  },
  {
   "cell_type": "code",
   "execution_count": null,
   "id": "7e4eb32c",
   "metadata": {},
   "outputs": [],
   "source": [
    "int f(void)\n",
    "{\n",
    "    // outer scope\n",
    "    int i = 0, x = 3;\n",
    "    {\n",
    "        // innter scope\n",
    "        int i = 1, y = 5;\n",
    "        cout << \"> inner <\" << endl;\n",
    "        cout << \"i: \" << i << endl << \"y: \" << y << endl;\n",
    "    }\n",
    "    cout << \"> outer <\" << endl;\n",
    "    cout << \"i: \" << i << endl << \"x: \" << x;\n",
    "    return 0;\n",
    "}"
   ]
  },
  {
   "cell_type": "code",
   "execution_count": null,
   "id": "fba5becd",
   "metadata": {},
   "outputs": [
    {
     "name": "stdout",
     "output_type": "stream",
     "text": [
      "> inner <\n",
      "i: 1\n",
      "y: 5\n",
      "> outer <\n",
      "i: 0\n",
      "x: 3"
     ]
    }
   ],
   "source": [
    "f();"
   ]
  },
  {
   "cell_type": "markdown",
   "id": "d907a379",
   "metadata": {},
   "source": [
    "## extent"
   ]
  },
  {
   "cell_type": "markdown",
   "id": "77e52d0e",
   "metadata": {},
   "source": [
    "- 生命期（extent）：變數在記憶體中存活的時間\n",
    "    - static extent：所需的記憶體與整個程式共存亡，static -> data\n",
    "    - local extent：真正要使用時才產生，不使用則釋放記憶體，local -> stack"
   ]
  },
  {
   "cell_type": "markdown",
   "id": "6b61f3ee",
   "metadata": {},
   "source": [
    "<div style=\"display: grid; place-items: center; width: 100%;\">\n",
    "<img src=\"attachment:598f2bf4-ab2d-4201-be11-bc9b188395e1.png\" width=\"20%\"/>\n",
    "</div>\n"
   ]
  },
  {
   "cell_type": "markdown",
   "id": "ea281897",
   "metadata": {},
   "source": [
    "- Storage Class\n",
    "    - auto\n",
    "    - static auto\n",
    "    - global (extern)\n",
    "    - static global\n",
    "    - register"
   ]
  },
  {
   "cell_type": "markdown",
   "id": "172c9c77",
   "metadata": {},
   "source": [
    "auto variable\n",
    "\n",
    "- scope: function / block\n",
    "- extent: local\n",
    "\n",
    "> declare in function / block\n",
    "\n"
   ]
  },
  {
   "cell_type": "code",
   "execution_count": null,
   "id": "beef70f3",
   "metadata": {},
   "outputs": [],
   "source": [
    "void f()  \n",
    "{\n",
    "    int i = 0;\n",
    "    i++;\n",
    "    cout << \"i = \" << i << endl;\n",
    "}"
   ]
  },
  {
   "cell_type": "code",
   "execution_count": null,
   "id": "7e6542c9",
   "metadata": {},
   "outputs": [
    {
     "name": "stdout",
     "output_type": "stream",
     "text": [
      "i = 1\n",
      "i = 1\n",
      "i = 1\n"
     ]
    }
   ],
   "source": [
    "int i;\n",
    "for (i = 0; i < 3; i++) f();"
   ]
  },
  {
   "cell_type": "markdown",
   "id": "b57543d0",
   "metadata": {},
   "source": [
    "static auto variable\n",
    "\n",
    "- scope: function / block\n",
    "- extent: static\n",
    "\n",
    "> compile 時即配置了記憶體空間（space），執行時會佔用同樣的位置。若有初值的設定，只會設定一次。"
   ]
  },
  {
   "cell_type": "code",
   "execution_count": null,
   "id": "43c03ef2",
   "metadata": {
    "collapsed": true,
    "jupyter": {
     "outputs_hidden": true
    },
    "tags": []
   },
   "outputs": [
    {
     "name": "stderr",
     "output_type": "stream",
     "text": [
      "input_line_7:5:5: error: use of undeclared identifier 'cout'\n",
      "    cout << \"i = \" << i << endl;\n",
      "    ^\n",
      "input_line_7:5:28: error: use of undeclared identifier 'endl'; did you mean 'std::endl'?\n",
      "    cout << \"i = \" << i << endl;\n",
      "                           ^~~~\n",
      "                           std::endl\n",
      "/../lib/gcc/x86_64-linux-gnu/9/../../../../include/c++/9/ostream:599:5: note: 'std::endl' declared here\n",
      "    endl(basic_ostream<_CharT, _Traits>& __os)\n",
      "    ^\n"
     ]
    },
    {
     "ename": "Interpreter Error",
     "evalue": "",
     "output_type": "error",
     "traceback": [
      "Interpreter Error: "
     ]
    }
   ],
   "source": [
    "void f()\n",
    "{\n",
    "    static int i = 0;\n",
    "    i++;\n",
    "    cout << \"i = \" << i << endl;\n",
    "}"
   ]
  },
  {
   "cell_type": "code",
   "execution_count": null,
   "id": "39a83841",
   "metadata": {},
   "outputs": [
    {
     "name": "stdout",
     "output_type": "stream",
     "text": [
      "i = 1\n",
      "i = 2\n",
      "i = 3\n"
     ]
    }
   ],
   "source": [
    "int i;\n",
    "for (i = 0; i < 3; i++) f();"
   ]
  },
  {
   "cell_type": "markdown",
   "id": "90a200ef",
   "metadata": {},
   "source": [
    "global variable (extern variable)\n",
    "\n",
    "- scope: \n",
    "    1. 由定義開始處開始至檔案結束為「自然視野（natural scope）」。\n",
    "    2. 任何不在自然視野內之 functions 可以藉由 `extern` 宣告來拓展視野。\n",
    "       <br>如果 `extern` 於 function\n",
    "        - 內：視野僅及於該 function 內。\n",
    "        - 外：視野從宣告開始至檔案結束。\n",
    "    3. files 之間亦可以用 extern 來拓展視野。\n",
    "- extent: static"
   ]
  },
  {
   "cell_type": "markdown",
   "id": "08942d4c",
   "metadata": {},
   "source": [
    "```cpp\n",
    "// file1.cpp\n",
    "\n",
    "int x;\n",
    "main ()             // x ⤵\n",
    "{\n",
    "    extern int z;   // z ← 拓展 z 的視野\n",
    "                    //     僅能在 {} 裡面作用\n",
    "    ...\n",
    "}       \n",
    "\n",
    "int y;  \n",
    "f1() {...}          // x, y ⤵\n",
    "\n",
    "\n",
    "f2() {...}\n",
    "int z;              // x, y, z ⤵ \n",
    "\n",
    "cout << x << y; \n",
    "```"
   ]
  },
  {
   "cell_type": "markdown",
   "id": "5a00f12a",
   "metadata": {},
   "source": [
    "```cpp\n",
    "// file2.cpp\n",
    "\n",
    "f3() {...}\n",
    "\n",
    "extern z;           // z ⤵ 拓展 z 的視野，只能作用至檔案結束\n",
    "\n",
    "f4() \n",
    "{\n",
    "    extern int y;   // y ← 拓展 y 的視野\n",
    "    cout << y;      //     僅能在 {} 裡面作用   \n",
    "    ...\n",
    "}\n",
    "\n",
    "```"
   ]
  },
  {
   "cell_type": "markdown",
   "id": "ca5b06eb",
   "metadata": {},
   "source": [
    "static global / extern variable\n",
    "\n",
    "- scope:\n",
    "    1. 從定義開始至檔案結束\n",
    "    2. 只能在該檔案中使用 extern 拓展視野\n",
    "\n",
    "- extent: static"
   ]
  },
  {
   "cell_type": "markdown",
   "id": "6d8c9466",
   "metadata": {},
   "source": [
    "register variable\n",
    "\n",
    "- scope: 跟 auto 相同\n",
    "- extent: 跟 auto 相同\n",
    "\n",
    "```cpp\n",
    "\n",
    "register int i;\n",
    "//       or pointer\n",
    "```           "
   ]
  }
 ],
 "metadata": {
  "kernelspec": {
   "display_name": "C++14",
   "language": "C++14",
   "name": "xcpp14"
  },
  "language_info": {
   "codemirror_mode": "text/x-c++src",
   "file_extension": ".cpp",
   "mimetype": "text/x-c++src",
   "name": "c++",
   "version": "14"
  },
  "toc-autonumbering": false
 },
 "nbformat": 4,
 "nbformat_minor": 5
}
