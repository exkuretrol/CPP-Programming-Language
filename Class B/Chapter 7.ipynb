{
 "cells": [
  {
   "cell_type": "markdown",
   "id": "be275c9c-36d4-4768-8f51-6109fb865afc",
   "metadata": {},
   "source": [
    "# Chapter 7 函數"
   ]
  },
  {
   "cell_type": "markdown",
   "id": "3f1986df-6cae-434c-8441-707c17cbd5ae",
   "metadata": {},
   "source": [
    "### 7.1.1 參照的基本認識"
   ]
  },
  {
   "cell_type": "markdown",
   "id": "7276b3f8-3705-4d75-86ef-bc8636110c5b",
   "metadata": {},
   "source": [
    "參照的目的：\n",
    "1. 節省記憶體空間"
   ]
  },
  {
   "cell_type": "code",
   "execution_count": 1,
   "id": "525960d8-f36e-4bfa-ac99-d3800cd0ae78",
   "metadata": {},
   "outputs": [],
   "source": [
    "#include <iostream>\n",
    "using namespace std;"
   ]
  },
  {
   "cell_type": "code",
   "execution_count": 2,
   "id": "b5e010ae-b83a-4316-a2c4-883920f25406",
   "metadata": {},
   "outputs": [],
   "source": [
    "int a = 0;\n",
    "int &ref = a;"
   ]
  },
  {
   "cell_type": "code",
   "execution_count": 3,
   "id": "0aef7daf-2de7-488e-8f86-887da0f7b784",
   "metadata": {},
   "outputs": [
    {
     "data": {
      "text/plain": [
       "0"
      ]
     },
     "execution_count": 3,
     "metadata": {},
     "output_type": "execute_result"
    }
   ],
   "source": [
    "a"
   ]
  },
  {
   "cell_type": "code",
   "execution_count": 7,
   "id": "d8f40690-e42f-4138-9e8f-f0ce04af1d2b",
   "metadata": {},
   "outputs": [
    {
     "data": {
      "text/plain": [
       "0"
      ]
     },
     "execution_count": 7,
     "metadata": {},
     "output_type": "execute_result"
    }
   ],
   "source": [
    "ref"
   ]
  },
  {
   "cell_type": "code",
   "execution_count": 6,
   "id": "120f2d24-7390-4471-acde-fb7a65511a34",
   "metadata": {},
   "outputs": [
    {
     "data": {
      "text/plain": [
       "@0x7ffcf4c96808"
      ]
     },
     "execution_count": 6,
     "metadata": {},
     "output_type": "execute_result"
    }
   ],
   "source": [
    "&ref"
   ]
  },
  {
   "cell_type": "code",
   "execution_count": 9,
   "id": "b30bb74e-3089-4227-8c98-9681bd919c0c",
   "metadata": {},
   "outputs": [
    {
     "data": {
      "text/plain": [
       "@0x7ffcf4c96808"
      ]
     },
     "execution_count": 9,
     "metadata": {},
     "output_type": "execute_result"
    }
   ],
   "source": [
    "&a"
   ]
  },
  {
   "cell_type": "code",
   "execution_count": 14,
   "id": "92a85b4c-f5c7-4758-81bb-de72bb95b7cf",
   "metadata": {},
   "outputs": [],
   "source": [
    "int addOneAndSqure(int x)\n",
    "{\n",
    "    x++;\n",
    "    return x * x;\n",
    "}"
   ]
  },
  {
   "cell_type": "code",
   "execution_count": 15,
   "id": "943d0f82-da91-416c-b349-166b812a38bc",
   "metadata": {},
   "outputs": [
    {
     "name": "stdout",
     "output_type": "stream",
     "text": [
      "121"
     ]
    }
   ],
   "source": [
    "int a = 10, b;\n",
    "b = addOneAndSqure(a);\n",
    "cout << b;"
   ]
  },
  {
   "cell_type": "code",
   "execution_count": 20,
   "id": "52f971fb-34ba-4d7c-8ea6-959d75f80b16",
   "metadata": {},
   "outputs": [],
   "source": [
    "int addOneAndSqure(int &x)\n",
    "{\n",
    "    x++;\n",
    "    return x * x;\n",
    "}"
   ]
  },
  {
   "cell_type": "code",
   "execution_count": 22,
   "id": "e8ae449b-58de-461c-84ee-d68e72fad1bf",
   "metadata": {},
   "outputs": [
    {
     "name": "stderr",
     "output_type": "stream",
     "text": [
      "input_line_38:3:5: error: call to 'addOneAndSqure' is ambiguous\n",
      "b = addOneAndSqure(a);\n",
      "    ^~~~~~~~~~~~~~\n",
      "input_line_34:1:5: note: candidate function\n",
      "int addOneAndSqure(int x)\n",
      "    ^\n",
      "input_line_36:1:5: note: candidate function\n",
      "int addOneAndSqure(int &x)\n",
      "    ^\n"
     ]
    },
    {
     "ename": "Interpreter Error",
     "evalue": "",
     "output_type": "error",
     "traceback": [
      "Interpreter Error: "
     ]
    }
   ],
   "source": [
    "int a = 10, b;\n",
    "b = addOneAndSqure(a);\n",
    "cout << b;"
   ]
  },
  {
   "cell_type": "markdown",
   "id": "628f36ec-8e8f-42f9-8892-06bfb860fb28",
   "metadata": {},
   "source": [
    "### 7.1.2 傳遞參照到函數"
   ]
  },
  {
   "cell_type": "code",
   "execution_count": 4,
   "id": "e8adcfca-f588-4b73-be0a-2f1117ca97a4",
   "metadata": {},
   "outputs": [],
   "source": [
    "void add10(int &, int &);"
   ]
  },
  {
   "cell_type": "code",
   "execution_count": 9,
   "id": "97dc4b76-90fe-41d9-85de-320a3a343954",
   "metadata": {},
   "outputs": [],
   "source": [
    "int a = 10, b = 20;"
   ]
  },
  {
   "cell_type": "code",
   "execution_count": 10,
   "id": "b47f5600-b1ba-48a9-a40e-880b7217a6eb",
   "metadata": {},
   "outputs": [],
   "source": [
    "void add10(int &a, int &b)\n",
    "{\n",
    "    a += 10;\n",
    "    b += 10;\n",
    "    return;\n",
    "}"
   ]
  },
  {
   "cell_type": "code",
   "execution_count": 11,
   "id": "c31e9f24-66f8-41e1-a9f2-4169981acb27",
   "metadata": {},
   "outputs": [
    {
     "name": "stdout",
     "output_type": "stream",
     "text": [
      "20\n",
      "30\n"
     ]
    }
   ],
   "source": [
    "add10(a, b);\n",
    "cout << a << endl << b << endl;"
   ]
  },
  {
   "cell_type": "markdown",
   "id": "adecf987-3476-48d6-94e1-5b0727147acc",
   "metadata": {},
   "source": [
    "swap"
   ]
  },
  {
   "cell_type": "code",
   "execution_count": 16,
   "id": "f2e1a3d1-a2db-4d3c-a4a4-a4ddd49baccb",
   "metadata": {},
   "outputs": [],
   "source": [
    "void swap(int &, int &);"
   ]
  },
  {
   "cell_type": "code",
   "execution_count": 18,
   "id": "12d9d1fa-65b6-4129-8eb6-ba5542ef9ab3",
   "metadata": {},
   "outputs": [],
   "source": [
    "void swap(int &a, int &b)\n",
    "{\n",
    "    int t = a;\n",
    "    a = b;\n",
    "    b = t;\n",
    "}"
   ]
  },
  {
   "cell_type": "code",
   "execution_count": 17,
   "id": "5dc0ae95-f6a3-4e25-88ba-20c0cc334b84",
   "metadata": {},
   "outputs": [],
   "source": [
    "int a = 10, b = 5, c = 0;"
   ]
  },
  {
   "cell_type": "code",
   "execution_count": 19,
   "id": "dfb5d9d8-3d0c-4106-92a4-f525951543ed",
   "metadata": {},
   "outputs": [
    {
     "name": "stdout",
     "output_type": "stream",
     "text": [
      "5\n",
      "10"
     ]
    }
   ],
   "source": [
    "swap(a, b);\n",
    "cout << a << endl << b;"
   ]
  },
  {
   "cell_type": "code",
   "execution_count": null,
   "id": "fb61cf6a-7f80-41d9-9c8a-26edba732481",
   "metadata": {},
   "outputs": [],
   "source": []
  }
 ],
 "metadata": {
  "kernelspec": {
   "display_name": "C++11",
   "language": "C++11",
   "name": "xcpp11"
  },
  "language_info": {
   "codemirror_mode": "text/x-c++src",
   "file_extension": ".cpp",
   "mimetype": "text/x-c++src",
   "name": "c++",
   "version": "11"
  }
 },
 "nbformat": 4,
 "nbformat_minor": 5
}
