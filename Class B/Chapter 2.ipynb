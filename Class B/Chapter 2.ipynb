{
 "cells": [
  {
   "cell_type": "markdown",
   "id": "511e2f4e-0d3f-4fb7-a367-1130023ac94f",
   "metadata": {},
   "source": [
    "# Chapter 2 簡單的C++"
   ]
  },
  {
   "cell_type": "markdown",
   "id": "01b7a7c2-26eb-4e44-918b-cbd1058271a4",
   "metadata": {},
   "source": [
    "```cpp\n",
    "#include <iostream>\n",
    "using namespace std;\n",
    "int main(void) {\n",
    "    int num;  // 宣告整數 num\n",
    "    num = 3;  // 將 num 設為 3\n",
    "    cout << \"I have \" << num << \" apples.\";\n",
    "    return 0; // 代表程式正常結束\n",
    "}\n",
    "```"
   ]
  },
  {
   "cell_type": "markdown",
   "id": "6a86864c-23c6-462e-9833-25abacfe476f",
   "metadata": {},
   "source": [
    "輸出變數"
   ]
  },
  {
   "cell_type": "code",
   "execution_count": 1,
   "id": "d59bed3c-844a-4105-8129-0107fa4dc6c6",
   "metadata": {},
   "outputs": [],
   "source": [
    "#include <iostream>\n",
    "using namespace std;"
   ]
  },
  {
   "cell_type": "code",
   "execution_count": 2,
   "id": "78f54208-499a-4e36-8b83-df34fc98826e",
   "metadata": {},
   "outputs": [
    {
     "name": "stdout",
     "output_type": "stream",
     "text": [
      "I have 3 apples."
     ]
    }
   ],
   "source": [
    "int num; // 宣告整數 num\n",
    "num = 3; // 將 num 設為 3\n",
    "cout << \"I have \" << num << \" apples.\";"
   ]
  },
  {
   "cell_type": "markdown",
   "id": "34f80f67-f223-4c63-a07d-e67b52c43d0b",
   "metadata": {},
   "source": [
    "輸入變數"
   ]
  },
  {
   "cell_type": "code",
   "execution_count": 4,
   "id": "618793dc-1b83-4238-9bb7-866cb80a3625",
   "metadata": {},
   "outputs": [
    {
     "name": "stdin",
     "output_type": "stream",
     "text": [
      " 1 2\n"
     ]
    },
    {
     "name": "stdout",
     "output_type": "stream",
     "text": [
      "總和：3"
     ]
    }
   ],
   "source": [
    "int x, y;\n",
    "cin >> x >> y;\n",
    "cout << \"總和：\" << x + y;"
   ]
  },
  {
   "cell_type": "markdown",
   "id": "67389e42-4b67-49d5-9652-f79c46ab03a6",
   "metadata": {},
   "source": [
    "> 何謂變數？\n",
    "\n",
    "變數就代表記憶體空間"
   ]
  },
  {
   "cell_type": "markdown",
   "id": "f68d0869-07de-48fd-b0fa-dd36e8865c7a",
   "metadata": {},
   "source": [
    "### 2.2.4 變數"
   ]
  },
  {
   "cell_type": "code",
   "execution_count": 9,
   "id": "5415bad9-edf8-43b3-9d85-f1f5744843e7",
   "metadata": {},
   "outputs": [],
   "source": [
    "int num;\n",
    "int num1, num2, num3;"
   ]
  },
  {
   "cell_type": "markdown",
   "id": "cd98923f-df68-4635-9531-fceac279f347",
   "metadata": {},
   "source": [
    "變數的資料型態\n",
    "\n",
    "有 char, int, bool, long, float 與 double 等\n",
    "\n",
    "---\n",
    "\n",
    "變數的限制\n",
    "\n",
    "- 變數不能以數字為開頭\n",
    "- 名稱中不能有空白\n",
    "- 有些保留字元（keyword）不能使用\n",
    "\n",
    "> 像是資料型態、或是流程控制的if else，都不能使用"
   ]
  },
  {
   "cell_type": "markdown",
   "id": "ca3d6b87-cfb8-4864-b9d3-b8335b9ec94e",
   "metadata": {},
   "source": [
    "### 2.2.5 設定變數"
   ]
  },
  {
   "cell_type": "code",
   "execution_count": 14,
   "id": "063e630d-fb36-49a2-949e-107ecea331a3",
   "metadata": {},
   "outputs": [
    {
     "name": "stdout",
     "output_type": "stream",
     "text": [
      "123\n",
      "234\n"
     ]
    }
   ],
   "source": [
    "// 方法一\n",
    "int num = 123;\n",
    "\n",
    "// 方法二\n",
    "int num1;\n",
    "num1 = 234;\n",
    "\n",
    "cout << num << endl;\n",
    "cout << num1 << endl;"
   ]
  },
  {
   "cell_type": "code",
   "execution_count": 13,
   "id": "4aa56f23-c36f-4dcb-b03e-1fc4af0395f3",
   "metadata": {},
   "outputs": [
    {
     "name": "stdout",
     "output_type": "stream",
     "text": [
      "12"
     ]
    }
   ],
   "source": [
    "int A = 1;\n",
    "int a = 2;\n",
    "cout << A << a;"
   ]
  },
  {
   "cell_type": "markdown",
   "id": "c593a19d-7451-4fc2-85e0-268fb715c5fd",
   "metadata": {},
   "source": [
    "### 2.2.7 cout 與串接運算子 `<<`"
   ]
  },
  {
   "cell_type": "code",
   "execution_count": 21,
   "id": "8ced0569-f93e-4396-a38d-9384b58adc54",
   "metadata": {},
   "outputs": [
    {
     "name": "stdout",
     "output_type": "stream",
     "text": [
      "I have 3 apples.\n"
     ]
    }
   ],
   "source": [
    "int num = 3;\n",
    "\n",
    "//      文字          數字    文字          換行物件\n",
    "cout << \"I have \" << num << \" apples.\" << endl;"
   ]
  },
  {
   "cell_type": "markdown",
   "id": "c4cd3d46-becf-4253-a055-a9eb8b1f08fb",
   "metadata": {},
   "source": [
    "## 2.5 提高程式的可讀性"
   ]
  },
  {
   "cell_type": "markdown",
   "id": "ce22a6d3-3d79-4d84-a110-3b069b685208",
   "metadata": {},
   "source": [
    "```cpp\n",
    "/* \n",
    "主程式說明 \n",
    "*/\n",
    "\n",
    "//      V 空格\n",
    "#include <iostream>\n",
    "using namespace std;\n",
    "// V 縮排\n",
    "int main(void) {\n",
    "              // 適當的註解     \n",
    "    int num;  // 宣告整數 num\n",
    "    num = 3;  // 將 num 設為 3\n",
    "    cout << \"I have \" << num << \" apples.\";\n",
    "    return 0; // 代表程式正常結束\n",
    "}\n",
    "```"
   ]
  }
 ],
 "metadata": {
  "kernelspec": {
   "display_name": "C++14",
   "language": "C++14",
   "name": "xcpp14"
  },
  "language_info": {
   "codemirror_mode": "text/x-c++src",
   "file_extension": ".cpp",
   "mimetype": "text/x-c++src",
   "name": "c++",
   "version": "14"
  }
 },
 "nbformat": 4,
 "nbformat_minor": 5
}
