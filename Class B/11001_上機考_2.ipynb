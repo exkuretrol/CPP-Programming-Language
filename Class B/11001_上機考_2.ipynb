{
 "cells": [
  {
   "cell_type": "markdown",
   "id": "7fde1089-d7d6-43a8-b860-7e2ad0e5b533",
   "metadata": {},
   "source": [
    "# 110-01 資一乙 程式設計 第二次上機考"
   ]
  },
  {
   "cell_type": "markdown",
   "id": "c7bd0f76-5584-43ca-9828-133495e07850",
   "metadata": {},
   "source": [
    "一、請舉例說明陣列(array)的兩項主要優點。(10%)"
   ]
  },
  {
   "cell_type": "markdown",
   "id": "d90595fd-c6ee-4383-a042-4f6b7f0b4e86",
   "metadata": {},
   "source": [
    "二、請舉例說明 call by value 與 call by reference 的差異。(10%)"
   ]
  },
  {
   "cell_type": "markdown",
   "id": "ef89e73a-5f69-4536-bc8e-21b9fb136c53",
   "metadata": {},
   "source": [
    "三、程式設計: （所有程式須能夠多次執行，並在桌面下建置以學號為名稱之資料\n",
    "夾，第 1 題以 test1.cpp 為檔名，以此類推）"
   ]
  },
  {
   "cell_type": "code",
   "execution_count": 6,
   "id": "b30c868e-539f-4b15-9ffb-c1a911816b82",
   "metadata": {},
   "outputs": [],
   "source": [
    "#include <iostream>\n",
    "#include <string>\n",
    "using namespace std;"
   ]
  },
  {
   "cell_type": "markdown",
   "id": "82514184-5560-4c66-8bce-0e9e7797950d",
   "metadata": {},
   "source": [
    "1. 輸入列數後，輸出相對應的圖形。(10%)"
   ]
  },
  {
   "cell_type": "markdown",
   "id": "b4ebd012-9e14-4685-b059-f4bde3a9a96f",
   "metadata": {},
   "source": [
    "2. 輸入正整數 n，輸出 n 個 Fibonacci Numbers(1, 1, 2, 3, 5, 8, 13, 21, 34, ...) （10%）"
   ]
  },
  {
   "cell_type": "code",
   "execution_count": null,
   "id": "b4cbdbe7-f06e-4de1-8eba-60e420feb18d",
   "metadata": {},
   "outputs": [],
   "source": [
    "int f(int n)\n",
    "{\n",
    "    if (n == 0) return 0;\n",
    "    if (n == 1) return 1;\n",
    "    return f(n - 1) + f(n - 2);\n",
    "}"
   ]
  },
  {
   "cell_type": "code",
   "execution_count": null,
   "id": "98ab7b87-1e0e-446a-b781-4340d5f47e71",
   "metadata": {},
   "outputs": [
    {
     "name": "stdin",
     "output_type": "stream",
     "text": [
      " 5\n"
     ]
    },
    {
     "name": "stdout",
     "output_type": "stream",
     "text": [
      "1, 1, 2, 3, 5"
     ]
    },
    {
     "name": "stdin",
     "output_type": "stream",
     "text": [
      " -1\n"
     ]
    }
   ],
   "source": [
    "int n;\n",
    "while (cin >> n)\n",
    "{\n",
    "    if (n == -1) break;\n",
    "    for (int i = 1; i <= n; i++)\n",
    "    {\n",
    "        cout << f(i);\n",
    "        if (i < n) cout << \", \";\n",
    "    }\n",
    "}"
   ]
  },
  {
   "cell_type": "markdown",
   "id": "7066827e-c060-4133-9264-6b71bba85a57",
   "metadata": {},
   "source": [
    "3. 輸入兩個正整數 a,b (a<=b)，輸出介於 a 與 b 之間的平方數(如：1, 4, 9 )。（10%）"
   ]
  },
  {
   "cell_type": "code",
   "execution_count": null,
   "id": "127d4f0d-fc5a-4e96-a5ef-56600142d26d",
   "metadata": {},
   "outputs": [
    {
     "name": "stdin",
     "output_type": "stream",
     "text": [
      " 3 4\n"
     ]
    },
    {
     "name": "stdout",
     "output_type": "stream",
     "text": [
      "9, 16"
     ]
    },
    {
     "name": "stdin",
     "output_type": "stream",
     "text": [
      " 1 4\n"
     ]
    },
    {
     "name": "stdout",
     "output_type": "stream",
     "text": [
      "1, 4, 9, 16"
     ]
    },
    {
     "name": "stdin",
     "output_type": "stream",
     "text": [
      " -1\n",
      " -1\n"
     ]
    }
   ],
   "source": [
    "int a, b;\n",
    "while (cin >> a >> b)\n",
    "{\n",
    "    if (a == -1 || b == -1 || a > b) break;\n",
    "    for (int i = a; i <= b; i++)\n",
    "    {\n",
    "        cout << i * i;\n",
    "        if (i < b) cout << \", \";\n",
    "    }\n",
    "}"
   ]
  },
  {
   "cell_type": "markdown",
   "id": "025fc028-9c8c-4b8a-970d-6ae652393919",
   "metadata": {},
   "source": [
    "4. 輸入一個十進位正整數，輸出相對應之 16 進位數字。(10%)"
   ]
  },
  {
   "cell_type": "code",
   "execution_count": null,
   "id": "b5f2b854-e602-4e09-af37-fa2f39eb01c8",
   "metadata": {},
   "outputs": [
    {
     "name": "stdin",
     "output_type": "stream",
     "text": [
      " 5\n"
     ]
    },
    {
     "name": "stdout",
     "output_type": "stream",
     "text": [
      "5\n"
     ]
    },
    {
     "name": "stdin",
     "output_type": "stream",
     "text": [
      " 10\n"
     ]
    },
    {
     "name": "stdout",
     "output_type": "stream",
     "text": [
      "a\n"
     ]
    },
    {
     "name": "stdin",
     "output_type": "stream",
     "text": [
      " 16\n"
     ]
    },
    {
     "name": "stdout",
     "output_type": "stream",
     "text": [
      "10\n"
     ]
    },
    {
     "name": "stdin",
     "output_type": "stream",
     "text": [
      " -1\n"
     ]
    }
   ],
   "source": [
    "int n;\n",
    "while (cin >> n)\n",
    "{\n",
    "    if (n == -1) break;\n",
    "    cout << hex << n << endl;\n",
    "}"
   ]
  },
  {
   "cell_type": "markdown",
   "id": "4f646773-9eb5-4d29-81ff-62503f5b0444",
   "metadata": {},
   "source": [
    "5. 以字串輸入一些 0~9 的數字（長度小於 20），輸出各種數字出現的次數及這些\n",
    "數字的總和，0 次的請勿輸出。（10%）"
   ]
  },
  {
   "cell_type": "code",
   "execution_count": null,
   "id": "570a5555-e4aa-4079-9338-e91b757832a6",
   "metadata": {},
   "outputs": [
    {
     "name": "stdin",
     "output_type": "stream",
     "text": [
      " 1234561237489\n"
     ]
    },
    {
     "name": "stdout",
     "output_type": "stream",
     "text": [
      "0: 0\n",
      "1: 2\n",
      "2: 2\n",
      "3: 2\n",
      "4: 2\n",
      "5: 1\n",
      "6: 1\n",
      "7: 1\n",
      "8: 1\n",
      "9: 1\n"
     ]
    },
    {
     "name": "stdin",
     "output_type": "stream",
     "text": [
      " eof\n"
     ]
    }
   ],
   "source": [
    "string s;\n",
    "while (cin >> s)\n",
    "{\n",
    "    //         0  1  2  3  4  5  6  7  8  9\n",
    "    int l[] = {0, 0, 0, 0, 0, 0, 0, 0, 0, 0};\n",
    "    if (s == \"eof\" || s.size() >= 20) break;\n",
    "    for (int i = 0; i < s.size(); i++)\n",
    "    {\n",
    "        if (s[i] <= 57 && s[i] >=48)\n",
    "        {\n",
    "            l[s[i] - 48] += 1;\n",
    "        }\n",
    "    }\n",
    "    for (int j = 0; j < 10; j++)\n",
    "    {\n",
    "        cout << j << \": \" << l[j] << endl;\n",
    "    }\n",
    "}"
   ]
  },
  {
   "cell_type": "markdown",
   "id": "ed79ca30-c12b-4f33-be21-d3cbda034776",
   "metadata": {},
   "source": [
    "6. 輸入一些正整數(最多 10 個，-1 代表結束)，以氣泡排序法輸出由大排到小的結\n",
    "果。（10%）"
   ]
  },
  {
   "cell_type": "code",
   "execution_count": null,
   "id": "2b68cef5-a471-4aa0-ae3d-ad5ee3792cdd",
   "metadata": {},
   "outputs": [],
   "source": [
    "#include <algorithm>"
   ]
  },
  {
   "cell_type": "code",
   "execution_count": null,
   "id": "090e14c4-6ed3-416b-bf21-ad37324eed2c",
   "metadata": {},
   "outputs": [],
   "source": [
    "int l[] = {3, 1 , 55 ,23 ,5 , 1234, 9, 1, 312, 4}"
   ]
  },
  {
   "cell_type": "code",
   "execution_count": null,
   "id": "7c8a7c98-c335-4717-8730-2a623a2c662b",
   "metadata": {},
   "outputs": [
    {
     "data": {
      "text/plain": [
       "40"
      ]
     },
     "execution_count": 7,
     "metadata": {},
     "output_type": "execute_result"
    }
   ],
   "source": [
    "sizeof(l)"
   ]
  },
  {
   "cell_type": "code",
   "execution_count": null,
   "id": "42c917b2-fff5-4bbd-b89e-3c296fedda81",
   "metadata": {},
   "outputs": [
    {
     "data": {
      "text/plain": [
       "4"
      ]
     },
     "execution_count": 8,
     "metadata": {},
     "output_type": "execute_result"
    }
   ],
   "source": [
    "sizeof(*l)"
   ]
  },
  {
   "cell_type": "code",
   "execution_count": null,
   "id": "d1981aca-5f07-4097-8fa3-a67fb67e7a39",
   "metadata": {},
   "outputs": [
    {
     "data": {
      "text/plain": [
       "3"
      ]
     },
     "execution_count": 10,
     "metadata": {},
     "output_type": "execute_result"
    }
   ],
   "source": [
    "*l"
   ]
  },
  {
   "cell_type": "code",
   "execution_count": null,
   "id": "b5e38c76-a2e1-46a9-add8-c8ad2b885e50",
   "metadata": {},
   "outputs": [],
   "source": [
    "void bubbleSort(int l[10])\n",
    "{\n",
    "    for (int i = 0; i < 10 - 1; i++)\n",
    "    {\n",
    "        for (int j = 0; j < 10 - i - 1; j++)\n",
    "        {\n",
    "            if (l[j] < l[j + 1]) swap(l[j], l[j + 1]);\n",
    "        }\n",
    "    }\n",
    "}"
   ]
  },
  {
   "cell_type": "code",
   "execution_count": null,
   "id": "c88de17d-d8c8-4f16-9f5d-80e200add514",
   "metadata": {},
   "outputs": [],
   "source": [
    "bubbleSort(l)"
   ]
  },
  {
   "cell_type": "code",
   "execution_count": null,
   "id": "e0ad97ce-1b7f-46e8-b1f1-0616fcac1d99",
   "metadata": {},
   "outputs": [
    {
     "data": {
      "text/plain": [
       "{ 1234, 312, 55, 23, 9, 5, 3, 3, 1, 1 }"
      ]
     },
     "execution_count": 55,
     "metadata": {},
     "output_type": "execute_result"
    }
   ],
   "source": [
    "l"
   ]
  },
  {
   "cell_type": "markdown",
   "id": "9872d2d2-db96-45b5-a0ef-37f5a8b7b872",
   "metadata": {},
   "source": [
    "7. 輸入正整數 n，模擬 n 次擲骰子的結果，輸出各個點數出現的次數與機率。（10%）"
   ]
  },
  {
   "cell_type": "code",
   "execution_count": null,
   "id": "ee303594-697a-4bb1-846f-5c922a10a01e",
   "metadata": {},
   "outputs": [],
   "source": [
    "#include <cstdlib>"
   ]
  },
  {
   "cell_type": "code",
   "execution_count": null,
   "id": "ec37d7a4-b8b0-4790-bc0a-ed6097360d64",
   "metadata": {},
   "outputs": [
    {
     "name": "stdin",
     "output_type": "stream",
     "text": [
      " 5\n"
     ]
    },
    {
     "name": "stdout",
     "output_type": "stream",
     "text": [
      "1: 2機率：40%\n",
      "2: 1機率：20%\n",
      "3: 0機率：0%\n",
      "4: 2機率：40%\n",
      "5: 0機率：0%\n",
      "6: 0機率：0%\n"
     ]
    },
    {
     "name": "stdin",
     "output_type": "stream",
     "text": [
      " 8\n"
     ]
    },
    {
     "name": "stdout",
     "output_type": "stream",
     "text": [
      "1: 1機率：12.5%\n",
      "2: 0機率：0%\n",
      "3: 1機率：12.5%\n",
      "4: 2機率：25%\n",
      "5: 2機率：25%\n",
      "6: 2機率：25%\n"
     ]
    },
    {
     "name": "stdin",
     "output_type": "stream",
     "text": [
      " 999\n"
     ]
    },
    {
     "name": "stdout",
     "output_type": "stream",
     "text": [
      "1: 175機率：17.5175%\n",
      "2: 168機率：16.8168%\n",
      "3: 136機率：13.6136%\n",
      "4: 166機率：16.6166%\n",
      "5: 183機率：18.3183%\n",
      "6: 171機率：17.1171%\n"
     ]
    },
    {
     "name": "stdin",
     "output_type": "stream",
     "text": [
      " -1\n"
     ]
    }
   ],
   "source": [
    "int n;\n",
    "while (cin >> n)\n",
    "{\n",
    "    if (n == -1) break;\n",
    "    int l[] = {0, 0, 0, 0, 0, 0};\n",
    "    for (int i = 0; i < n; i++)\n",
    "    {\n",
    "        l[rand() % 6] += 1;\n",
    "    }\n",
    "    for (int j = 0; j < 6; j++)\n",
    "    {\n",
    "        cout << j + 1 << \": \" << l[j] \n",
    "            << \"機率：\" << (double) l[j] / n * 100 << \"%\" << endl;\n",
    "    }\n",
    "}"
   ]
  },
  {
   "cell_type": "markdown",
   "id": "5b58a472-a8c1-4d8b-9b14-6df19a6b412d",
   "metadata": {},
   "source": [
    "8. 假設西元 2020 年 1 月 1 日為星期三。\n",
    "- 8.1 輸入某月某日，輸出 2021 年該月日是星期幾？(10%)\n",
    "- 8.2 輸入某年某月某日，輸出該年月曆（20%）。"
   ]
  },
  {
   "cell_type": "markdown",
   "id": "257cd123-6a2f-4e30-9694-2ed314d7bfee",
   "metadata": {},
   "source": [
    "9. 先寫一個函數判斷整數是否為質數，函數中不能有輸入或輸出。並於主程式輸入正整數 n，藉由呼叫此函數輸出 n 的質因數。(15%)"
   ]
  },
  {
   "cell_type": "code",
   "execution_count": 4,
   "id": "3b29065d-7060-4426-b58f-d3bd7b4475d6",
   "metadata": {},
   "outputs": [],
   "source": [
    "bool primeOrNot(int n)// 5\n",
    "{\n",
    "    if (n == 1) return false;\n",
    "    for (int i = 2; i < n; i++)\n",
    "    {\n",
    "        if (n % i == 0) return false;\n",
    "    }\n",
    "    return true;\n",
    "}"
   ]
  },
  {
   "cell_type": "code",
   "execution_count": 8,
   "id": "e7d2420a-28f6-4e25-a20d-bd98504ff657",
   "metadata": {},
   "outputs": [
    {
     "name": "stdin",
     "output_type": "stream",
     "text": [
      " 4\n"
     ]
    },
    {
     "name": "stdout",
     "output_type": "stream",
     "text": [
      "2 "
     ]
    }
   ],
   "source": [
    "int n;\n",
    "cin >> n;\n",
    "for (int i = 2; i <= n; i++)\n",
    "{\n",
    "    if (primeOrNot(i) && (n % i == 0)) cout << i << \" \";\n",
    "}"
   ]
  },
  {
   "cell_type": "markdown",
   "id": "b2949269-47a7-48bd-98fb-3388c5520141",
   "metadata": {},
   "source": [
    "10.先撰寫計算次方的遞迴函數，並於主程式輸入兩個正整數 a, b，呼叫該遞迴函數\n",
    "後輸出 a^b 的值。（15%）"
   ]
  },
  {
   "cell_type": "code",
   "execution_count": null,
   "id": "0c43c7fb-6980-4484-bd39-91b15d227d5a",
   "metadata": {},
   "outputs": [],
   "source": [
    "int pow(int b, int p)\n",
    "{\n",
    "    // pow(2, 3)\n",
    "    // 2 * pow(2, 2)\n",
    "    // 2 * 2 * pow(2, 1)\n",
    "    // 2 * 2 * 2\n",
    "    \n",
    "    if (p == 1) return b;\n",
    "    return b * pow(b, p - 1);\n",
    "}"
   ]
  },
  {
   "cell_type": "code",
   "execution_count": null,
   "id": "eefb85c7-abfc-42e0-9fa6-0238830e5548",
   "metadata": {},
   "outputs": [
    {
     "data": {
      "text/plain": [
       "8"
      ]
     },
     "execution_count": 4,
     "metadata": {},
     "output_type": "execute_result"
    }
   ],
   "source": [
    "pow(2, 3)"
   ]
  },
  {
   "cell_type": "code",
   "execution_count": null,
   "id": "39ca94d7-4b72-43c5-b5d4-b377a4974b7a",
   "metadata": {},
   "outputs": [
    {
     "data": {
      "text/plain": [
       "16"
      ]
     },
     "execution_count": 5,
     "metadata": {},
     "output_type": "execute_result"
    }
   ],
   "source": [
    "pow(2, 4)"
   ]
  },
  {
   "cell_type": "code",
   "execution_count": null,
   "id": "95149315-62ed-4ac8-87de-6241cf1f50df",
   "metadata": {},
   "outputs": [
    {
     "data": {
      "text/plain": [
       "243"
      ]
     },
     "execution_count": 6,
     "metadata": {},
     "output_type": "execute_result"
    }
   ],
   "source": [
    "pow(3, 5)"
   ]
  },
  {
   "cell_type": "markdown",
   "id": "9fc9b6f1-1c8a-430b-b06b-fa633829bc38",
   "metadata": {},
   "source": [
    "11. 應用隨機亂數模擬橋牌的發牌結果，輸出四位玩家各得到的 13 張牌，含花色\n",
    "（Spade, Heart, Diamond, Club）及點數（J: 1, Q: 2, K: 3, A: 4）。（15%）"
   ]
  },
  {
   "cell_type": "code",
   "execution_count": null,
   "id": "753a7620-5b2b-4037-be80-75276724c588",
   "metadata": {},
   "outputs": [],
   "source": [
    "#include <algorithm>"
   ]
  },
  {
   "cell_type": "code",
   "execution_count": null,
   "id": "d195c47f-851f-4ba4-a71a-01bfa45ddc4e",
   "metadata": {},
   "outputs": [],
   "source": [
    "string cate[] = {\"Spade\", \"Heart\", \"Diamond\", \"Club\"};\n",
    "string points[] = {\"A\", \"2\", \"3\", \"4\", \"5\",\n",
    "                   \"6\", \"7\", \"8\", \"9\", \"10\",\n",
    "                   \"J\", \"Q\", \"K\"};\n",
    "\n",
    "string deck[52];\n",
    "int c = 0;\n",
    "\n",
    "for (int i = 0; i < 4; i++)\n",
    "{\n",
    "    for (int j = 0; j < 13; j++)\n",
    "    {\n",
    "        deck[c] = cate[i] + \" \" + points[j];\n",
    "        c++;\n",
    "    }\n",
    "}"
   ]
  },
  {
   "cell_type": "code",
   "execution_count": null,
   "id": "39614880-ecd4-4a0f-8b43-c264453a51fe",
   "metadata": {},
   "outputs": [],
   "source": [
    "random_shuffle(&deck[0], &deck[51]);"
   ]
  },
  {
   "cell_type": "code",
   "execution_count": null,
   "id": "f70fb900-6caa-40af-9ae7-5a6b496d0ffb",
   "metadata": {},
   "outputs": [
    {
     "data": {
      "text/plain": [
       "{ \"Heart 10\", \"Club 8\", \"Spade 2\", \"Heart 9\", \"Club 6\", \"Heart K\", \"Diamond 7\", \"Club 9\", \"Heart A\", \"Heart 6\", \"Spade 8\", \"Heart Q\", \"Heart J\", \"Spade J\", \"Club A\", \"Diamond J\", \"Diamond K\", \"Club 4\", \"Club 2\", \"Diamond 6\", \"Diamond 10\", \"Diamond 3\", \"Diamond 5\", \"Heart 2\", \"Diamond 4\", \"Spade 3\", \"Heart 4\", \"Spade Q\", \"Diamond 9\", \"Diamond A\", \"Club 3\", \"Club Q\", \"Spade 6\", \"Spade A\", \"Club 5\", \"Diamond 2\", \"Club J\", \"Diamond Q\", \"Spade K\", \"Club 7\", \"Spade 5\", \"Spade 7\", \"Spade 9\", \"Heart 7\", \"Spade 4\", \"Club 10\", \"Spade 10\", \"Heart 3\", \"Heart 5\", \"Heart 8\", \"Diamond 8\", \"Club K\" }"
      ]
     },
     "execution_count": 21,
     "metadata": {},
     "output_type": "execute_result"
    }
   ],
   "source": [
    "deck"
   ]
  },
  {
   "cell_type": "markdown",
   "id": "e354c1c2-ea66-4f71-bc1c-d4ea6da2317c",
   "metadata": {},
   "source": [
    "12. 設計\\*A\\*B 之遊戲, 規則如下: (15%)\n",
    "- 步驟 1：由電腦隨機產生四位數供使用者猜測，其中數字不可重複，請輸出此四位數。\n",
    "- 步驟 2：由使用者輸入所猜測的四位數。\n",
    "- 步驟 3：若位置與數字皆正確則回應 A, 若數字正確但位置錯誤則回應 B。\n",
    "- 步驟 4：重複以上兩個步驟，直到答對(發生 4A)或猜測超過五次為止。"
   ]
  },
  {
   "cell_type": "code",
   "execution_count": 1,
   "id": "5fc40984-361d-4582-b5e1-d2339edabfb3",
   "metadata": {},
   "outputs": [],
   "source": [
    "#include <string>\n",
    "#include <iostream>\n",
    "#include <algorithm>"
   ]
  },
  {
   "cell_type": "code",
   "execution_count": 2,
   "id": "434f2f2d-4448-4b56-b097-f730ee72a07b",
   "metadata": {},
   "outputs": [],
   "source": [
    "using namespace std;"
   ]
  },
  {
   "cell_type": "code",
   "execution_count": 3,
   "id": "fb8f11f9-fece-4676-9d2a-d303944ee3d1",
   "metadata": {},
   "outputs": [],
   "source": [
    "string match(string input, string target)\n",
    "{\n",
    "    int a = 0;\n",
    "    int b = 0;\n",
    "    for (int i = 0; i < 4; i++)\n",
    "    {\n",
    "        if (input[i] == target[i]) a++;\n",
    "        else if (target.find(input[i]) != string::npos) b++;\n",
    "    }\n",
    "    return to_string(a) + \"A\" + to_string(b) + \"B\";\n",
    "}"
   ]
  },
  {
   "cell_type": "code",
   "execution_count": 4,
   "id": "73ecce18-76ba-473d-ace6-391cc760b5f9",
   "metadata": {},
   "outputs": [
    {
     "name": "stdout",
     "output_type": "stream",
     "text": [
      "請輸入一組不重複的四位數字：（0184）"
     ]
    },
    {
     "name": "stdin",
     "output_type": "stream",
     "text": [
      " 1234\n"
     ]
    },
    {
     "name": "stdout",
     "output_type": "stream",
     "text": [
      "\n",
      "1A1B\n",
      "請輸入一組不重複的四位數字：（0184）"
     ]
    },
    {
     "name": "stdin",
     "output_type": "stream",
     "text": [
      " 0184\n"
     ]
    },
    {
     "name": "stdout",
     "output_type": "stream",
     "text": [
      "\n",
      "4A0B\n",
      "win\n",
      "請輸入一組不重複的四位數字：（7213）"
     ]
    },
    {
     "name": "stdin",
     "output_type": "stream",
     "text": [
      " stop\n"
     ]
    },
    {
     "name": "stdout",
     "output_type": "stream",
     "text": [
      "\n"
     ]
    }
   ],
   "source": [
    "string nums = \"0123456789\";\n",
    "bool game = true;\n",
    "while (game)\n",
    "{\n",
    "    random_shuffle(&nums[0], &nums[9]);\n",
    "    string target = nums.substr(0, 4);\n",
    "    \n",
    "    for (int i = 0; i < 5; i++)\n",
    "    {\n",
    "        string input;\n",
    "        \n",
    "        cout << \"請輸入一組不重複的四位數字：\" << \"（\" << target << \"）\";\n",
    "        cin >> input;\n",
    "        cout << endl;\n",
    "        \n",
    "        if (input == \"stop\") \n",
    "        {\n",
    "            game = false;\n",
    "            break;\n",
    "        }\n",
    "        \n",
    "        string result = match(input, target);\n",
    "        cout << result << endl;\n",
    "        if (result[0] == '4')\n",
    "        {\n",
    "            cout << \"win\" << endl;\n",
    "            break;\n",
    "        }\n",
    "        if (i == 4)\n",
    "        {\n",
    "            cout << \"lose\" << endl\n",
    "                 << \"the answer is: \" << target << endl;\n",
    "        }\n",
    "    }\n",
    "}"
   ]
  },
  {
   "cell_type": "markdown",
   "id": "23dcdf1c-4ccc-42a2-82fd-ad5beb776cf8",
   "metadata": {},
   "source": [
    "# 會考"
   ]
  },
  {
   "cell_type": "markdown",
   "id": "dfedf2f1-b754-4e36-8f12-738f33eade33",
   "metadata": {},
   "source": [
    "> bubble sort<br>\n",
    "> preprocessor"
   ]
  }
 ],
 "metadata": {
  "kernelspec": {
   "display_name": "C++11",
   "language": "C++11",
   "name": "xcpp11"
  },
  "language_info": {
   "codemirror_mode": "text/x-c++src",
   "file_extension": ".cpp",
   "mimetype": "text/x-c++src",
   "name": "c++",
   "version": "11"
  }
 },
 "nbformat": 4,
 "nbformat_minor": 5
}
