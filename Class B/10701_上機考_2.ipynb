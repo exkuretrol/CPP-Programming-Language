{
 "cells": [
  {
   "cell_type": "markdown",
   "id": "c377556b-623c-4a1d-8c8f-2e5da1f3f54c",
   "metadata": {},
   "source": [
    "一、請舉例說明 inline function 的用法與目的。\n",
    "\n",
    "二、請說明視野（scope)的意義。\n",
    "\n",
    "三、程式設計"
   ]
  },
  {
   "cell_type": "code",
   "execution_count": 1,
   "id": "c1f7491a-f02d-4be6-b2f9-a81a8074134c",
   "metadata": {},
   "outputs": [],
   "source": [
    "#include <iostream>\n",
    "#include <string>\n",
    "using namespace std;"
   ]
  },
  {
   "cell_type": "markdown",
   "id": "4af674fe-bb2b-4e42-b282-0118b6660152",
   "metadata": {},
   "source": [
    "$1.\\ $輸入數列後，輸出相對應的圖形。"
   ]
  },
  {
   "cell_type": "markdown",
   "id": "ba46a6c6-97d0-489d-b42f-02557bf77963",
   "metadata": {},
   "source": [
    "$2.\\ $輸入一個十進位正整數，輸出相對應之二進位數字。"
   ]
  },
  {
   "cell_type": "code",
   "execution_count": 8,
   "id": "c688256f-217a-4a76-87a9-20474231e560",
   "metadata": {},
   "outputs": [],
   "source": [
    "#include <vector>\n",
    "#define BASE 2"
   ]
  },
  {
   "cell_type": "code",
   "execution_count": 12,
   "id": "98b3256e-85cd-45ce-b986-f8dfe8d35e00",
   "metadata": {},
   "outputs": [
    {
     "name": "stdin",
     "output_type": "stream",
     "text": [
      " 10\n"
     ]
    },
    {
     "name": "stdout",
     "output_type": "stream",
     "text": [
      "1010"
     ]
    },
    {
     "name": "stdin",
     "output_type": "stream",
     "text": [
      " 11\n"
     ]
    },
    {
     "name": "stdout",
     "output_type": "stream",
     "text": [
      "1011"
     ]
    },
    {
     "name": "stdin",
     "output_type": "stream",
     "text": [
      " 12\n"
     ]
    },
    {
     "name": "stdout",
     "output_type": "stream",
     "text": [
      "1100"
     ]
    },
    {
     "name": "stdin",
     "output_type": "stream",
     "text": [
      " 13\n"
     ]
    },
    {
     "name": "stdout",
     "output_type": "stream",
     "text": [
      "1101"
     ]
    },
    {
     "name": "stdin",
     "output_type": "stream",
     "text": [
      " 128\n"
     ]
    },
    {
     "name": "stdout",
     "output_type": "stream",
     "text": [
      "10000000"
     ]
    },
    {
     "name": "stdin",
     "output_type": "stream",
     "text": [
      " 127\n"
     ]
    },
    {
     "name": "stdout",
     "output_type": "stream",
     "text": [
      "1111111"
     ]
    },
    {
     "name": "stdin",
     "output_type": "stream",
     "text": [
      " -1\n"
     ]
    }
   ],
   "source": [
    "int n;\n",
    "while (cin >> n && n > 0)\n",
    "{\n",
    "    vector<int> nums;\n",
    "    while (n > 0)\n",
    "    {\n",
    "        nums.insert(nums.begin(), n % BASE);\n",
    "        n /= BASE;\n",
    "    }\n",
    "    for (auto &num : nums) cout << num;\n",
    "}"
   ]
  },
  {
   "cell_type": "markdown",
   "id": "d903c61a-5ff7-487e-8335-c6dbf977c822",
   "metadata": {},
   "source": [
    "$3.\\ $輸入一些正整數（最多 10 個，-1 代表結束），以氣泡排序法輸出由小排到大的結果。"
   ]
  },
  {
   "cell_type": "code",
   "execution_count": 2,
   "id": "8e3d39d9-5342-4994-979a-a7f82d9c39cd",
   "metadata": {},
   "outputs": [],
   "source": [
    "#include <algorithm>\n",
    "#include <vector>"
   ]
  },
  {
   "cell_type": "code",
   "execution_count": 7,
   "id": "dab7e738-4662-4fb5-bfb6-83e7712b8193",
   "metadata": {},
   "outputs": [],
   "source": [
    "void bubbleSort(vector<int> &nums, int len)\n",
    "{\n",
    "    for (int i = 0; i < len - 1; i++)\n",
    "        for (int j = 0; j < len - i - 1; j++)\n",
    "            if (nums[j] > nums[j + 1]) std::swap(nums[j], nums[j + 1]);\n",
    "}"
   ]
  },
  {
   "cell_type": "code",
   "execution_count": 4,
   "id": "cc7c480a-c6dc-4bb6-8fe6-707b9831be86",
   "metadata": {},
   "outputs": [],
   "source": [
    "vector<int> nums;\n",
    "int n;"
   ]
  },
  {
   "cell_type": "code",
   "execution_count": 8,
   "id": "bcb6dcd5-a1e8-453a-9bcd-08bc8686e500",
   "metadata": {},
   "outputs": [
    {
     "name": "stdin",
     "output_type": "stream",
     "text": [
      " 28347 237894 72895715 8901728497 01289347 923 17384 -1\n"
     ]
    }
   ],
   "source": [
    "while(cin >> n, n > 0 && nums.size() <= 10)\n",
    "{\n",
    "    nums.push_back(n);\n",
    "}\n",
    "bubbleSort(nums, nums.size());"
   ]
  },
  {
   "cell_type": "code",
   "execution_count": 9,
   "id": "4c2e5b5e-5552-41aa-b703-6ee8cc0fac72",
   "metadata": {},
   "outputs": [
    {
     "data": {
      "text/plain": [
       "{ 12, 1957, 28347, 47382, 172384, 172394, 237894, 1723984, 2738947, 72895715, 2147483647 }"
      ]
     },
     "execution_count": 9,
     "metadata": {},
     "output_type": "execute_result"
    }
   ],
   "source": [
    "nums"
   ]
  },
  {
   "cell_type": "markdown",
   "id": "e33a57f5-6dfc-4a41-a45a-f7841189babb",
   "metadata": {},
   "source": [
    "$4.\\ $輸入正整數 n，模擬 n 次骰子的結果，輸出各個點數出現的次數與機率。"
   ]
  },
  {
   "cell_type": "code",
   "execution_count": 10,
   "id": "a1deabef-5914-4d94-bc87-59f2b9fe4b3e",
   "metadata": {},
   "outputs": [],
   "source": [
    "#include <cstdlib>\n",
    "#include <ctime>"
   ]
  },
  {
   "cell_type": "code",
   "execution_count": 3,
   "id": "305a6f34-218e-4b50-8298-9e48dc56e553",
   "metadata": {},
   "outputs": [
    {
     "name": "stdin",
     "output_type": "stream",
     "text": [
      " 20\n"
     ]
    },
    {
     "name": "stdout",
     "output_type": "stream",
     "text": [
      "1: 3, probs: 0.15\n",
      "2: 4, probs: 0.2\n",
      "3: 6, probs: 0.3\n",
      "4: 1, probs: 0.05\n",
      "5: 4, probs: 0.2\n",
      "6: 2, probs: 0.1\n"
     ]
    },
    {
     "name": "stdin",
     "output_type": "stream",
     "text": [
      " -1\n"
     ]
    }
   ],
   "source": [
    "srand(time(NULL));\n",
    "int n;\n",
    "while (cin >> n, n > 0)\n",
    "{\n",
    "    int l[] = {0, 0, 0, 0, 0, 0};\n",
    "    for (int i = 0; i < n; i++) l[rand() % 6] += 1;\n",
    "    for (int j = 0; j < 6; j++) cout << j + 1 << \": \" << l[j]\n",
    "                                     << \", probs: \" << (double) l[j] / n\n",
    "                                     << endl;\n",
    "}"
   ]
  },
  {
   "cell_type": "markdown",
   "id": "f5672d66-0997-4f68-8926-8eeda1742f66",
   "metadata": {},
   "source": [
    "$5.\\ $以字串方式輸入兩個正整數（二位數）的運算式（含加、減、乘、除），例如：12\\*11，輸出其答案 132。"
   ]
  },
  {
   "cell_type": "code",
   "execution_count": 2,
   "id": "57be2725-ff6a-423d-97fb-c8ce948fa45f",
   "metadata": {},
   "outputs": [],
   "source": [
    "double calc(int a, char o, int b)\n",
    "{\n",
    "    switch(o)\n",
    "    {\n",
    "        case '+': return (double) a + b;\n",
    "        case '-': return (double) a - b;\n",
    "        case '*': return (double) a * b;\n",
    "        case '/': return (double) a / b;\n",
    "        default: return -1;\n",
    "    }\n",
    "}"
   ]
  },
  {
   "cell_type": "code",
   "execution_count": 3,
   "id": "28a5fe61-0516-4a44-aea6-dcde69f24002",
   "metadata": {},
   "outputs": [],
   "source": [
    "#include <string>\n",
    "#include <iostream>\n",
    "using namespace std;"
   ]
  },
  {
   "cell_type": "code",
   "execution_count": 4,
   "id": "0f4fda12-3ae3-4cf5-a02e-633c60a1e079",
   "metadata": {},
   "outputs": [],
   "source": [
    "#include <sstream>"
   ]
  },
  {
   "cell_type": "code",
   "execution_count": 5,
   "id": "f346d935-d5e4-4523-8f5b-6999218efb4f",
   "metadata": {},
   "outputs": [
    {
     "name": "stdin",
     "output_type": "stream",
     "text": [
      " 1000/10\n"
     ]
    },
    {
     "name": "stdout",
     "output_type": "stream",
     "text": [
      "100"
     ]
    },
    {
     "name": "stdin",
     "output_type": "stream",
     "text": [
      " 10+1000\n"
     ]
    },
    {
     "name": "stdout",
     "output_type": "stream",
     "text": [
      "1010"
     ]
    },
    {
     "name": "stdin",
     "output_type": "stream",
     "text": [
      " stop\n"
     ]
    }
   ],
   "source": [
    "string s;\n",
    "while(cin >> s, s != \"stop\")\n",
    "{\n",
    "    for (auto &c : s) \n",
    "    {\n",
    "        if (!isdigit(c) && c != ' ')\n",
    "        {\n",
    "            int a, b;\n",
    "            stringstream ss;\n",
    "            ss << s.substr(0, s.find(c));\n",
    "            ss >> a;\n",
    "            ss.clear();\n",
    "            ss << s.substr(s.find(c) + 1, s.size() - s.find(c));\n",
    "            ss >> b;\n",
    "            // cout << a << endl << b << endl << c << endl;\n",
    "            // cout << s << c << \" \" << s.find(c) << endl;\n",
    "            // cout << s.substr(s.find(c) + 1, s.size() - s.find(c)) << endl;\n",
    "            cout << (double) calc(a, c, b);\n",
    "        }\n",
    "    }\n",
    "}"
   ]
  },
  {
   "cell_type": "markdown",
   "id": "95fb2fcf-532d-4c63-914d-853ecd0399c8",
   "metadata": {},
   "source": [
    "$6.\\ $先寫一個函數判斷整數是否為質數，函數中不能有輸入或輸出。並於主程式輸入正整數 n，藉由呼叫此函數輸出 n 的質因數。"
   ]
  },
  {
   "cell_type": "code",
   "execution_count": 25,
   "id": "2e97a442-86bf-4118-a96d-5e597e19559c",
   "metadata": {},
   "outputs": [],
   "source": [
    "bool primeOrNot(int n)\n",
    "{\n",
    "    if (n == 1) return false;\n",
    "    for (int i = 2; i < n; i++) if (n % i == 0) return false;\n",
    "    return true;\n",
    "}"
   ]
  },
  {
   "cell_type": "code",
   "execution_count": 27,
   "id": "b8630d25-2113-4b02-bc6f-4a4ec3c026ba",
   "metadata": {},
   "outputs": [
    {
     "name": "stdin",
     "output_type": "stream",
     "text": [
      " 8\n"
     ]
    },
    {
     "name": "stdout",
     "output_type": "stream",
     "text": [
      "2 "
     ]
    },
    {
     "name": "stdin",
     "output_type": "stream",
     "text": [
      " 9\n"
     ]
    },
    {
     "name": "stdout",
     "output_type": "stream",
     "text": [
      "3 "
     ]
    },
    {
     "name": "stdin",
     "output_type": "stream",
     "text": [
      " 360\n"
     ]
    },
    {
     "name": "stdout",
     "output_type": "stream",
     "text": [
      "2 3 5 "
     ]
    },
    {
     "name": "stdin",
     "output_type": "stream",
     "text": [
      " -1\n"
     ]
    }
   ],
   "source": [
    "int n;\n",
    "while (cin >> n, n > 0)\n",
    "{\n",
    "    for (int i = 2; i < n; i++) if (primeOrNot(i) && (n % i == 0)) cout << i << \" \";\n",
    "}"
   ]
  },
  {
   "cell_type": "markdown",
   "id": "074e6433-4fdf-4a4f-bd0d-40b903ecbdca",
   "metadata": {},
   "source": [
    "$7.\\ $先撰寫計算階乘的遞迴函數，並於主程式輸入一個正整數，呼叫該地回函數後輸出該數的階乘。"
   ]
  },
  {
   "cell_type": "code",
   "execution_count": 28,
   "id": "1b35343f-f373-420d-a2df-afc33dc2f2c7",
   "metadata": {},
   "outputs": [],
   "source": [
    "int factorial(int n)\n",
    "{\n",
    "    if (n == 1) return 1;\n",
    "    return n * factorial(n - 1);\n",
    "}"
   ]
  },
  {
   "cell_type": "code",
   "execution_count": 30,
   "id": "195c8676-3f67-4311-8532-7dc0feae8b78",
   "metadata": {},
   "outputs": [
    {
     "name": "stdin",
     "output_type": "stream",
     "text": [
      " 5\n"
     ]
    },
    {
     "name": "stdout",
     "output_type": "stream",
     "text": [
      "5! = 120"
     ]
    },
    {
     "name": "stdin",
     "output_type": "stream",
     "text": [
      " -1\n"
     ]
    }
   ],
   "source": [
    "int n;\n",
    "while (cin >> n, n > 0) cout << n << \"! = \" << factorial(n);"
   ]
  },
  {
   "cell_type": "markdown",
   "id": "7a568d6a-3599-4aba-832d-1e4fbb95bdeb",
   "metadata": {},
   "source": [
    "$8.\\ $以字串出入一些 0 ~ 9 的數字（長度小於 20），輸出各種數字出現的次數及這些數字的總和，0 次的請勿輸出。"
   ]
  },
  {
   "cell_type": "code",
   "execution_count": 43,
   "id": "e55e773b-df08-4f1a-8648-9f12e0ca68e7",
   "metadata": {},
   "outputs": [
    {
     "name": "stdin",
     "output_type": "stream",
     "text": [
      " 1234123412341234\n"
     ]
    },
    {
     "name": "stdout",
     "output_type": "stream",
     "text": [
      "1: 4\n",
      "2: 4\n",
      "3: 4\n",
      "4: 4\n",
      "Sum = 40"
     ]
    },
    {
     "name": "stdin",
     "output_type": "stream",
     "text": [
      " stop\n"
     ]
    }
   ],
   "source": [
    "string s;\n",
    "while (cin >> s, s.size() <= 20 && s != \"stop\")\n",
    "{\n",
    "    int acc = 0;\n",
    "    int l[10] = {0, 0, 0, 0, 0, 0, 0, 0, 0, 0};\n",
    "    for (auto &c : s)\n",
    "    {\n",
    "        l[c - '0']++;\n",
    "        acc += c - '0';\n",
    "    }\n",
    "    for (int i = 0; i < 10; i++)\n",
    "    {\n",
    "        if (l[i] > 0) cout << i << \": \" << l[i] << endl;\n",
    "    }\n",
    "    cout << \"Sum = \" << acc;\n",
    "}"
   ]
  },
  {
   "cell_type": "markdown",
   "id": "48e63ddb-df19-4331-ab6b-6a5969eb5b09",
   "metadata": {},
   "source": [
    "$9.\\ $假設 2018 年 1 月 1 日是星期一，輸入西元年份與月份，輸出該月之日曆。"
   ]
  },
  {
   "cell_type": "markdown",
   "id": "0d05770d-cd88-43ef-b110-6ed2c5420801",
   "metadata": {},
   "source": [
    "$10.\\ $應用隨機亂數模擬橋牌的發牌結果，輸出四位玩家各得到的 13 張牌，含花色（Spade, Heart, Diamond, Club）及點數（J: 1, Q: 2, K: 3, A: 4）。"
   ]
  },
  {
   "cell_type": "markdown",
   "id": "607419ca-dd33-4255-94b8-306ee11fc9bd",
   "metadata": {},
   "source": [
    "$11.\\ $A square number is an integer number whose square root is also an integer. For example 1, 4, 81 are some square numbers. Given two numbers a an byou will have to find out how many square numbers there are between a and b (inclusive).\n",
    "\n",
    "- **Input: ** Two integers a and b (0 < a <= b <= 10000)\n",
    "\n",
    "- **Output: ** What square numbers there are between a and b (inclusive).\n",
    "- **Sample Input: ** 1 10\n",
    "- **Sample Output: ** 1 4 9"
   ]
  },
  {
   "cell_type": "code",
   "execution_count": 45,
   "id": "a79cd679-e1f0-423e-9b92-1225ff5357e7",
   "metadata": {},
   "outputs": [],
   "source": [
    "#include <cmath>"
   ]
  },
  {
   "cell_type": "code",
   "execution_count": 50,
   "id": "4f3d4aa4-ef67-455d-be64-b2cdfc559b5d",
   "metadata": {},
   "outputs": [
    {
     "name": "stdin",
     "output_type": "stream",
     "text": [
      " 1 10\n"
     ]
    },
    {
     "name": "stdout",
     "output_type": "stream",
     "text": [
      "1 4 9 "
     ]
    },
    {
     "name": "stdin",
     "output_type": "stream",
     "text": [
      " 1 100\n"
     ]
    },
    {
     "name": "stdout",
     "output_type": "stream",
     "text": [
      "1 4 9 16 25 36 49 64 81 100 "
     ]
    },
    {
     "name": "stdin",
     "output_type": "stream",
     "text": [
      " -1 3\n"
     ]
    }
   ],
   "source": [
    "int a, b;\n",
    "while (cin >> a >> b, a > 0 && a <= 10000 && b > 0 && b <= 10000 && a <= b)\n",
    "{\n",
    "    for (int i = 1; i <= 100; i++)\n",
    "    {\n",
    "        int s = pow(i, 2);\n",
    "        if (s >= a && s <= b) cout << s << \" \";\n",
    "    }\n",
    "}    "
   ]
  }
 ],
 "metadata": {
  "kernelspec": {
   "display_name": "C++11",
   "language": "C++11",
   "name": "xcpp11"
  },
  "language_info": {
   "codemirror_mode": "text/x-c++src",
   "file_extension": ".cpp",
   "mimetype": "text/x-c++src",
   "name": "c++",
   "version": "11"
  }
 },
 "nbformat": 4,
 "nbformat_minor": 5
}
