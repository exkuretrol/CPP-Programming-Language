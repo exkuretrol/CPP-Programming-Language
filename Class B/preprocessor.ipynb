{
 "cells": [
  {
   "cell_type": "markdown",
   "id": "3693731d-6792-4c26-a662-8db874b50870",
   "metadata": {},
   "source": [
    "# C pre-processor"
   ]
  },
  {
   "cell_type": "markdown",
   "id": "e3e2be96-2691-422d-a5e8-dd6ef1a2fb88",
   "metadata": {},
   "source": [
    "```c\n",
    "// a.h\n",
    "#include <iostream>\n",
    "```\n",
    "\n",
    "```c\n",
    "#include \"a.h\"\n",
    "```"
   ]
  },
  {
   "cell_type": "markdown",
   "id": "dfacc37f-ba2a-4dbd-bfe0-0f9c41e426ae",
   "metadata": {},
   "source": [
    "```c\n",
    "//      名字  什麼符號\n",
    "#define name sequence-of-token\n",
    "```"
   ]
  },
  {
   "cell_type": "markdown",
   "id": "cec3b85c-8709-4d28-b7a2-43aa2dad7af5",
   "metadata": {},
   "source": [
    "```c\n",
    "#define s_sum(x,y) ((x*x)+(y*y))\n",
    "```"
   ]
  },
  {
   "cell_type": "markdown",
   "id": "e6ba9f83-c714-4986-b225-855a5154b883",
   "metadata": {},
   "source": [
    "Problems in Macros\n",
    "\n",
    "1. precedence error\n",
    "\n",
    "```c++\n",
    "#define square(x) x*x\n",
    "\n",
    "// v.s.\n",
    "\n",
    "#define square (x) ((x)*(x))\n",
    "```"
   ]
  },
  {
   "cell_type": "code",
   "execution_count": null,
   "id": "3f5642c3-486f-4534-a550-8ca4a0c3ef0b",
   "metadata": {},
   "outputs": [],
   "source": []
  },
  {
   "cell_type": "markdown",
   "id": "d9a15bf6",
   "metadata": {},
   "source": [
    "# C pre-processor"
   ]
  },
  {
   "cell_type": "markdown",
   "id": "38d43fa4",
   "metadata": {},
   "source": [
    "```c\n",
    "// a.h\n",
    "#include <iostream>\n",
    "```\n",
    "\n",
    "```c\n",
    "#include \"a.h\"\n",
    "```"
   ]
  },
  {
   "cell_type": "markdown",
   "id": "60bb58ce",
   "metadata": {},
   "source": [
    "```c\n",
    "//      名字  什麼符號\n",
    "#define name sequence-of-token\n",
    "```"
   ]
  },
  {
   "cell_type": "markdown",
   "id": "cc97531f",
   "metadata": {},
   "source": [
    "```c\n",
    "#define s_sum(x,y) ((x*x)+(y*y))\n",
    "```"
   ]
  },
  {
   "cell_type": "markdown",
   "id": "3e50495d",
   "metadata": {},
   "source": [
    "Problems in Macros\n",
    "\n",
    "1. precedence error\n",
    "\n",
    "```c++\n",
    "#define square(x) x*x\n",
    "\n",
    "// v.s.\n",
    "\n",
    "#define square (x) ((x)*(x))\n",
    "```"
   ]
  },
  {
   "cell_type": "code",
   "execution_count": null,
   "id": "bf670ac8",
   "metadata": {},
   "outputs": [],
   "source": []
  }
 ],
 "metadata": {
  "kernelspec": {
   "display_name": "C++14",
   "language": "C++14",
   "name": "xcpp14"
  },
  "language_info": {
   "codemirror_mode": "text/x-c++src",
   "file_extension": ".cpp",
   "mimetype": "text/x-c++src",
   "name": "c++",
   "version": "14"
  }
 },
 "nbformat": 4,
 "nbformat_minor": 5
}
