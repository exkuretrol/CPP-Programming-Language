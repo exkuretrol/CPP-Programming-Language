{
 "cells": [
  {
   "cell_type": "markdown",
   "id": "ee9e06c5-9609-440f-916e-2ab6bdbeda3b",
   "metadata": {},
   "source": [
    "(1) 請說明函數（function）的兩項優點與 inline function 的目的。\n",
    "- 函數的優點：\n",
    "    1. 可重複利用的程式碼\n",
    "    2. 減少 scope 範圍方便維護\n",
    "- inline 函數：\n",
    "    - 主要目的是加入程式碼的運行。因為在 call 函數時會很花費時間，而 inline 會預先定義函數，程式執行時間。\n",
    "    \n",
    "(2) 請舉例說明生命期（extent）的意義與類型。\n",
    "- 主要分為兩種，分別是 static 與 local：\n",
    "    - static：與整個程式共存亡\n",
    "    - local：使用時才會產生，不使用則釋放記憶體\n"
   ]
  },
  {
   "cell_type": "markdown",
   "id": "88f9ecd5-c00a-4c2b-ac7a-bda93371c603",
   "metadata": {},
   "source": [
    "$1.\\ $輸入列數後，輸出相對的圖形。"
   ]
  },
  {
   "cell_type": "markdown",
   "id": "1871cc32-5c1a-44d7-90ad-8d65ab8a0898",
   "metadata": {},
   "source": [
    "$2.\\ $假設某月份為 31 天，輸入該月份 1 日的星期數，輸出該月份之月曆。"
   ]
  },
  {
   "cell_type": "code",
   "execution_count": null,
   "id": "5f04197b-ba47-4fef-8e35-eaa3c2c6ca4c",
   "metadata": {},
   "outputs": [],
   "source": [
    "#include <iostream>\n",
    "#include <string>\n",
    "using namespace std;"
   ]
  },
  {
   "cell_type": "code",
   "execution_count": null,
   "id": "f2a14009-57b6-4537-a004-3a859feedca0",
   "metadata": {
    "tags": []
   },
   "outputs": [
    {
     "name": "stdout",
     "output_type": "stream",
     "text": [
      "\t日\t一\t二\t三\t四\t五\t六\n",
      "\t \t \t \t 1\t 2\t 3\t 4\n",
      "\t 5\t 6\t 7\t 8\t 9\t10\t11\n",
      "\t12\t13\t14\t15\t16\t17\t18\n",
      "\t19\t20\t21\t22\t23\t24\t25\n",
      "\t26\t27\t28\t29\t30\t31"
     ]
    }
   ],
   "source": [
    "string w[] = {\"日\", \"一\", \"二\", \"三\", \"四\", \"五\", \"六\"};\n",
    "\n",
    "int l = sizeof(w) / sizeof(w[0]);\n",
    "\n",
    "int d;\n",
    "string first_day_week = \"三\";\n",
    "int first_day_week_ind;\n",
    "// cin >> input_w;\n",
    "d = 31;\n",
    "\n",
    "for (int i = 0; i < l; i++)\n",
    "{\n",
    "    if (first_day_week == w[i]) first_day_week_ind = i;\n",
    "    cout << \"\\t\" << w[i];\n",
    "}\n",
    "\n",
    "cout << endl;\n",
    "\n",
    "for (int j = 0; j < first_day_week_ind; j++)\n",
    "{\n",
    "    cout << \"\\t \";\n",
    "}\n",
    "\n",
    "for (int k = 1; k <= 31; k++)\n",
    "{\n",
    "    if ((k + first_day_week_ind - 1) % 7 == 0) cout << endl;\n",
    "    printf(\"\\t%2d\", k);\n",
    "}\n"
   ]
  },
  {
   "cell_type": "markdown",
   "id": "9ddd157f-4129-4003-93f3-24485b048220",
   "metadata": {},
   "source": [
    "$3.\\ $輸入正整數$n$，輸出如下數列，直到數字超過$n$為止。"
   ]
  },
  {
   "cell_type": "markdown",
   "id": "be8a0d95-beca-4cf3-ba84-842e4ed0f03d",
   "metadata": {},
   "source": [
    "$1, 2, 2, 3, 3, 3, 4, 4, 4, 4, 5, 5, 5, 5, 5, \\dots$"
   ]
  },
  {
   "cell_type": "code",
   "execution_count": null,
   "id": "fffe4fb0-30ae-4c80-8651-74d7b5518458",
   "metadata": {},
   "outputs": [],
   "source": [
    "void numTimes(int n)\n",
    "{\n",
    "    int times = n;\n",
    "    while (times, times--)\n",
    "    {\n",
    "        cout << n;\n",
    "        if (times != 0) cout << \", \";\n",
    "    }\n",
    "}"
   ]
  },
  {
   "cell_type": "code",
   "execution_count": null,
   "id": "7bb74356-f980-4815-8220-6430ad7c9b7c",
   "metadata": {},
   "outputs": [
    {
     "name": "stdin",
     "output_type": "stream",
     "text": [
      " 5\n"
     ]
    },
    {
     "name": "stdout",
     "output_type": "stream",
     "text": [
      "1, 2, 2, 3, 3, 3, 4, 4, 4, 4, 5, 5, 5, 5, 5"
     ]
    }
   ],
   "source": [
    "int n;\n",
    "cin >> n; // n = 5\n",
    "for (int i = 1; i <= n; i++)\n",
    "{\n",
    "    numTimes(i);\n",
    "    if (i != n) cout << \", \";\n",
    "}"
   ]
  },
  {
   "cell_type": "markdown",
   "id": "fa303f16-96a7-4d15-809c-2e0e18e3d79a",
   "metadata": {},
   "source": [
    "$4.\\ $輸入正整數$n$，輸出$n \\times n$乘法表。"
   ]
  },
  {
   "cell_type": "code",
   "execution_count": null,
   "id": "791d1aa2-a10b-46db-8d8c-b55a41b25afa",
   "metadata": {},
   "outputs": [
    {
     "name": "stdout",
     "output_type": "stream",
     "text": [
      "1*1= 1\t2*1= 2\t3*1= 3\t4*1= 4\t5*1= 5\t6*1= 6\t7*1= 7\t8*1= 8\t9*1= 9\t\n",
      "1*2= 2\t2*2= 4\t3*2= 6\t4*2= 8\t5*2=10\t6*2=12\t7*2=14\t8*2=16\t9*2=18\t\n",
      "1*3= 3\t2*3= 6\t3*3= 9\t4*3=12\t5*3=15\t6*3=18\t7*3=21\t8*3=24\t9*3=27\t\n",
      "1*4= 4\t2*4= 8\t3*4=12\t4*4=16\t5*4=20\t6*4=24\t7*4=28\t8*4=32\t9*4=36\t\n",
      "1*5= 5\t2*5=10\t3*5=15\t4*5=20\t5*5=25\t6*5=30\t7*5=35\t8*5=40\t9*5=45\t\n",
      "1*6= 6\t2*6=12\t3*6=18\t4*6=24\t5*6=30\t6*6=36\t7*6=42\t8*6=48\t9*6=54\t\n",
      "1*7= 7\t2*7=14\t3*7=21\t4*7=28\t5*7=35\t6*7=42\t7*7=49\t8*7=56\t9*7=63\t\n",
      "1*8= 8\t2*8=16\t3*8=24\t4*8=32\t5*8=40\t6*8=48\t7*8=56\t8*8=64\t9*8=72\t\n",
      "1*9= 9\t2*9=18\t3*9=27\t4*9=36\t5*9=45\t6*9=54\t7*9=63\t8*9=72\t9*9=81\t\n"
     ]
    }
   ],
   "source": [
    "int n = 9;\n",
    "// cin >> n; // n = 7\n",
    "for (int i = 1; i <= n; i++)\n",
    "{\n",
    "    for (int j = 1; j <= n; j++)\n",
    "    {\n",
    "        printf(\"%d*%d=%2d\\t\", j, i, i * j);\n",
    "    }\n",
    "    cout << endl;\n",
    "}"
   ]
  },
  {
   "cell_type": "markdown",
   "id": "430d42e0-63d1-481c-a37f-cf136d73e011",
   "metadata": {},
   "source": [
    "$5.\\ $輸入西元年、月、日，輸出此日期是該年的第幾天？"
   ]
  },
  {
   "cell_type": "markdown",
   "id": "bb39abd2-006f-4530-be90-342e9f8c94cb",
   "metadata": {},
   "source": [
    "![image.png](attachment:a639a2e1-d2f4-4725-8433-d0b16cf82242.png)"
   ]
  },
  {
   "cell_type": "code",
   "execution_count": null,
   "id": "37c6f613-2df0-4878-89c5-721f6b471b30",
   "metadata": {},
   "outputs": [
    {
     "data": {
      "text/plain": [
       "true"
      ]
     },
     "execution_count": 33,
     "metadata": {},
     "output_type": "execute_result"
    }
   ],
   "source": [
    "int y = 1600;\n",
    "(y % 400 == 0 || (y % 4 == 0 && y % 100 != 0))"
   ]
  },
  {
   "cell_type": "code",
   "execution_count": null,
   "id": "91d593bf-ed8a-41fa-8398-b92bfd91684c",
   "metadata": {},
   "outputs": [],
   "source": [
    "int mday(int y, int m)\n",
    "{\n",
    "    switch (m)\n",
    "    {\n",
    "        case 1: case 3: case 5: case 7: case 8: case 10: case 12:\n",
    "            return 31;\n",
    "            break;\n",
    "        case 2:\n",
    "            if (y % 400 == 0 || (y % 4 == 0 && y % 100 != 0)) return 29;\n",
    "            else return 28;\n",
    "            break;\n",
    "        case 4: case 6: case 9: case 11:\n",
    "            return 30;\n",
    "            break;\n",
    "        default:\n",
    "            return -1;\n",
    "    }\n",
    "}"
   ]
  },
  {
   "cell_type": "code",
   "execution_count": null,
   "id": "262d6730-d61f-4dbb-8c35-e2101ec573e9",
   "metadata": {},
   "outputs": [
    {
     "name": "stdin",
     "output_type": "stream",
     "text": [
      " 2022 12 31\n"
     ]
    },
    {
     "name": "stdout",
     "output_type": "stream",
     "text": [
      "365"
     ]
    }
   ],
   "source": [
    "int y, m, d;\n",
    "cin >> y >> m >> d;\n",
    "int acc = 0;\n",
    "if (m == 1) acc = d;\n",
    "else\n",
    "{\n",
    "    for (int i = 1; i < m; i++)\n",
    "    {\n",
    "        acc += mday(y, i);\n",
    "    }\n",
    "    acc += d;\n",
    "}\n",
    "cout << acc;"
   ]
  },
  {
   "cell_type": "markdown",
   "id": "30752801-dfe0-4c87-9fbe-23dd37dc9b09",
   "metadata": {},
   "source": [
    "$6.\\ $請輸入一個字串（最多 10 個字元），將字串中的文字大小寫互換後輸出。"
   ]
  },
  {
   "cell_type": "code",
   "execution_count": null,
   "id": "6df48fdd-4084-4b46-952f-6695c33606b6",
   "metadata": {},
   "outputs": [],
   "source": [
    "string s = \"AaBbCcDdEe\";\n",
    "// cin >> s;"
   ]
  },
  {
   "cell_type": "code",
   "execution_count": null,
   "id": "fec84d60-18b5-49f7-9ecd-87a9a0bf73f3",
   "metadata": {},
   "outputs": [],
   "source": [
    "char switchCase(char a)\n",
    "{\n",
    "    // 'A' = 65\n",
    "    // 'Z' = 90\n",
    "    // 'a' = 97\n",
    "    // 'z' = 122\n",
    "\n",
    "    int i = (int) a;\n",
    "    if (i <= 90 && i >= 65) return (char) i + 32;\n",
    "    else return (char) i - 32;\n",
    "}"
   ]
  },
  {
   "cell_type": "code",
   "execution_count": null,
   "id": "2d8768a8-4d93-4e63-8f0f-ec0441ec9b36",
   "metadata": {},
   "outputs": [
    {
     "name": "stdout",
     "output_type": "stream",
     "text": [
      "aAbBcCdDeE"
     ]
    }
   ],
   "source": [
    "for (int i = 0; i < s.size(); i++)\n",
    "{\n",
    "    cout << switchCase(s[i]);\n",
    "}"
   ]
  },
  {
   "cell_type": "markdown",
   "id": "d5f5316c-0f46-4902-9066-d2fa7aa4b2f0",
   "metadata": {},
   "source": [
    "$7.\\ $輸入一些正整數（$-1$代表結束），輸出這些整數中的最大值與最小值。"
   ]
  },
  {
   "cell_type": "code",
   "execution_count": null,
   "id": "d9a38dc0-5ae0-4cef-bc8c-3947875f60f2",
   "metadata": {},
   "outputs": [],
   "source": [
    "#include <limits.h>"
   ]
  },
  {
   "cell_type": "code",
   "execution_count": null,
   "id": "7b69d896-ebfc-40cb-83b1-27f4a246b4cc",
   "metadata": {},
   "outputs": [
    {
     "name": "stdin",
     "output_type": "stream",
     "text": [
      " 123982 38382 023 -1\n"
     ]
    },
    {
     "name": "stdout",
     "output_type": "stream",
     "text": [
      "最大值: 123982\n",
      "最小值: 23"
     ]
    }
   ],
   "source": [
    "int n, max = INT_MIN, min = INT_MAX;\n",
    "while (cin >> n) // n = 123982 38382 023 -1\n",
    "{\n",
    "    if (n == -1) break;\n",
    "    if (n > max) max = n;\n",
    "    if (n < min) min = n;\n",
    "}\n",
    "cout << \"最大值: \" << max << endl << \"最小值: \" << min;"
   ]
  },
  {
   "cell_type": "markdown",
   "id": "1c598862-d2b2-454c-9a29-0ca6523cb0d4",
   "metadata": {},
   "source": [
    "$8.\\ $輸入一些符號（a~z，$0$代表結束），輸出各種符號出現的次數。"
   ]
  },
  {
   "cell_type": "code",
   "execution_count": null,
   "id": "9bfcc5e2-f72d-4be0-81bc-670d71414fba",
   "metadata": {},
   "outputs": [
    {
     "name": "stdout",
     "output_type": "stream",
     "text": [
      "a: 2\tb: 0\tc: 0\td: 4\te: 1\tf: 4\tg: 0\t\n",
      "h: 0\ti: 2\tj: 7\tk: 3\tl: 3\tm: 0\tn: 0\t\n",
      "o: 2\tp: 0\tq: 0\tr: 0\ts: 3\tt: 0\tu: 0\t\n",
      "v: 2\tw: 1\tx: 0\ty: 0\tz: 3\t"
     ]
    }
   ],
   "source": [
    "string s = \"abcdefghijklmnopqrstuvwxyz\";\n",
    "string ss = \"jsdklfjslkdfjvioajdfjwelkjvaiosjdfzzz\";\n",
    "int d[26] = {};\n",
    "for (int i = 0; i < ss.size(); i++)\n",
    "{\n",
    "    d[s.find(ss[i])] += 1;\n",
    "}\n",
    "\n",
    "for (int j = 0; j < s.size(); j++)\n",
    "{\n",
    "    if (j % 7 == 0 && j != 0) cout << endl;\n",
    "    cout << s[j] << \": \" << d[j] << \"\\t\";\n",
    "}"
   ]
  },
  {
   "cell_type": "markdown",
   "id": "a19d64bd-d8ae-4076-a38d-d4e7a3afeee2",
   "metadata": {},
   "source": [
    "$9.\\ $輸入$n$個正整數（$n \\leq 10$，$-1$代表結束），以氣泡排序法輸出由小排到大的結果。"
   ]
  },
  {
   "cell_type": "markdown",
   "id": "3caf1ca5-8bd8-4eb0-8cc0-5c7828501b23",
   "metadata": {},
   "source": [
    "大為說：\n",
    "> 先把i固定在0 然後找1\\~n有沒有比0還大的 有就交換<br>\n",
    "> 然後把i固定在1 然後找2\\~n有沒有比1還大的 有就交換"
   ]
  },
  {
   "cell_type": "code",
   "execution_count": null,
   "id": "de035a42-f4e8-4f62-9d3f-f4b7cdff16e7",
   "metadata": {},
   "outputs": [
    {
     "name": "stdin",
     "output_type": "stream",
     "text": [
      "  5 3 2 1 4 -1\n"
     ]
    },
    {
     "data": {
      "text/plain": [
       "{ 5, 3, 2, 1, 4, 0, 0, 0, 0, 0 }"
      ]
     },
     "execution_count": 2,
     "metadata": {},
     "output_type": "execute_result"
    }
   ],
   "source": [
    "int max = 10;\n",
    "int n;\n",
    "int counter = 0;\n",
    "int A[10];\n",
    "while (cin >> n) // n = 5 3 2 1 4 -1\n",
    "{\n",
    "    if (n < 1 && n != -1)\n",
    "    {\n",
    "        cout << \"請輸入正整數！\" << endl;\n",
    "        break;\n",
    "    }\n",
    "    if (n == -1) break;\n",
    "    A[counter] = n;\n",
    "    counter++;\n",
    "    if (counter == 10) break;\n",
    "}\n",
    "A"
   ]
  },
  {
   "cell_type": "code",
   "execution_count": null,
   "id": "42eba2b2-7d27-4e03-8c9c-ab65497c127d",
   "metadata": {},
   "outputs": [],
   "source": [
    "int i, j, tmp;\n",
    "int n = sizeof(A) / sizeof(int);\n",
    "for(i = n-1; i > 0; i--)\n",
    "{\n",
    "    for(j = 0; j <= i-1; j++)\n",
    "    {\n",
    "        if( A[j] > A[j+1])\n",
    "        {\n",
    "            tmp = A [j];\n",
    "            A[j] = A[j+1];\n",
    "            A[j+1] = tmp;\n",
    "        }\n",
    "    }\n",
    "}"
   ]
  },
  {
   "cell_type": "code",
   "execution_count": null,
   "id": "1e00b4d6-fc1a-49b7-bf8f-420e94e8954a",
   "metadata": {},
   "outputs": [
    {
     "name": "stdout",
     "output_type": "stream",
     "text": [
      "1, 2, 3, 4, 5"
     ]
    }
   ],
   "source": [
    "for (int i = 0; i < n; i++)\n",
    "{\n",
    "    if (A[i] > 0) \n",
    "    {\n",
    "        cout << A[i];\n",
    "        if (i != n - 1) cout << \", \";\n",
    "    }\n",
    "}"
   ]
  },
  {
   "cell_type": "markdown",
   "id": "09131f2e-cc52-4a23-a4a3-b79a96c2736c",
   "metadata": {},
   "source": [
    "$10.\\ $假設西元 2000 年 1 月 1 日為星期六。分三列輸入某年某月某日，輸出該日期是星期幾。"
   ]
  },
  {
   "cell_type": "code",
   "execution_count": null,
   "id": "d7326514-11b2-4b7e-8424-a4c023bc6694",
   "metadata": {},
   "outputs": [],
   "source": [
    "bool leap(int i)\n",
    "{\n",
    "     return i % 400 == 0 || (i % 4 == 0 && i % 100 != 0);\n",
    "}"
   ]
  },
  {
   "cell_type": "code",
   "execution_count": null,
   "id": "734b6c40-6e21-482b-a117-b696fe301549",
   "metadata": {},
   "outputs": [],
   "source": [
    "int mday(int y, int m)\n",
    "{\n",
    "    switch (m)\n",
    "    {\n",
    "        case 1: case 3: case 5: case 7: case 8: case 10: case 12:\n",
    "            return 31;\n",
    "            break;\n",
    "        case 2:\n",
    "            if (leap(y)) return 29;\n",
    "            else return 28;\n",
    "            break;\n",
    "        case 4: case 6: case 9: case 11:\n",
    "            return 30;\n",
    "            break;\n",
    "        default:\n",
    "            return -1;\n",
    "    }\n",
    "}"
   ]
  },
  {
   "cell_type": "code",
   "execution_count": null,
   "id": "7658f900-aae2-4d52-89d3-c859606ab34a",
   "metadata": {},
   "outputs": [],
   "source": [
    "int yearday(int y, int m, int d)\n",
    "{\n",
    "    int acc = 0;\n",
    "    if (m >= 2)\n",
    "    {\n",
    "        for (int i = 1; i < m; i++)\n",
    "        {\n",
    "            acc += mday(y, i);\n",
    "        }\n",
    "    }\n",
    "    acc += d;\n",
    "    return acc;\n",
    "}"
   ]
  },
  {
   "cell_type": "code",
   "execution_count": null,
   "id": "57041274-5647-44c4-ad5c-6e4090bcfdd6",
   "metadata": {
    "tags": []
   },
   "outputs": [],
   "source": [
    "void findWeek(int y, int m, int d)\n",
    "{\n",
    "    // 2000-01-01 Saturday\n",
    "\n",
    "    string w[] = {\"六\", \"日\", \"一\", \"二\", \"三\", \"四\", \"五\"};\n",
    "    int acc = 0;\n",
    "    // cin >> y >> m >> d;\n",
    "    if (y > 2000)\n",
    "    {\n",
    "        acc += 365;\n",
    "        for (int i = 2001; i <= y - 1; i++)\n",
    "        {\n",
    "            int day = leap(i) ? 366 : 365;\n",
    "            acc += day;\n",
    "        }\n",
    "        acc += yearday(y, m, d);\n",
    "        cout << w[acc % 7];\n",
    "    }\n",
    "    if (y < 2000)\n",
    "    {\n",
    "        acc += 1;\n",
    "        for (int i = 1999; i > y; i--)\n",
    "        {\n",
    "            int day = leap(i) ? 366 : 365;\n",
    "            acc += day;\n",
    "        }\n",
    "        int y_day = leap(y) ? 366 : 365;\n",
    "        acc += y_day - yearday(y, m, d);\n",
    "        cout << w[-acc % 7 + 7];\n",
    "    }\n",
    "    if (y == 2000)\n",
    "    {\n",
    "        acc = yearday(y, m, d) - 1;\n",
    "        cout << w[acc % 7];\n",
    "    }\n",
    "}"
   ]
  },
  {
   "cell_type": "code",
   "execution_count": null,
   "id": "0c18ba7e-65fb-458b-b7f4-2c81a435c1e4",
   "metadata": {},
   "outputs": [
    {
     "name": "stdout",
     "output_type": "stream",
     "text": [
      "六"
     ]
    }
   ],
   "source": [
    "findWeek(2022, 12, 31)"
   ]
  },
  {
   "cell_type": "code",
   "execution_count": null,
   "id": "01130b41-cbf1-4336-aab9-588ac243d7a8",
   "metadata": {},
   "outputs": [
    {
     "name": "stdout",
     "output_type": "stream",
     "text": [
      "六"
     ]
    }
   ],
   "source": [
    "findWeek(2000, 1, 1)"
   ]
  },
  {
   "cell_type": "code",
   "execution_count": null,
   "id": "6e972ae5-f9df-4c46-ae5c-52dd7013df24",
   "metadata": {},
   "outputs": [
    {
     "name": "stdout",
     "output_type": "stream",
     "text": [
      "一"
     ]
    }
   ],
   "source": [
    "findWeek(1996, 12, 30)"
   ]
  },
  {
   "cell_type": "markdown",
   "id": "0f5e81b0",
   "metadata": {},
   "source": [
    "(1) 請說明函數（function）的兩項優點與 inline function 的目的。\n",
    "- 函數的優點：\n",
    "    1. 可重複利用的程式碼\n",
    "    2. 減少 scope 範圍方便維護\n",
    "- inline 函數：\n",
    "    - 主要目的是加入程式碼的運行。因為在 call 函數時會很花費時間，而 inline 會預先定義函數，程式執行時間。\n",
    "    \n",
    "(2) 請舉例說明生命期（extent）的意義與類型。\n",
    "- 主要分為兩種，分別是 static 與 local：\n",
    "    - static：與整個程式共存亡\n",
    "    - local：使用時才會產生，不使用則釋放記憶體\n"
   ]
  },
  {
   "cell_type": "markdown",
   "id": "3197d5e9",
   "metadata": {},
   "source": [
    "$1.\\ $輸入列數後，輸出相對的圖形。"
   ]
  },
  {
   "cell_type": "markdown",
   "id": "aca74160",
   "metadata": {},
   "source": [
    "$2.\\ $假設某月份為 31 天，輸入該月份 1 日的星期數，輸出該月份之月曆。"
   ]
  },
  {
   "cell_type": "code",
   "execution_count": null,
   "id": "d56a1866",
   "metadata": {},
   "outputs": [],
   "source": [
    "#include <iostream>\n",
    "#include <string>\n",
    "using namespace std;"
   ]
  },
  {
   "cell_type": "code",
   "execution_count": null,
   "id": "d6a6e77d",
   "metadata": {
    "tags": []
   },
   "outputs": [
    {
     "name": "stdout",
     "output_type": "stream",
     "text": [
      "\t日\t一\t二\t三\t四\t五\t六\n",
      "\t \t \t \t 1\t 2\t 3\t 4\n",
      "\t 5\t 6\t 7\t 8\t 9\t10\t11\n",
      "\t12\t13\t14\t15\t16\t17\t18\n",
      "\t19\t20\t21\t22\t23\t24\t25\n",
      "\t26\t27\t28\t29\t30\t31"
     ]
    }
   ],
   "source": [
    "string w[] = {\"日\", \"一\", \"二\", \"三\", \"四\", \"五\", \"六\"};\n",
    "\n",
    "int l = sizeof(w) / sizeof(w[0]);\n",
    "\n",
    "int d;\n",
    "string first_day_week = \"三\";\n",
    "int first_day_week_ind;\n",
    "// cin >> input_w;\n",
    "d = 31;\n",
    "\n",
    "for (int i = 0; i < l; i++)\n",
    "{\n",
    "    if (first_day_week == w[i]) first_day_week_ind = i;\n",
    "    cout << \"\\t\" << w[i];\n",
    "}\n",
    "\n",
    "cout << endl;\n",
    "\n",
    "for (int j = 0; j < first_day_week_ind; j++)\n",
    "{\n",
    "    cout << \"\\t \";\n",
    "}\n",
    "\n",
    "for (int k = 1; k <= 31; k++)\n",
    "{\n",
    "    if ((k + first_day_week_ind - 1) % 7 == 0) cout << endl;\n",
    "    printf(\"\\t%2d\", k);\n",
    "}\n"
   ]
  },
  {
   "cell_type": "markdown",
   "id": "110ad2c0",
   "metadata": {},
   "source": [
    "$3.\\ $輸入正整數$n$，輸出如下數列，直到數字超過$n$為止。"
   ]
  },
  {
   "cell_type": "markdown",
   "id": "1e36f65f",
   "metadata": {},
   "source": [
    "$1, 2, 2, 3, 3, 3, 4, 4, 4, 4, 5, 5, 5, 5, 5, \\dots$"
   ]
  },
  {
   "cell_type": "code",
   "execution_count": null,
   "id": "5a1bab43",
   "metadata": {},
   "outputs": [],
   "source": [
    "void numTimes(int n)\n",
    "{\n",
    "    int times = n;\n",
    "    while (times, times--)\n",
    "    {\n",
    "        cout << n;\n",
    "        if (times != 0) cout << \", \";\n",
    "    }\n",
    "}"
   ]
  },
  {
   "cell_type": "code",
   "execution_count": null,
   "id": "8392ff5b",
   "metadata": {},
   "outputs": [
    {
     "name": "stdin",
     "output_type": "stream",
     "text": [
      " 5\n"
     ]
    },
    {
     "name": "stdout",
     "output_type": "stream",
     "text": [
      "1, 2, 2, 3, 3, 3, 4, 4, 4, 4, 5, 5, 5, 5, 5"
     ]
    }
   ],
   "source": [
    "int n;\n",
    "cin >> n; // n = 5\n",
    "for (int i = 1; i <= n; i++)\n",
    "{\n",
    "    numTimes(i);\n",
    "    if (i != n) cout << \", \";\n",
    "}"
   ]
  },
  {
   "cell_type": "markdown",
   "id": "7bf972c3",
   "metadata": {},
   "source": [
    "$4.\\ $輸入正整數$n$，輸出$n \\times n$乘法表。"
   ]
  },
  {
   "cell_type": "code",
   "execution_count": null,
   "id": "4690129b",
   "metadata": {},
   "outputs": [
    {
     "name": "stdout",
     "output_type": "stream",
     "text": [
      "1*1= 1\t2*1= 2\t3*1= 3\t4*1= 4\t5*1= 5\t6*1= 6\t7*1= 7\t8*1= 8\t9*1= 9\t\n",
      "1*2= 2\t2*2= 4\t3*2= 6\t4*2= 8\t5*2=10\t6*2=12\t7*2=14\t8*2=16\t9*2=18\t\n",
      "1*3= 3\t2*3= 6\t3*3= 9\t4*3=12\t5*3=15\t6*3=18\t7*3=21\t8*3=24\t9*3=27\t\n",
      "1*4= 4\t2*4= 8\t3*4=12\t4*4=16\t5*4=20\t6*4=24\t7*4=28\t8*4=32\t9*4=36\t\n",
      "1*5= 5\t2*5=10\t3*5=15\t4*5=20\t5*5=25\t6*5=30\t7*5=35\t8*5=40\t9*5=45\t\n",
      "1*6= 6\t2*6=12\t3*6=18\t4*6=24\t5*6=30\t6*6=36\t7*6=42\t8*6=48\t9*6=54\t\n",
      "1*7= 7\t2*7=14\t3*7=21\t4*7=28\t5*7=35\t6*7=42\t7*7=49\t8*7=56\t9*7=63\t\n",
      "1*8= 8\t2*8=16\t3*8=24\t4*8=32\t5*8=40\t6*8=48\t7*8=56\t8*8=64\t9*8=72\t\n",
      "1*9= 9\t2*9=18\t3*9=27\t4*9=36\t5*9=45\t6*9=54\t7*9=63\t8*9=72\t9*9=81\t\n"
     ]
    }
   ],
   "source": [
    "int n = 9;\n",
    "// cin >> n; // n = 7\n",
    "for (int i = 1; i <= n; i++)\n",
    "{\n",
    "    for (int j = 1; j <= n; j++)\n",
    "    {\n",
    "        printf(\"%d*%d=%2d\\t\", j, i, i * j);\n",
    "    }\n",
    "    cout << endl;\n",
    "}"
   ]
  },
  {
   "cell_type": "markdown",
   "id": "7ca97900",
   "metadata": {},
   "source": [
    "$5.\\ $輸入西元年、月、日，輸出此日期是該年的第幾天？"
   ]
  },
  {
   "cell_type": "markdown",
   "id": "6ed6e171",
   "metadata": {},
   "source": [
    "![image.png](attachment:a639a2e1-d2f4-4725-8433-d0b16cf82242.png)"
   ]
  },
  {
   "cell_type": "code",
   "execution_count": null,
   "id": "6a899263",
   "metadata": {},
   "outputs": [
    {
     "data": {
      "text/plain": [
       "true"
      ]
     },
     "execution_count": 33,
     "metadata": {},
     "output_type": "execute_result"
    }
   ],
   "source": [
    "int y = 1600;\n",
    "(y % 400 == 0 || (y % 4 == 0 && y % 100 != 0))"
   ]
  },
  {
   "cell_type": "code",
   "execution_count": null,
   "id": "0322a128",
   "metadata": {},
   "outputs": [],
   "source": [
    "int mday(int y, int m)\n",
    "{\n",
    "    switch (m)\n",
    "    {\n",
    "        case 1: case 3: case 5: case 7: case 8: case 10: case 12:\n",
    "            return 31;\n",
    "            break;\n",
    "        case 2:\n",
    "            if (y % 400 == 0 || (y % 4 == 0 && y % 100 != 0)) return 29;\n",
    "            else return 28;\n",
    "            break;\n",
    "        case 4: case 6: case 9: case 11:\n",
    "            return 30;\n",
    "            break;\n",
    "        default:\n",
    "            return -1;\n",
    "    }\n",
    "}"
   ]
  },
  {
   "cell_type": "code",
   "execution_count": null,
   "id": "fc756382",
   "metadata": {},
   "outputs": [
    {
     "name": "stdin",
     "output_type": "stream",
     "text": [
      " 2022 12 31\n"
     ]
    },
    {
     "name": "stdout",
     "output_type": "stream",
     "text": [
      "365"
     ]
    }
   ],
   "source": [
    "int y, m, d;\n",
    "cin >> y >> m >> d;\n",
    "int acc = 0;\n",
    "if (m == 1) acc = d;\n",
    "else\n",
    "{\n",
    "    for (int i = 1; i < m; i++)\n",
    "    {\n",
    "        acc += mday(y, i);\n",
    "    }\n",
    "    acc += d;\n",
    "}\n",
    "cout << acc;"
   ]
  },
  {
   "cell_type": "markdown",
   "id": "697ab19b",
   "metadata": {},
   "source": [
    "$6.\\ $請輸入一個字串（最多 10 個字元），將字串中的文字大小寫互換後輸出。"
   ]
  },
  {
   "cell_type": "code",
   "execution_count": null,
   "id": "181873f6",
   "metadata": {},
   "outputs": [],
   "source": [
    "string s = \"AaBbCcDdEe\";\n",
    "// cin >> s;"
   ]
  },
  {
   "cell_type": "code",
   "execution_count": null,
   "id": "4a3bda68",
   "metadata": {},
   "outputs": [],
   "source": [
    "char switchCase(char a)\n",
    "{\n",
    "    // 'A' = 65\n",
    "    // 'Z' = 90\n",
    "    // 'a' = 97\n",
    "    // 'z' = 122\n",
    "\n",
    "    int i = (int) a;\n",
    "    if (i <= 90 && i >= 65) return (char) i + 32;\n",
    "    else return (char) i - 32;\n",
    "}"
   ]
  },
  {
   "cell_type": "code",
   "execution_count": null,
   "id": "8f1fd526",
   "metadata": {},
   "outputs": [
    {
     "name": "stdout",
     "output_type": "stream",
     "text": [
      "aAbBcCdDeE"
     ]
    }
   ],
   "source": [
    "for (int i = 0; i < s.size(); i++)\n",
    "{\n",
    "    cout << switchCase(s[i]);\n",
    "}"
   ]
  },
  {
   "cell_type": "markdown",
   "id": "de037314",
   "metadata": {},
   "source": [
    "$7.\\ $輸入一些正整數（$-1$代表結束），輸出這些整數中的最大值與最小值。"
   ]
  },
  {
   "cell_type": "code",
   "execution_count": null,
   "id": "839acb11",
   "metadata": {},
   "outputs": [],
   "source": [
    "#include <limits.h>"
   ]
  },
  {
   "cell_type": "code",
   "execution_count": null,
   "id": "eb7efda9",
   "metadata": {},
   "outputs": [
    {
     "name": "stdin",
     "output_type": "stream",
     "text": [
      " 123982 38382 023 -1\n"
     ]
    },
    {
     "name": "stdout",
     "output_type": "stream",
     "text": [
      "最大值: 123982\n",
      "最小值: 23"
     ]
    }
   ],
   "source": [
    "int n, max = INT_MIN, min = INT_MAX;\n",
    "while (cin >> n) // n = 123982 38382 023 -1\n",
    "{\n",
    "    if (n == -1) break;\n",
    "    if (n > max) max = n;\n",
    "    if (n < min) min = n;\n",
    "}\n",
    "cout << \"最大值: \" << max << endl << \"最小值: \" << min;"
   ]
  },
  {
   "cell_type": "markdown",
   "id": "588babf5",
   "metadata": {},
   "source": [
    "$8.\\ $輸入一些符號（a~z，$0$代表結束），輸出各種符號出現的次數。"
   ]
  },
  {
   "cell_type": "code",
   "execution_count": null,
   "id": "6054808b",
   "metadata": {},
   "outputs": [
    {
     "name": "stdout",
     "output_type": "stream",
     "text": [
      "a: 2\tb: 0\tc: 0\td: 4\te: 1\tf: 4\tg: 0\t\n",
      "h: 0\ti: 2\tj: 7\tk: 3\tl: 3\tm: 0\tn: 0\t\n",
      "o: 2\tp: 0\tq: 0\tr: 0\ts: 3\tt: 0\tu: 0\t\n",
      "v: 2\tw: 1\tx: 0\ty: 0\tz: 3\t"
     ]
    }
   ],
   "source": [
    "string s = \"abcdefghijklmnopqrstuvwxyz\";\n",
    "string ss = \"jsdklfjslkdfjvioajdfjwelkjvaiosjdfzzz\";\n",
    "int d[26] = {};\n",
    "for (int i = 0; i < ss.size(); i++)\n",
    "{\n",
    "    d[s.find(ss[i])] += 1;\n",
    "}\n",
    "\n",
    "for (int j = 0; j < s.size(); j++)\n",
    "{\n",
    "    if (j % 7 == 0 && j != 0) cout << endl;\n",
    "    cout << s[j] << \": \" << d[j] << \"\\t\";\n",
    "}"
   ]
  },
  {
   "cell_type": "markdown",
   "id": "299b5024",
   "metadata": {},
   "source": [
    "$9.\\ $輸入$n$個正整數（$n \\leq 10$，$-1$代表結束），以氣泡排序法輸出由小排到大的結果。"
   ]
  },
  {
   "cell_type": "markdown",
   "id": "e222f5eb",
   "metadata": {},
   "source": [
    "大為說：\n",
    "> 先把i固定在0 然後找1\\~n有沒有比0還大的 有就交換<br>\n",
    "> 然後把i固定在1 然後找2\\~n有沒有比1還大的 有就交換"
   ]
  },
  {
   "cell_type": "code",
   "execution_count": null,
   "id": "0d37a786",
   "metadata": {},
   "outputs": [
    {
     "name": "stdin",
     "output_type": "stream",
     "text": [
      "  5 3 2 1 4 -1\n"
     ]
    },
    {
     "data": {
      "text/plain": [
       "{ 5, 3, 2, 1, 4, 0, 0, 0, 0, 0 }"
      ]
     },
     "execution_count": 2,
     "metadata": {},
     "output_type": "execute_result"
    }
   ],
   "source": [
    "int max = 10;\n",
    "int n;\n",
    "int counter = 0;\n",
    "int A[10];\n",
    "while (cin >> n) // n = 5 3 2 1 4 -1\n",
    "{\n",
    "    if (n < 1 && n != -1)\n",
    "    {\n",
    "        cout << \"請輸入正整數！\" << endl;\n",
    "        break;\n",
    "    }\n",
    "    if (n == -1) break;\n",
    "    A[counter] = n;\n",
    "    counter++;\n",
    "    if (counter == 10) break;\n",
    "}\n",
    "A"
   ]
  },
  {
   "cell_type": "code",
   "execution_count": null,
   "id": "f8a07b0c",
   "metadata": {},
   "outputs": [],
   "source": [
    "int i, j, tmp;\n",
    "int n = sizeof(A) / sizeof(int);\n",
    "for(i = n-1; i > 0; i--)\n",
    "{\n",
    "    for(j = 0; j <= i-1; j++)\n",
    "    {\n",
    "        if( A[j] > A[j+1])\n",
    "        {\n",
    "            tmp = A [j];\n",
    "            A[j] = A[j+1];\n",
    "            A[j+1] = tmp;\n",
    "        }\n",
    "    }\n",
    "}"
   ]
  },
  {
   "cell_type": "code",
   "execution_count": null,
   "id": "3c709104",
   "metadata": {},
   "outputs": [
    {
     "name": "stdout",
     "output_type": "stream",
     "text": [
      "1, 2, 3, 4, 5"
     ]
    }
   ],
   "source": [
    "for (int i = 0; i < n; i++)\n",
    "{\n",
    "    if (A[i] > 0) \n",
    "    {\n",
    "        cout << A[i];\n",
    "        if (i != n - 1) cout << \", \";\n",
    "    }\n",
    "}"
   ]
  },
  {
   "cell_type": "markdown",
   "id": "8831aa38",
   "metadata": {},
   "source": [
    "$10.\\ $假設西元 2000 年 1 月 1 日為星期六。分三列輸入某年某月某日，輸出該日期是星期幾。"
   ]
  },
  {
   "cell_type": "code",
   "execution_count": null,
   "id": "09f90ab8",
   "metadata": {},
   "outputs": [],
   "source": [
    "bool leap(int i)\n",
    "{\n",
    "     return i % 400 == 0 || (i % 4 == 0 && i % 100 != 0);\n",
    "}"
   ]
  },
  {
   "cell_type": "code",
   "execution_count": null,
   "id": "bb3811e8",
   "metadata": {},
   "outputs": [],
   "source": [
    "int mday(int y, int m)\n",
    "{\n",
    "    switch (m)\n",
    "    {\n",
    "        case 1: case 3: case 5: case 7: case 8: case 10: case 12:\n",
    "            return 31;\n",
    "            break;\n",
    "        case 2:\n",
    "            if (leap(y)) return 29;\n",
    "            else return 28;\n",
    "            break;\n",
    "        case 4: case 6: case 9: case 11:\n",
    "            return 30;\n",
    "            break;\n",
    "        default:\n",
    "            return -1;\n",
    "    }\n",
    "}"
   ]
  },
  {
   "cell_type": "code",
   "execution_count": null,
   "id": "9e7ed3cc",
   "metadata": {},
   "outputs": [],
   "source": [
    "int yearday(int y, int m, int d)\n",
    "{\n",
    "    int acc = 0;\n",
    "    if (m >= 2)\n",
    "    {\n",
    "        for (int i = 1; i < m; i++)\n",
    "        {\n",
    "            acc += mday(y, i);\n",
    "        }\n",
    "    }\n",
    "    acc += d;\n",
    "    return acc;\n",
    "}"
   ]
  },
  {
   "cell_type": "code",
   "execution_count": null,
   "id": "f0b6f961",
   "metadata": {
    "tags": []
   },
   "outputs": [],
   "source": [
    "void findWeek(int y, int m, int d)\n",
    "{\n",
    "    // 2000-01-01 Saturday\n",
    "\n",
    "    string w[] = {\"六\", \"日\", \"一\", \"二\", \"三\", \"四\", \"五\"};\n",
    "    int acc = 0;\n",
    "    // cin >> y >> m >> d;\n",
    "    if (y > 2000)\n",
    "    {\n",
    "        acc += 365;\n",
    "        for (int i = 2001; i <= y - 1; i++)\n",
    "        {\n",
    "            int day = leap(i) ? 366 : 365;\n",
    "            acc += day;\n",
    "        }\n",
    "        acc += yearday(y, m, d);\n",
    "        cout << w[acc % 7];\n",
    "    }\n",
    "    if (y < 2000)\n",
    "    {\n",
    "        acc += 1;\n",
    "        for (int i = 1999; i > y; i--)\n",
    "        {\n",
    "            int day = leap(i) ? 366 : 365;\n",
    "            acc += day;\n",
    "        }\n",
    "        int y_day = leap(y) ? 366 : 365;\n",
    "        acc += y_day - yearday(y, m, d);\n",
    "        cout << w[-acc % 7 + 7];\n",
    "    }\n",
    "    if (y == 2000)\n",
    "    {\n",
    "        acc = yearday(y, m, d) - 1;\n",
    "        cout << w[acc % 7];\n",
    "    }\n",
    "}"
   ]
  },
  {
   "cell_type": "code",
   "execution_count": null,
   "id": "eea69ee0",
   "metadata": {},
   "outputs": [
    {
     "name": "stdout",
     "output_type": "stream",
     "text": [
      "六"
     ]
    }
   ],
   "source": [
    "findWeek(2022, 12, 31)"
   ]
  },
  {
   "cell_type": "code",
   "execution_count": null,
   "id": "766a7fe1",
   "metadata": {},
   "outputs": [
    {
     "name": "stdout",
     "output_type": "stream",
     "text": [
      "六"
     ]
    }
   ],
   "source": [
    "findWeek(2000, 1, 1)"
   ]
  },
  {
   "cell_type": "code",
   "execution_count": null,
   "id": "0d6ac7ee",
   "metadata": {},
   "outputs": [
    {
     "name": "stdout",
     "output_type": "stream",
     "text": [
      "一"
     ]
    }
   ],
   "source": [
    "findWeek(1996, 12, 30)"
   ]
  }
 ],
 "metadata": {
  "kernelspec": {
   "display_name": "C++11",
   "language": "C++11",
   "name": "xcpp11"
  },
  "language_info": {
   "codemirror_mode": "text/x-c++src",
   "file_extension": ".cpp",
   "mimetype": "text/x-c++src",
   "name": "c++",
   "version": "11"
  },
  "toc-showcode": false,
  "toc-showmarkdowntxt": true
 },
 "nbformat": 4,
 "nbformat_minor": 5
}
