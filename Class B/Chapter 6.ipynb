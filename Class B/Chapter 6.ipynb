{
 "cells": [
  {
   "cell_type": "markdown",
   "id": "6938dbe5-400f-4266-8420-ac3ccf10d854",
   "metadata": {},
   "source": [
    "# Chapter 6 - 函數"
   ]
  },
  {
   "cell_type": "code",
   "execution_count": 1,
   "id": "00770249-b91b-4435-b4f6-8a30d99a3d49",
   "metadata": {},
   "outputs": [],
   "source": [
    "#include <iostream>\n",
    "using namespace std;"
   ]
  },
  {
   "cell_type": "code",
   "execution_count": 2,
   "id": "e80106ae-5bfe-40c3-8ddf-2da2e840095b",
   "metadata": {},
   "outputs": [
    {
     "name": "stdout",
     "output_type": "stream",
     "text": [
      "********\n",
      "6*6=36\n",
      "********\n"
     ]
    }
   ],
   "source": [
    "void star(void) {\n",
    "    int j;\n",
    "    for (j = 1; j <= 8; j++)\n",
    "        cout << \"*\";\n",
    "    cout << endl;\n",
    "    return;\n",
    "}\n",
    "\n",
    "star();\n",
    "cout << \"6*6=\" << 6 * 6 << endl;\n",
    "star();"
   ]
  },
  {
   "cell_type": "code",
   "execution_count": null,
   "id": "e4fd35f0-d530-4bd3-917b-81092a7b1cb0",
   "metadata": {},
   "outputs": [
    {
     "name": "stdin",
     "output_type": "stream",
     "text": [
      " 3 4\n"
     ]
    },
    {
     "name": "stdout",
     "output_type": "stream",
     "text": [
      "25"
     ]
    }
   ],
   "source": [
    "/**\n",
    " add two integer together\n",
    " @param p\n",
    " @param q\n",
    " @return t, sum of p and q.\n",
    "*/\n",
    "int f(int p, int q)\n",
    "{\n",
    "    int t;\n",
    "    t = p * p + q * q;\n",
    "    return t;\n",
    "}\n",
    "\n",
    "int a, b, c;\n",
    "cin >> a >> b;\n",
    "c = f(a, b);\n",
    "cout << c;"
   ]
  },
  {
   "cell_type": "markdown",
   "id": "10b55e00-daaa-4e70-a420-cd737cf24d99",
   "metadata": {},
   "source": [
    "### 6.3 變數的等級"
   ]
  },
  {
   "cell_type": "code",
   "execution_count": 3,
   "id": "8921ad10-cc15-45b8-bdf4-8f46dbc1b596",
   "metadata": {},
   "outputs": [
    {
     "name": "stderr",
     "output_type": "stream",
     "text": [
      "input_line_9:2:2: warning: 'auto' storage class specifier is not permitted in C++11, and will not be supported in future releases [-Wauto-storage-class]\n",
      " auto int i;       // 宣告區域整數變數 i\n",
      " ^~~~~\n"
     ]
    },
    {
     "ename": "Interpreter Error",
     "evalue": "",
     "output_type": "error",
     "traceback": [
      "Interpreter Error: "
     ]
    }
   ],
   "source": [
    "auto int i;       // 宣告區域整數變數 i\n",
    "extern char ch;   // 宣告外部字元變數 ch\n",
    "static float f;   // 宣告靜態浮點數變數 f"
   ]
  },
  {
   "cell_type": "markdown",
   "id": "75a7ec1f-bddc-491a-a205-c530ce707822",
   "metadata": {},
   "source": [
    "參照 `scope-extern.ipynb`"
   ]
  },
  {
   "cell_type": "markdown",
   "id": "910a5042-3c1c-40d7-bd40-37f770c0a0ee",
   "metadata": {},
   "source": [
    "- function 的優缺點\n",
    "    - 優點：\n",
    "        1. 可以避免重複的程式碼出現 -> compile 後的檔案大小變小 -> load 到記憶體所佔的空間變小\n",
    "        2. 可讀性變高\n",
    "        3. 很適合團隊合作\n",
    "    \n",
    "    - 缺點：\n",
    "        1. 執行效能較差（唯一的缺點？）\n",
    "        > call function 要有一些準備動作 e.g. 參數, 程式碼 需要花時間，與收尾動作\n",
    "        \n",
    "        解決辦法 inline function\n",
    "  \n",
    "inline function 會將程式碼嵌入到原始程式碼中，使記憶體變大"
   ]
  },
  {
   "cell_type": "code",
   "execution_count": 4,
   "id": "811ad378-820d-43b3-9007-6b927229d0f0",
   "metadata": {},
   "outputs": [
    {
     "name": "stdout",
     "output_type": "stream",
     "text": [
      "1000\n",
      "900\n",
      "800\n",
      "700\n",
      "600\n",
      "500\n",
      "400\n",
      "300\n",
      "200\n",
      "100\n",
      "0\n"
     ]
    }
   ],
   "source": [
    "int n = 1001;\n",
    "while (n, n--)\n",
    "{\n",
    "    if (n % 100 == 0) cout << n << endl;\n",
    "}"
   ]
  },
  {
   "cell_type": "markdown",
   "id": "8d86a920-a802-4238-8a07-f81ee75c1865",
   "metadata": {},
   "source": [
    "萬年曆 遞迴 = 100 分"
   ]
  },
  {
   "cell_type": "markdown",
   "id": "d8b5e94e-e8cf-402d-9b58-ccbe3d39db41",
   "metadata": {},
   "source": [
    "遞迴\n",
    "\n",
    "- 優點：\n",
    "    1. 可讀性較好\n",
    "- 缺點：\n",
    "    1. 很多 function call"
   ]
  },
  {
   "cell_type": "code",
   "execution_count": null,
   "id": "fa2bd91b-7a50-4801-939a-f406869be5d2",
   "metadata": {},
   "outputs": [],
   "source": []
  }
 ],
 "metadata": {
  "kernelspec": {
   "display_name": "C++14",
   "language": "C++14",
   "name": "xcpp14"
  },
  "language_info": {
   "codemirror_mode": "text/x-c++src",
   "file_extension": ".cpp",
   "mimetype": "text/x-c++src",
   "name": "c++",
   "version": "14"
  }
 },
 "nbformat": 4,
 "nbformat_minor": 5
}
