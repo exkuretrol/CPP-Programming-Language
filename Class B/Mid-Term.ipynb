{
 "cells": [
  {
   "cell_type": "markdown",
   "id": "3d69363f-563b-403e-9227-cd908422e95a",
   "metadata": {
    "tags": []
   },
   "source": [
    "### 期中考"
   ]
  },
  {
   "cell_type": "markdown",
   "id": "1b5f553c-9efc-448f-820b-5e3104d0ee10",
   "metadata": {},
   "source": [
    "3. "
   ]
  },
  {
   "cell_type": "code",
   "execution_count": 3,
   "id": "53f2a954-22f4-47cd-a03d-20b9abcec5b7",
   "metadata": {},
   "outputs": [
    {
     "name": "stdout",
     "output_type": "stream",
     "text": [
      "*\n",
      "**\n",
      "***\n",
      "over\n",
      "***\n",
      "over\n",
      "over\n"
     ]
    }
   ],
   "source": [
    "int i;\n",
    "for (i = 1; i<= 5; i = i + 2)\n",
    "{\n",
    "    switch (i)\n",
    "    {\n",
    "        case 1: cout << \"*\\n\";\n",
    "        case 2: cout << \"**\\n\";\n",
    "        case 3: cout << \"***\\n\";\n",
    "        default: cout << \"over\\n\";\n",
    "    }\n",
    "}"
   ]
  },
  {
   "cell_type": "markdown",
   "id": "45205c5a-3908-46c5-94e1-dd3af026c3d0",
   "metadata": {},
   "source": [
    "4. "
   ]
  },
  {
   "cell_type": "code",
   "execution_count": 7,
   "id": "ccd68ef8-76c1-4b06-8257-987f8a1b83ed",
   "metadata": {},
   "outputs": [
    {
     "name": "stderr",
     "output_type": "stream",
     "text": [
      "input_line_14:4:28: warning: implicit conversion from 'int' to 'char' changes value from 255 to -1 [-Wconstant-conversion]\n",
      "ch1 = 97; ch2 = 'B'; ch3 = 255;\n",
      "                         ~ ^~~\n"
     ]
    },
    {
     "name": "stdout",
     "output_type": "stream",
     "text": [
      "a68-110\n"
     ]
    }
   ],
   "source": [
    "char ch1, ch2, ch3;\n",
    "int x, y;\n",
    "ch1 = 97; ch2 = 'B'; ch3 = 255;\n",
    "x = ch1 < ch2;\n",
    "y = x++;\n",
    "cout << ch1 << ch2 + 2 << (int) ch3 << x << y << endl;"
   ]
  },
  {
   "cell_type": "markdown",
   "id": "44aa41d3-8412-4e76-8951-5165cb50ea6f",
   "metadata": {},
   "source": [
    "5. "
   ]
  },
  {
   "cell_type": "code",
   "execution_count": 6,
   "id": "e33c6431-b85b-41db-8bac-4ddef208534a",
   "metadata": {},
   "outputs": [
    {
     "name": "stderr",
     "output_type": "stream",
     "text": [
      "input_line_13:4:7: warning: using the result of an assignment as a condition without parentheses [-Wparentheses]\n",
      "if (a = b)\n",
      "    ~~^~~\n",
      "input_line_13:4:7: note: place parentheses around the assignment to silence this warning\n",
      "if (a = b)\n",
      "      ^\n",
      "    (    )\n",
      "input_line_13:4:7: note: use '==' to turn this assignment into an equality comparison\n",
      "if (a = b)\n",
      "      ^\n",
      "      ==\n"
     ]
    },
    {
     "name": "stdout",
     "output_type": "stream",
     "text": [
      "22404\n"
     ]
    }
   ],
   "source": [
    "int a = 1, b = 2, c = 3, d = 4, e = 5;\n",
    "e = (a > b) ? c : d;\n",
    "if (a = b)\n",
    "    d = (a + 2) % 2;\n",
    "else\n",
    "    d = (a + 3) % 3;\n",
    "cout << a << b++ << ++c << d << e << endl;"
   ]
  },
  {
   "cell_type": "markdown",
   "id": "c49d6ab2-e66e-4da0-a245-b95523f77fc1",
   "metadata": {},
   "source": [
    "6. "
   ]
  },
  {
   "cell_type": "markdown",
   "id": "113f50e0-819e-473d-a7d9-34c8a0fca816",
   "metadata": {},
   "source": [
    "[![](https://mermaid.ink/img/pako:eNp1k01vwjAMhv-KlROTihAULhVjF3bcabs1HJwPIBJNq5Aetor_viQlVVhYD07tvo_tWvFAeCskqcjJYHeGrz3V4J6rRWNndTgOLzHWdrPaStMojVaKGG-7Za20sgov6kdCCUpbeZKmACyAOasF8MOoVbrrbb1AeIU3YMFybxf372I5IOyA3e7uKrg8uuXAUnf96G4exKF3mM93vsFwhuLhTfgAUGJNLykZQ6sshDV103HIdgtIyWHUleDOqPMRlsiYNzxq_cTif43Zj3i5ThXXWUWeppoqbvJm087-K7nKS8qE4xPMnsBlDh__ws-4dc6dMu5hoAm8yeFz1nHKkYI07j6iEu4GDz6LG9NZNo6ufKLWyKulhOqbU_adcNf2XSjbGlKFIgXB3raf35qTyo83ivYK3T40k0oG6GPclLAwt18YBuuX?type=png)](https://mermaid.live/edit#pako:eNp1k01vwjAMhv-KlROTihAULhVjF3bcabs1HJwPIBJNq5Aetor_viQlVVhYD07tvo_tWvFAeCskqcjJYHeGrz3V4J6rRWNndTgOLzHWdrPaStMojVaKGG-7Za20sgov6kdCCUpbeZKmACyAOasF8MOoVbrrbb1AeIU3YMFybxf372I5IOyA3e7uKrg8uuXAUnf96G4exKF3mM93vsFwhuLhTfgAUGJNLykZQ6sshDV103HIdgtIyWHUleDOqPMRlsiYNzxq_cTif43Zj3i5ThXXWUWeppoqbvJm087-K7nKS8qE4xPMnsBlDh__ws-4dc6dMu5hoAm8yeFz1nHKkYI07j6iEu4GDz6LG9NZNo6ufKLWyKulhOqbU_adcNf2XSjbGlKFIgXB3raf35qTyo83ivYK3T40k0oG6GPclLAwt18YBuuX)"
   ]
  },
  {
   "cell_type": "code",
   "execution_count": 5,
   "id": "aeed93d0-6ab6-48a0-830d-f9f7e892f701",
   "metadata": {},
   "outputs": [
    {
     "name": "stdin",
     "output_type": "stream",
     "text": [
      " 1 2 3\n"
     ]
    },
    {
     "name": "stdout",
     "output_type": "stream",
     "text": [
      "321"
     ]
    }
   ],
   "source": [
    "int a, b, c;\n",
    "cin >> a >> b >> c;\n",
    "if (a > b)\n",
    "{\n",
    "    if (a > c)\n",
    "    {\n",
    "        cout << a;\n",
    "        if (b > c)\n",
    "        {\n",
    "            cout << b << c;\n",
    "        }\n",
    "        else\n",
    "        {\n",
    "            cout << c << b;\n",
    "        }\n",
    "    }\n",
    "    else\n",
    "    {\n",
    "        cout << c << a << b;\n",
    "    }\n",
    "}\n",
    "else\n",
    "{\n",
    "    if (b > c)\n",
    "    {\n",
    "        cout << b;\n",
    "        if (a > c)\n",
    "        {\n",
    "            cout << a << c;\n",
    "        }\n",
    "        else\n",
    "        {\n",
    "            cout << c << a;\n",
    "        }\n",
    "    }\n",
    "    else\n",
    "    {\n",
    "        cout << c << b << a;\n",
    "    }\n",
    "}"
   ]
  },
  {
   "cell_type": "markdown",
   "id": "816df99d-428e-4417-b834-ae0a494c0acb",
   "metadata": {},
   "source": [
    "7. "
   ]
  },
  {
   "cell_type": "code",
   "execution_count": 29,
   "id": "2d08d1b3-e08c-4fc0-b582-d105b17ad695",
   "metadata": {},
   "outputs": [
    {
     "name": "stdin",
     "output_type": "stream",
     "text": [
      " 5\n"
     ]
    },
    {
     "name": "stdout",
     "output_type": "stream",
     "text": [
      "153"
     ]
    }
   ],
   "source": [
    "int n, sum = 0;\n",
    "cin >> n;\n",
    "\n",
    "for (int i = 1; i <= n; i++)\n",
    "{\n",
    "    int acc = 1;\n",
    "    //       vvvvv\n",
    "    for (int j = i; j > 0; j--) acc *= j;\n",
    "    sum += acc;\n",
    "}\n",
    "\n",
    "cout << sum;"
   ]
  }
 ],
 "metadata": {
  "kernelspec": {
   "display_name": "C++14",
   "language": "C++14",
   "name": "xcpp14"
  },
  "language_info": {
   "codemirror_mode": "text/x-c++src",
   "file_extension": ".cpp",
   "mimetype": "text/x-c++src",
   "name": "c++",
   "version": "14"
  }
 },
 "nbformat": 4,
 "nbformat_minor": 5
}
