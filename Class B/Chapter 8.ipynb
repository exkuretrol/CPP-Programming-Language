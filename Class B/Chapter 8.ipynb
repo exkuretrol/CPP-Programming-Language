{
 "cells": [
  {
   "cell_type": "markdown",
   "id": "139defe1-a83e-488d-aed7-babdb5bbe487",
   "metadata": {},
   "source": [
    "# 陣列與字串"
   ]
  },
  {
   "cell_type": "markdown",
   "id": "7e5d5d00-2071-4372-9732-140964124054",
   "metadata": {},
   "source": [
    "陣列的優點\n",
    "\n",
    "1. 快速新增大量的變數\n",
    "2. 搭配程式做快速的撰寫 for 執行\n",
    "\n",
    "note:\n",
    "\n",
    "- 陣列的元素會把它放在連續的記憶體上"
   ]
  },
  {
   "cell_type": "markdown",
   "id": "95bfb266-d523-481f-8d66-acdc74f8ab57",
   "metadata": {},
   "source": [
    "## 8.1 一維陣列"
   ]
  },
  {
   "cell_type": "markdown",
   "id": "33de9215-4a97-4ec6-b4f6-859e6c057c54",
   "metadata": {},
   "source": [
    "### 8.1.1 一維陣列宣告"
   ]
  },
  {
   "cell_type": "code",
   "execution_count": 5,
   "id": "8bd0712c-8aaa-4cf2-8b26-c87717d68819",
   "metadata": {},
   "outputs": [],
   "source": [
    "int score[6];\n",
    "float temp[7];\n",
    "char name[12];"
   ]
  },
  {
   "cell_type": "code",
   "execution_count": 9,
   "id": "a97610ab-4d7e-4d5e-a795-91b088dc27a8",
   "metadata": {},
   "outputs": [
    {
     "data": {
      "text/plain": [
       "{ 0, 0, 0, 0, 0, 0 }"
      ]
     },
     "execution_count": 9,
     "metadata": {},
     "output_type": "execute_result"
    }
   ],
   "source": [
    "score"
   ]
  },
  {
   "cell_type": "code",
   "execution_count": 11,
   "id": "c2298bbd-fa6d-44ac-9f81-cba87e673360",
   "metadata": {},
   "outputs": [
    {
     "data": {
      "text/plain": [
       "{ 0.00000f, 0.00000f, 0.00000f, 0.00000f, 0.00000f, 0.00000f, 0.00000f }"
      ]
     },
     "execution_count": 11,
     "metadata": {},
     "output_type": "execute_result"
    }
   ],
   "source": [
    "temp"
   ]
  },
  {
   "cell_type": "code",
   "execution_count": 19,
   "id": "f9922c67-2255-43b5-adc1-68bd94935789",
   "metadata": {},
   "outputs": [
    {
     "data": {
      "text/plain": [
       "\"\u0000\u0000\u0000\u0000\u0000\u0000\u0000\u0000\u0000\u0000\""
      ]
     },
     "execution_count": 19,
     "metadata": {},
     "output_type": "execute_result"
    }
   ],
   "source": [
    "name"
   ]
  },
  {
   "cell_type": "markdown",
   "id": "32f86edb-ddb4-4b99-8ed2-afcc0b683cff",
   "metadata": {},
   "source": [
    "score 陣列裡面第 2 個元素佔了 4 個 bytes"
   ]
  },
  {
   "cell_type": "code",
   "execution_count": 21,
   "id": "860a33e3-9b67-4478-b5d6-1fc1a314ef80",
   "metadata": {},
   "outputs": [
    {
     "data": {
      "text/plain": [
       "4"
      ]
     },
     "execution_count": 21,
     "metadata": {},
     "output_type": "execute_result"
    }
   ],
   "source": [
    "sizeof(score[1])"
   ]
  },
  {
   "cell_type": "markdown",
   "id": "39f0d080-0b88-4d20-9e34-37dec65751d3",
   "metadata": {},
   "source": [
    "score 陣列總共站了 24 個 bytes"
   ]
  },
  {
   "cell_type": "code",
   "execution_count": 23,
   "id": "0b963aa2-55fa-420a-bef3-197f1f41d764",
   "metadata": {},
   "outputs": [
    {
     "data": {
      "text/plain": [
       "24"
      ]
     },
     "execution_count": 23,
     "metadata": {},
     "output_type": "execute_result"
    }
   ],
   "source": [
    "sizeof(score)"
   ]
  },
  {
   "cell_type": "code",
   "execution_count": 25,
   "id": "d1471da3-ee2d-49b3-8f38-4a5dfa82d093",
   "metadata": {},
   "outputs": [
    {
     "data": {
      "text/plain": [
       "6"
      ]
     },
     "execution_count": 25,
     "metadata": {},
     "output_type": "execute_result"
    }
   ],
   "source": [
    "sizeof(score) / sizeof(score[1])"
   ]
  },
  {
   "cell_type": "markdown",
   "id": "a88fb0a5-8ca9-4eb8-a92f-d89fea32ad77",
   "metadata": {},
   "source": [
    "### 8.1.3 陣列初值設定"
   ]
  },
  {
   "cell_type": "code",
   "execution_count": 27,
   "id": "c031fa97-3669-47d6-912a-a92ca63a2d48",
   "metadata": {},
   "outputs": [],
   "source": [
    "int day[3] = {1, 2, 3};"
   ]
  },
  {
   "cell_type": "code",
   "execution_count": 31,
   "id": "ac07e9e7-34b9-4ec0-a5d9-90bf4fbb42de",
   "metadata": {},
   "outputs": [
    {
     "data": {
      "text/plain": [
       "{ 1, 2, 3 }"
      ]
     },
     "execution_count": 31,
     "metadata": {},
     "output_type": "execute_result"
    }
   ],
   "source": [
    "day"
   ]
  },
  {
   "cell_type": "markdown",
   "id": "483bd341-796b-4f18-a1e6-b1dcea09ff8e",
   "metadata": {},
   "source": [
    "依初值設定個數決定陣列的長度"
   ]
  },
  {
   "cell_type": "code",
   "execution_count": 33,
   "id": "6d60ba67-d5e1-4b5f-ba78-9addf0b1ae38",
   "metadata": {},
   "outputs": [],
   "source": [
    "int day[] = {1, 2, 3, 4, 5, 6, 7}"
   ]
  },
  {
   "cell_type": "code",
   "execution_count": 35,
   "id": "4a20104f-a81c-4c00-8fad-4f2a178c8789",
   "metadata": {},
   "outputs": [
    {
     "data": {
      "text/plain": [
       "{ 1, 2, 3, 4, 5, 6, 7 }"
      ]
     },
     "execution_count": 35,
     "metadata": {},
     "output_type": "execute_result"
    }
   ],
   "source": [
    "day"
   ]
  },
  {
   "cell_type": "markdown",
   "id": "89a1dfa8-158d-44a0-a5d9-09b238d11872",
   "metadata": {},
   "source": [
    "如果陣列初值比陣列長度短，剩下的元素會填 0"
   ]
  },
  {
   "cell_type": "code",
   "execution_count": 39,
   "id": "92b23a74-1194-41e7-8afd-5f0656883cca",
   "metadata": {},
   "outputs": [],
   "source": [
    "int day[5] = {1, 2, 3, 4}"
   ]
  },
  {
   "cell_type": "code",
   "execution_count": 41,
   "id": "576604a0-c30c-411f-b8a5-f38e7f8e155d",
   "metadata": {},
   "outputs": [
    {
     "data": {
      "text/plain": [
       "{ 1, 2, 3, 4, 0 }"
      ]
     },
     "execution_count": 41,
     "metadata": {},
     "output_type": "execute_result"
    }
   ],
   "source": [
    "day"
   ]
  },
  {
   "cell_type": "code",
   "execution_count": 43,
   "id": "91cb6ea5-2359-4907-9eea-7abdaa59fd45",
   "metadata": {},
   "outputs": [
    {
     "name": "stderr",
     "output_type": "stream",
     "text": [
      "input_line_62:2:31: error: excess elements in array initializer\n",
      " int day[5] = {1, 2, 3, 4, 5, 6}\n",
      "                              ^\n"
     ]
    },
    {
     "ename": "Interpreter Error",
     "evalue": "",
     "output_type": "error",
     "traceback": [
      "Interpreter Error: "
     ]
    }
   ],
   "source": [
    "int day[5] = {1, 2, 3, 4, 5, 6}"
   ]
  },
  {
   "cell_type": "code",
   "execution_count": 45,
   "id": "8207947b-e660-4758-ae5a-031f9ee30ec2",
   "metadata": {},
   "outputs": [],
   "source": [
    "int data[5] = {100};"
   ]
  },
  {
   "cell_type": "code",
   "execution_count": 47,
   "id": "377c0539-2885-42a9-9509-308d2873b329",
   "metadata": {},
   "outputs": [
    {
     "data": {
      "text/plain": [
       "{ 100, 0, 0, 0, 0 }"
      ]
     },
     "execution_count": 47,
     "metadata": {},
     "output_type": "execute_result"
    }
   ],
   "source": [
    "data"
   ]
  },
  {
   "cell_type": "markdown",
   "id": "361bef8b-4621-4d42-ac23-4a0ee02f715e",
   "metadata": {},
   "source": [
    "### 8.1.4 找出陣列的最大最小值"
   ]
  },
  {
   "cell_type": "code",
   "execution_count": 1,
   "id": "5ed0b901-277b-4b10-a5ae-c2bab7298ba0",
   "metadata": {},
   "outputs": [],
   "source": [
    "#include <iostream>\n",
    "using namespace std;"
   ]
  },
  {
   "cell_type": "code",
   "execution_count": 7,
   "id": "2f41bc8e-d747-4660-8207-8777cd1628a9",
   "metadata": {},
   "outputs": [
    {
     "name": "stdin",
     "output_type": "stream",
     "text": [
      " 1 2 3 -1\n"
     ]
    },
    {
     "name": "stdout",
     "output_type": "stream",
     "text": [
      "3\n",
      "1"
     ]
    }
   ],
   "source": [
    "int n, max = -9999, min = 9999;\n",
    "while (cin >> n)\n",
    "{\n",
    "    if (n == -1) break;\n",
    "    if (n > max) max = n;\n",
    "    if (n < min) min = n;\n",
    "}\n",
    "cout << max << endl << min;"
   ]
  },
  {
   "cell_type": "code",
   "execution_count": 9,
   "id": "d9677321-2ae0-4820-9e14-13adc126dff8",
   "metadata": {},
   "outputs": [
    {
     "name": "stdout",
     "output_type": "stream",
     "text": [
      "elements in array A are 48 75 30 17 62 \n",
      "Maximum is 75\n",
      "Minimum is 17"
     ]
    }
   ],
   "source": [
    "int A[] = {48, 75, 30, 17, 62};\n",
    "int i, min = A[0], max = A[0];\n",
    "int length = sizeof(A) / sizeof(int);\n",
    "cout << \"elements in array A are \";\n",
    "for (i = 0; i < length; i++)\n",
    "{\n",
    "    cout << A[i] << \" \";\n",
    "    if (A[i] > max) max = A[i];\n",
    "    if (A[i] < min) min = A[i];\n",
    "}\n",
    "cout << endl << \"Maximum is \" << max;\n",
    "cout << endl << \"Minimum is \" << min;"
   ]
  },
  {
   "cell_type": "code",
   "execution_count": 17,
   "id": "e70cfdfc-e077-45e5-8ba8-425610feddca",
   "metadata": {},
   "outputs": [
    {
     "name": "stdout",
     "output_type": "stream",
     "text": [
      "Enter 0 stopping input!!\n",
      "Input score: "
     ]
    },
    {
     "name": "stdin",
     "output_type": "stream",
     "text": [
      " 1 2 3\n"
     ]
    },
    {
     "name": "stdout",
     "output_type": "stream",
     "text": [
      "Input score: Input score: Input score: "
     ]
    },
    {
     "name": "stdin",
     "output_type": "stream",
     "text": [
      " 4\n"
     ]
    },
    {
     "name": "stdout",
     "output_type": "stream",
     "text": [
      "Input score: "
     ]
    },
    {
     "name": "stdin",
     "output_type": "stream",
     "text": [
      " 5\n"
     ]
    },
    {
     "name": "stdout",
     "output_type": "stream",
     "text": [
      "No more space!!\n",
      "Average of all is 3\n"
     ]
    }
   ],
   "source": [
    "#define MAX 5\n",
    "int score[MAX];\n",
    "int i = 0, num;\n",
    "float sum = 0.0f;\n",
    "cout << \"Enter 0 stopping input!!\" << endl;\n",
    "do\n",
    "{\n",
    "    if (i == MAX)\n",
    "    {\n",
    "        cout << \"No more space!!\" << endl;\n",
    "        i++;\n",
    "        break;\n",
    "    }\n",
    "    cout << \"Input score: \";\n",
    "    cin >> score[i];\n",
    "} while (score[i++] > 0);\n",
    "num = i - 1;\n",
    "for (i = 0; i < num; i++) sum += score[i];\n",
    "cout << \"Average of all is \" << sum / num << endl;"
   ]
  },
  {
   "cell_type": "markdown",
   "id": "62e329d4-436e-4ae1-b066-7670395e37dc",
   "metadata": {},
   "source": [
    "## 8.2 二維以上的多維陣列"
   ]
  },
  {
   "cell_type": "markdown",
   "id": "08377d58-de29-4402-a07a-70f917d72486",
   "metadata": {},
   "source": [
    "### 8.2.1 二維陣列的宣告與配置記憶體"
   ]
  },
  {
   "cell_type": "code",
   "execution_count": 25,
   "id": "ce10f709-a8ed-4009-97e5-55d48a4f1a36",
   "metadata": {},
   "outputs": [
    {
     "data": {
      "text/plain": [
       "{ { 0, 0, 0, 0 }, { 0, 0, 0, 0 } }"
      ]
     },
     "execution_count": 25,
     "metadata": {},
     "output_type": "execute_result"
    }
   ],
   "source": [
    "int data[2][4];\n",
    "data"
   ]
  },
  {
   "cell_type": "markdown",
   "id": "9ad17293-c6af-4c13-8e10-9730aefe8544",
   "metadata": {},
   "source": [
    "row major 的擺法"
   ]
  },
  {
   "cell_type": "code",
   "execution_count": 29,
   "id": "68058ff8-addc-4a93-9a8d-1ce5b3a7b367",
   "metadata": {},
   "outputs": [
    {
     "data": {
      "text/plain": [
       "{ { 1, 2, 3, 4 }, { 5, 6, 7, 8 } }"
      ]
     },
     "execution_count": 29,
     "metadata": {},
     "output_type": "execute_result"
    }
   ],
   "source": [
    "int data[2][4] = {\n",
    "    {1, 2, 3, 4},\n",
    "    {5, 6, 7, 8},\n",
    "};\n",
    "data"
   ]
  },
  {
   "cell_type": "markdown",
   "id": "3fbc73f1-18fc-408b-a49b-7ddf4aacc6a7",
   "metadata": {},
   "source": [
    "### 8.2.2 二維陣列元素的引用及存取"
   ]
  },
  {
   "cell_type": "code",
   "execution_count": 31,
   "id": "5769fe66-f8d2-4a47-bfcd-ffad36f6b95a",
   "metadata": {},
   "outputs": [
    {
     "name": "stdout",
     "output_type": "stream",
     "text": [
      "1 2 3 4 \n",
      "5 6 7 8 \n"
     ]
    }
   ],
   "source": [
    "for (int i = 0; i < 2; i++)\n",
    "{\n",
    "    for (int j = 0; j < 4; j++) cout << data[i][j] << \" \";\n",
    "    cout << endl;\n",
    "}"
   ]
  },
  {
   "cell_type": "code",
   "execution_count": 43,
   "id": "517804af-5c96-439f-ae78-01484c44f0d5",
   "metadata": {},
   "outputs": [
    {
     "name": "stdin",
     "output_type": "stream",
     "text": [
      " 1 2 3 4 5 6 7 8\n",
      " 9 10 11 12\n"
     ]
    },
    {
     "data": {
      "text/plain": [
       "{ { 1, 2, 3, 4 }, { 5, 6, 7, 8 }, { 9, 10, 11, 12 } }"
      ]
     },
     "execution_count": 43,
     "metadata": {},
     "output_type": "execute_result"
    }
   ],
   "source": [
    "int data[3][4];\n",
    "for (int i = 0; i < 3; i++)\n",
    "{\n",
    "    for (int j = 0; j < 4; j++)\n",
    "    {\n",
    "        cin >> data[i][j];\n",
    "    }\n",
    "}\n",
    "data"
   ]
  },
  {
   "cell_type": "markdown",
   "id": "fd8e560a-c27a-45b7-8812-172f9e1e1a9c",
   "metadata": {},
   "source": [
    "### 8.2.3 多維陣列"
   ]
  },
  {
   "cell_type": "code",
   "execution_count": 41,
   "id": "03a54900-fcab-4eb9-ba8a-ec6b6e07ea6f",
   "metadata": {},
   "outputs": [
    {
     "data": {
      "text/plain": [
       "{ { { 1, 2, 3 }, { 4, 5, 6 }, { 7, 8, 9 }, { 10, 11, 12 } }, { { 1, 2, 3 }, { 4, 5, 6 }, { 7, 8, 9 }, { 10, 11, 12 } } }"
      ]
     },
     "execution_count": 41,
     "metadata": {},
     "output_type": "execute_result"
    }
   ],
   "source": [
    "int A[2][4][3] = {\n",
    "    {\n",
    "        {1, 2, 3},\n",
    "        {4, 5, 6},\n",
    "        {7, 8, 9},\n",
    "        {10, 11, 12},\n",
    "    },\n",
    "    {\n",
    "        {1, 2, 3},\n",
    "        {4, 5, 6},\n",
    "        {7, 8, 9},\n",
    "        {10, 11, 12},\n",
    "    }\n",
    "};\n",
    "A"
   ]
  },
  {
   "cell_type": "markdown",
   "id": "468c0206-2adc-48e5-bbd9-e872bca6515f",
   "metadata": {},
   "source": [
    "### 8.4.2 字串的輸出與輸入"
   ]
  },
  {
   "cell_type": "code",
   "execution_count": 1,
   "id": "aa40e80d-172e-4245-835f-2d3557b8985e",
   "metadata": {},
   "outputs": [],
   "source": [
    "#include <iostream>\n",
    "#include <cstdlib>\n",
    "using namespace std;"
   ]
  },
  {
   "cell_type": "code",
   "execution_count": 2,
   "id": "b065bdf2-e408-4853-895d-34f04e3040d0",
   "metadata": {},
   "outputs": [
    {
     "name": "stdout",
     "output_type": "stream",
     "text": [
      "How old are you? "
     ]
    },
    {
     "name": "stdin",
     "output_type": "stream",
     "text": [
      " 18\n"
     ]
    },
    {
     "name": "stdout",
     "output_type": "stream",
     "text": [
      "What's your name?  is 18-years-old!\n"
     ]
    }
   ],
   "source": [
    "int age;\n",
    "char name[20];\n",
    "cout << \"How old are you? \";\n",
    "cin >> age;\n",
    "cout << \"What's your name? \";\n",
    "cin.getline(name, 20);\n",
    "cout << name << \" is \" << age << \"-years-old!\" << endl;"
   ]
  },
  {
   "cell_type": "code",
   "execution_count": 3,
   "id": "56ffda33-e2a5-417d-90e1-be557aa639d4",
   "metadata": {},
   "outputs": [
    {
     "name": "stdout",
     "output_type": "stream",
     "text": [
      "How old are you? "
     ]
    },
    {
     "name": "stdin",
     "output_type": "stream",
     "text": [
      " 18\n"
     ]
    },
    {
     "name": "stdout",
     "output_type": "stream",
     "text": [
      "What's your name? "
     ]
    },
    {
     "name": "stdin",
     "output_type": "stream",
     "text": [
      " kuaz\n"
     ]
    },
    {
     "name": "stdout",
     "output_type": "stream",
     "text": [
      "kuaz is 18-years-old!\n"
     ]
    }
   ],
   "source": [
    "int age;\n",
    "char name[20];\n",
    "cout << \"How old are you? \";\n",
    "cin >> age;\n",
    "cin.get();\n",
    "cout << \"What's your name? \";\n",
    "cin.getline(name, 20);\n",
    "cout << name << \" is \" << age << \"-years-old!\" << endl;"
   ]
  },
  {
   "cell_type": "code",
   "execution_count": null,
   "id": "34aca634-d074-4e0b-a1d1-509930e00632",
   "metadata": {},
   "outputs": [],
   "source": []
  }
 ],
 "metadata": {
  "kernelspec": {
   "display_name": "C++11",
   "language": "C++11",
   "name": "xcpp11"
  },
  "language_info": {
   "codemirror_mode": "text/x-c++src",
   "file_extension": ".cpp",
   "mimetype": "text/x-c++src",
   "name": "c++",
   "version": "11"
  }
 },
 "nbformat": 4,
 "nbformat_minor": 5
}
