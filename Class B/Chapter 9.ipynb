{
 "cells": [
  {
   "cell_type": "code",
   "execution_count": 4,
   "id": "8c509a21-86ed-42b6-8ef9-e7d90c57ea07",
   "metadata": {},
   "outputs": [],
   "source": [
    "#include <iostream>\n",
    "using namespace std;"
   ]
  },
  {
   "cell_type": "code",
   "execution_count": 5,
   "id": "e9eaec04-1066-4164-b4d4-f0d9b4d4f77c",
   "metadata": {},
   "outputs": [],
   "source": [
    "void address (int *ptr)\n",
    "{\n",
    "    cout << ptr << endl << *ptr << endl;\n",
    "}"
   ]
  },
  {
   "cell_type": "code",
   "execution_count": 6,
   "id": "e78f49b5-a1f5-4c9b-b18f-f16493559b37",
   "metadata": {},
   "outputs": [],
   "source": [
    "int a = 12, b;\n",
    "int *ptr = &a;"
   ]
  },
  {
   "cell_type": "code",
   "execution_count": 7,
   "id": "0ec82bf8-5a48-4410-b175-c5764528199d",
   "metadata": {},
   "outputs": [
    {
     "name": "stdout",
     "output_type": "stream",
     "text": [
      "0x7f0f26112030\n",
      "0x7f0f26112038"
     ]
    }
   ],
   "source": [
    "cout << ptr << endl << &ptr;"
   ]
  },
  {
   "cell_type": "code",
   "execution_count": 8,
   "id": "1cb3af62-6220-462a-b757-1fbabc7303c1",
   "metadata": {},
   "outputs": [
    {
     "name": "stdout",
     "output_type": "stream",
     "text": [
      "0x7f0f26112030"
     ]
    }
   ],
   "source": [
    "cout << &a;"
   ]
  },
  {
   "cell_type": "code",
   "execution_count": 9,
   "id": "1196b6bb-e43d-46ff-87b4-7374b62f23f7",
   "metadata": {},
   "outputs": [
    {
     "name": "stdout",
     "output_type": "stream",
     "text": [
      "0x7f0f26112040\n",
      "0\n"
     ]
    }
   ],
   "source": [
    "address(&b);"
   ]
  },
  {
   "cell_type": "code",
   "execution_count": 10,
   "id": "f4ee8edb-cf01-4d4c-8187-e5d7ea1a55c2",
   "metadata": {},
   "outputs": [],
   "source": [
    "void add10(int *ptr)\n",
    "{\n",
    "    *ptr += 10;\n",
    "}"
   ]
  },
  {
   "cell_type": "code",
   "execution_count": 11,
   "id": "8762cda2-77bc-43ca-b089-efc22dfc32ef",
   "metadata": {},
   "outputs": [
    {
     "name": "stdout",
     "output_type": "stream",
     "text": [
      "15"
     ]
    }
   ],
   "source": [
    "int a = 5;\n",
    "add10(&a);\n",
    "cout << a;"
   ]
  },
  {
   "cell_type": "markdown",
   "id": "cfe03627-02fd-44f8-b5e7-95124b806673",
   "metadata": {},
   "source": [
    "### call by value"
   ]
  },
  {
   "cell_type": "code",
   "execution_count": 12,
   "id": "5c6aa18b-3c34-4991-9542-bb6f7dd94120",
   "metadata": {},
   "outputs": [],
   "source": [
    "int a = 5, b = 20;"
   ]
  },
  {
   "cell_type": "code",
   "execution_count": 13,
   "id": "3077b057-b6c6-466d-a22a-a8735e3e3f3c",
   "metadata": {},
   "outputs": [],
   "source": [
    "void swap(int a, int b)\n",
    "{\n",
    "    int t = a;\n",
    "    a = b;\n",
    "    b = t;\n",
    "}"
   ]
  },
  {
   "cell_type": "code",
   "execution_count": 14,
   "id": "c325b264-8c79-4416-9a0d-c485600a3153",
   "metadata": {},
   "outputs": [],
   "source": [
    "swap(a, b);"
   ]
  },
  {
   "cell_type": "code",
   "execution_count": 15,
   "id": "acaeb680-ffb2-40d9-b13e-efe73393c7c4",
   "metadata": {},
   "outputs": [
    {
     "name": "stdout",
     "output_type": "stream",
     "text": [
      "a = 5\n",
      " b = 20"
     ]
    }
   ],
   "source": [
    "printf(\"a = %d\\n b = %d\", a, b);"
   ]
  },
  {
   "cell_type": "markdown",
   "id": "9f06d3d9-6682-4bd7-aecb-1ad59d27b9c0",
   "metadata": {},
   "source": [
    "### call by reference"
   ]
  },
  {
   "cell_type": "code",
   "execution_count": 38,
   "id": "cc121897-ac56-4486-8956-f020ce75bb18",
   "metadata": {},
   "outputs": [],
   "source": [
    "int a = 5, b = 20;"
   ]
  },
  {
   "cell_type": "code",
   "execution_count": 39,
   "id": "b702c273-b4d1-4c11-8840-9200a2758277",
   "metadata": {},
   "outputs": [],
   "source": [
    "void swappp(int &a, int &b)\n",
    "{\n",
    "    int t = a;\n",
    "    a = b;\n",
    "    b = t;\n",
    "}"
   ]
  },
  {
   "cell_type": "code",
   "execution_count": 40,
   "id": "a3483d5b-30d7-4e84-b6d8-2604ee9987cc",
   "metadata": {},
   "outputs": [],
   "source": [
    "swappp(a, b)"
   ]
  },
  {
   "cell_type": "code",
   "execution_count": 41,
   "id": "a3b4f0d0-c0fc-4779-a8fc-5cc8f84f7a4b",
   "metadata": {},
   "outputs": [
    {
     "name": "stdout",
     "output_type": "stream",
     "text": [
      "a = 20\n",
      " b = 5"
     ]
    }
   ],
   "source": [
    "printf(\"a = %d\\n b = %d\", a, b);"
   ]
  },
  {
   "cell_type": "markdown",
   "id": "112f6e78-7004-4094-bfa1-13661391ef08",
   "metadata": {
    "tags": []
   },
   "source": [
    "### call by pointer"
   ]
  },
  {
   "cell_type": "code",
   "execution_count": 16,
   "id": "428f1b8e-d08c-4a5a-9276-b712a9b00b91",
   "metadata": {},
   "outputs": [],
   "source": [
    "int a = 5, b = 20;"
   ]
  },
  {
   "cell_type": "code",
   "execution_count": 17,
   "id": "3e24e2df-b2cc-4e02-ad3d-01ff33355faa",
   "metadata": {},
   "outputs": [],
   "source": [
    "void swapp(int *a, int *b)\n",
    "{\n",
    "    int t = *a;\n",
    "    *a = *b;\n",
    "    *b = t;\n",
    "}"
   ]
  },
  {
   "cell_type": "code",
   "execution_count": 18,
   "id": "d23ce408-7fa2-4d13-b264-eba242cfff32",
   "metadata": {},
   "outputs": [],
   "source": [
    "swapp(&a, &b)"
   ]
  }
 ],
 "metadata": {
  "kernelspec": {
   "display_name": "C++11",
   "language": "C++11",
   "name": "xcpp11"
  },
  "language_info": {
   "codemirror_mode": "text/x-c++src",
   "file_extension": ".cpp",
   "mimetype": "text/x-c++src",
   "name": "c++",
   "version": "11"
  }
 },
 "nbformat": 4,
 "nbformat_minor": 5
}
