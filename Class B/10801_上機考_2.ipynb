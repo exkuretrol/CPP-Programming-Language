{
 "cells": [
  {
   "cell_type": "markdown",
   "id": "ddee1180-483f-48ef-becf-8ab18a4d3f24",
   "metadata": {},
   "source": [
    "一、請舉例說明生命期（extent）的意義與類型。\n",
    "\n",
    "二、請舉例說明參照（reference）的意義與目的。\n",
    "\n",
    "三、程式設計："
   ]
  },
  {
   "cell_type": "code",
   "execution_count": 2,
   "id": "a172a8c4-c12d-4e96-8b16-f73f9bbe9c48",
   "metadata": {},
   "outputs": [],
   "source": [
    "#include <iostream>\n",
    "#include <string>\n",
    "using namespace std;"
   ]
  },
  {
   "cell_type": "markdown",
   "id": "57352d06-ef3c-438c-b1da-7419ae316153",
   "metadata": {},
   "source": [
    "$1.\\ $輸入數列後，輸出相對應的圖形。"
   ]
  },
  {
   "cell_type": "markdown",
   "id": "9e38057f-7c57-43a0-a624-8603eb11ac5d",
   "metadata": {},
   "source": [
    "$2.\\ $輸入正整數 n，輸出 n 個 Fibonacci Numbers（1, 1, 2, 3, 5, 8, 13, 21, 34, ...）。"
   ]
  },
  {
   "cell_type": "code",
   "execution_count": 2,
   "id": "fdd929c0-a561-4aa5-880c-a03a389f1feb",
   "metadata": {},
   "outputs": [],
   "source": [
    "int f(int n)\n",
    "{\n",
    "    if (n == 0) return 0;\n",
    "    if (n == 1) return 1;\n",
    "    return f(n - 1) + f(n - 2);\n",
    "}"
   ]
  },
  {
   "cell_type": "code",
   "execution_count": 3,
   "id": "64b89a64-a2be-4c3a-b233-e270d5fd1d75",
   "metadata": {},
   "outputs": [
    {
     "name": "stdin",
     "output_type": "stream",
     "text": [
      " 5\n"
     ]
    },
    {
     "name": "stdout",
     "output_type": "stream",
     "text": [
      "1, 1, 2, 3, 5"
     ]
    }
   ],
   "source": [
    "int n;\n",
    "cin >> n;\n",
    "for (int i = 1; i <= n; i++)\n",
    "{\n",
    "    cout << f(i);\n",
    "    if (i < n) cout << \", \";\n",
    "}"
   ]
  },
  {
   "cell_type": "markdown",
   "id": "304bc5ee-7d4c-4a84-b322-6f5e1b58fc85",
   "metadata": {},
   "source": [
    "$3.\\ $輸入一個正整數，若非正整數，須繼續輸入。輸出小於該數的所有質數。"
   ]
  },
  {
   "cell_type": "code",
   "execution_count": 9,
   "id": "26dbd407-8863-4e3b-8165-4997254d5a3d",
   "metadata": {},
   "outputs": [],
   "source": [
    "bool primeOrNot(int n)\n",
    "{\n",
    "    if (n == 1) return false;\n",
    "    for (int i = 2; i < n; i++)\n",
    "    {\n",
    "        if (n % i == 0) return false;\n",
    "    }\n",
    "    return true;\n",
    "}\n"
   ]
  },
  {
   "cell_type": "code",
   "execution_count": 11,
   "id": "552f6819-8656-46a0-9549-db3bad2367e4",
   "metadata": {},
   "outputs": [
    {
     "name": "stdin",
     "output_type": "stream",
     "text": [
      " 5\n"
     ]
    },
    {
     "name": "stdout",
     "output_type": "stream",
     "text": [
      "2 3 "
     ]
    },
    {
     "name": "stdin",
     "output_type": "stream",
     "text": [
      " -1\n"
     ]
    }
   ],
   "source": [
    "int n;\n",
    "while (cin >> n, n > 0)\n",
    "{\n",
    "    for (int i = 2; i < n; i++)\n",
    "    {\n",
    "        if (primeOrNot(i)) cout << i << \" \";\n",
    "    }\n",
    "}"
   ]
  },
  {
   "cell_type": "markdown",
   "id": "c3d4f886-872e-40b0-b94e-2600c95b634b",
   "metadata": {},
   "source": [
    "$4.\\ $請輸入一個字串（最多 10 個符號），將字串中字母符號的大小寫互換，非字母者保持不變後輸出。"
   ]
  },
  {
   "cell_type": "code",
   "execution_count": 25,
   "id": "d910ba92-6d85-4e0f-b3de-677a475f1504",
   "metadata": {},
   "outputs": [],
   "source": [
    "char swap(char c)\n",
    "{\n",
    "    if (c >= 65 && c <=90) c += 32;\n",
    "    else if (c >= 97 && c <= 122) c -= 32;\n",
    "    return c;\n",
    "}"
   ]
  },
  {
   "cell_type": "code",
   "execution_count": 28,
   "id": "84a11501-ba7b-4f7b-8c91-cccc3bbeaef2",
   "metadata": {},
   "outputs": [
    {
     "name": "stdout",
     "output_type": "stream",
     "text": [
      "1O2344aASz"
     ]
    }
   ],
   "source": [
    "string s = \"1o2344AasZ\";\n",
    "for (char &c : s) c = swap(c);\n",
    "cout << s;"
   ]
  },
  {
   "cell_type": "markdown",
   "id": "aa924212-cc61-4783-b862-96ba7d996724",
   "metadata": {},
   "source": [
    "$5.\\ $以字串輸入一些符號（a ~ z，長度小於 20），輸出各種符號出現的次數。"
   ]
  },
  {
   "cell_type": "code",
   "execution_count": 45,
   "id": "abd9833b-6136-404a-9f5e-0875a8549750",
   "metadata": {},
   "outputs": [
    {
     "name": "stdout",
     "output_type": "stream",
     "text": [
      "a: 5\tb: 0\tc: 0\td: 0\te: 0\tf: 0\tg: 0\t\n",
      "h: 0\ti: 0\tj: 0\tk: 0\tl: 0\tm: 0\tn: 0\t\n",
      "o: 0\tp: 0\tq: 0\tr: 0\ts: 0\tt: 0\tu: 0\t\n",
      "v: 0\tw: 0\tx: 0\ty: 0\tz: 0\t"
     ]
    }
   ],
   "source": [
    "string s = \"aaaaa\";\n",
    "int l[26];\n",
    "for (auto &c : s) if (c >= 97 && c <= 122) l[c - 'a'] += 1;\n",
    "for (int i = 0; i < 26; i++)\n",
    "{\n",
    "    cout << (char) (i + 'a') << \": \" << l[i] << \"\\t\";\n",
    "    if (i % 7 == 6) cout << endl;\n",
    "}"
   ]
  },
  {
   "cell_type": "markdown",
   "id": "bf7b7a07-6505-4a8c-b8b4-9007169cc182",
   "metadata": {},
   "source": [
    "$6.\\ $輸入兩個正整數，判斷兩數相加過程中會發生幾次進位？"
   ]
  },
  {
   "cell_type": "code",
   "execution_count": 1,
   "id": "4642c21f-7a72-4fbf-be8c-a76959d5577e",
   "metadata": {},
   "outputs": [],
   "source": [
    "#include <iostream>\n",
    "#include <string>\n",
    "using namespace std;"
   ]
  },
  {
   "cell_type": "code",
   "execution_count": 6,
   "id": "d67575a2-13dc-4f90-8935-7c588d78c92b",
   "metadata": {},
   "outputs": [
    {
     "name": "stdin",
     "output_type": "stream",
     "text": [
      " 99999999 1\n"
     ]
    },
    {
     "name": "stdout",
     "output_type": "stream",
     "text": [
      "8"
     ]
    },
    {
     "name": "stdin",
     "output_type": "stream",
     "text": [
      " 01\n",
      " 123\n"
     ]
    },
    {
     "name": "stdout",
     "output_type": "stream",
     "text": [
      "0"
     ]
    },
    {
     "name": "stdin",
     "output_type": "stream",
     "text": [
      " -1\n",
      " -1\n"
     ]
    }
   ],
   "source": [
    "int a, b;\n",
    "while(cin >> a >> b, a > 0 && b > 0)\n",
    "{\n",
    "    int c = 0;\n",
    "    bool carry = false;\n",
    "    while (a > 0 || b > 0)\n",
    "    {\n",
    "        if ((a % 10 + b % 10 + carry) > 9) \n",
    "        {\n",
    "            carry = true;\n",
    "            c++;\n",
    "        }\n",
    "        else carry = false;\n",
    "        a /= 10;\n",
    "        b /= 10;\n",
    "    }\n",
    "    cout << c;\n",
    "}"
   ]
  },
  {
   "cell_type": "markdown",
   "id": "395980ad-8eea-4425-b58a-3a4a58922da6",
   "metadata": {},
   "source": [
    "$7.\\ $輸入正整數 n，模擬 n 次擲骰子的結果，輸出各個點數出現的次數與機率。"
   ]
  },
  {
   "cell_type": "code",
   "execution_count": 48,
   "id": "d0244086-f880-4835-ad83-453c39c2c3f6",
   "metadata": {},
   "outputs": [],
   "source": [
    "#include <cstdlib>\n",
    "#define DICE 6"
   ]
  },
  {
   "cell_type": "code",
   "execution_count": 53,
   "id": "bccd68fd-2439-4b41-8031-6c430ee03d73",
   "metadata": {},
   "outputs": [
    {
     "name": "stdin",
     "output_type": "stream",
     "text": [
      " 5\n"
     ]
    },
    {
     "name": "stdout",
     "output_type": "stream",
     "text": [
      "1: 1times prob: 0.2\n",
      "2: 1times prob: 0.2\n",
      "3: 0times prob: 0\n",
      "4: 0times prob: 0\n",
      "5: 1times prob: 0.2\n",
      "6: 2times prob: 0.4\n"
     ]
    },
    {
     "name": "stdin",
     "output_type": "stream",
     "text": [
      " -1\n"
     ]
    }
   ],
   "source": [
    "int n;\n",
    "while(cin >> n, n > 0)\n",
    "{\n",
    "    int l[DICE] = {0, 0, 0, 0, 0, 0};\n",
    "    for (int i = 0; i < n; i++)\n",
    "    {\n",
    "        l[rand() % DICE] += 1;\n",
    "    }\n",
    "    for (int j = 0; j < DICE; j++)\n",
    "    {\n",
    "        cout << j + 1 << \": \" << l[j] << \"times \"\n",
    "             << \"prob: \" << (double) l[j] / n << endl;\n",
    "    }\n",
    "}"
   ]
  },
  {
   "cell_type": "markdown",
   "id": "0d3f3f6d-f27e-47d5-8005-e91a2dc13833",
   "metadata": {},
   "source": [
    "$8.\\ $假設西元 2020 年 1 月 1 日為星期三。輸入 2020 年某月，輸出該月份的日曆。"
   ]
  },
  {
   "cell_type": "markdown",
   "id": "02649c1c-6ee3-4304-8184-03a0066ec8bb",
   "metadata": {},
   "source": [
    "$9.\\ $假設西元 2020 年 1 月 1 日為星期三。輸入某年某月，輸出該月份日曆。"
   ]
  },
  {
   "cell_type": "markdown",
   "id": "c899101e-b3e5-4ddb-8463-07db909959cb",
   "metadata": {},
   "source": [
    "$10.\\ $輸入一個十進位正整數，輸出相對應之 4 進位數字。"
   ]
  },
  {
   "cell_type": "code",
   "execution_count": 2,
   "id": "4012a35b-9c0f-4baf-b0c9-1fb8f7abea8e",
   "metadata": {},
   "outputs": [],
   "source": [
    "#include <vector>\n",
    "#define BASE 4"
   ]
  },
  {
   "cell_type": "code",
   "execution_count": 3,
   "id": "68197d56-b27c-4155-bcc3-09df12990795",
   "metadata": {},
   "outputs": [
    {
     "name": "stdin",
     "output_type": "stream",
     "text": [
      " 123\n"
     ]
    },
    {
     "name": "stdout",
     "output_type": "stream",
     "text": [
      "1323"
     ]
    },
    {
     "name": "stdin",
     "output_type": "stream",
     "text": [
      " -1\n"
     ]
    }
   ],
   "source": [
    "int n;\n",
    "vector<int> nums;\n",
    "while (cin >> n, n > 0)\n",
    "{\n",
    "    while (n > 0)\n",
    "    {   \n",
    "        nums.insert(nums.begin(), n % BASE); \n",
    "        n /= BASE;\n",
    "    }\n",
    "    for (const int num : nums) cout << num;\n",
    "}"
   ]
  },
  {
   "cell_type": "markdown",
   "id": "ed1dae66-aa39-48a9-a368-0866ec28c631",
   "metadata": {},
   "source": [
    "$11.\\ $先撰寫計算階乘的遞迴函數，並於主程式輸入一個正整數，呼叫該遞迴函數後輸出該數的階乘。"
   ]
  },
  {
   "cell_type": "code",
   "execution_count": 1,
   "id": "46565d45-cdb5-4c04-a5c1-f40d0999b9c3",
   "metadata": {},
   "outputs": [],
   "source": [
    "int fact(int n)\n",
    "{\n",
    "    if (n == 1) return n;\n",
    "    return n * fact(n - 1);\n",
    "}"
   ]
  },
  {
   "cell_type": "code",
   "execution_count": 4,
   "id": "05d0ab3f-e178-4954-89bc-cb571a95d107",
   "metadata": {},
   "outputs": [
    {
     "name": "stdin",
     "output_type": "stream",
     "text": [
      " 5\n"
     ]
    },
    {
     "name": "stdout",
     "output_type": "stream",
     "text": [
      "5! = 120"
     ]
    },
    {
     "name": "stdin",
     "output_type": "stream",
     "text": [
      " -1\n"
     ]
    }
   ],
   "source": [
    "int n;\n",
    "while(cin >> n, n > 0) cout << n << \"! = \" << fact(n); "
   ]
  },
  {
   "cell_type": "markdown",
   "id": "9917122c-ebf5-444a-beb3-8f0ef849f46b",
   "metadata": {},
   "source": [
    "$12.\\ $應用隨機亂數模擬橋牌的發牌結果，輸出四位玩家個得到的 13 張牌，含花色（Spade, Heart, Diamond, Clud）及點數(J: 1, Q: 2, K: 3, A: 4）。"
   ]
  },
  {
   "cell_type": "code",
   "execution_count": 4,
   "id": "0bff5723-2a5e-41d4-807d-d897d466be6c",
   "metadata": {},
   "outputs": [
    {
     "name": "stdout",
     "output_type": "stream",
     "text": [
      "玩家 1: Diamond A Clud 6 Clud 4 Clud A Diamond J Heart K Diamond 6 Clud 10 Heart A Clud 2 Spade 4 Heart 4 Clud 8 \n",
      "玩家 2: Heart 2 Heart 3 Heart 10 Clud 3 Heart 8 Diamond 2 Clud Q Spade A Spade 2 Heart 6 Diamond 10 Clud J Diamond 5 \n",
      "玩家 3: Heart 5 Spade Q Clud 7 Diamond 3 Clud 9 Spade 10 Spade J Spade 9 Diamond 9 Diamond 4 Spade K Spade 8 Diamond 8 \n",
      "玩家 4: Diamond 7 Spade 6 Diamond K Heart J Heart 9 Heart Q Diamond Q Spade 3 Spade 5 Clud 5 Spade 7 Clud K  \n"
     ]
    }
   ],
   "source": [
    "string cate[] = {\"Spade\", \"Heart\", \"Diamond\", \"Clud\"};\n",
    "string points[] = {\"A\", \"2\", \"3\", \"4\", \"5\", \"6\", \"7\", \"8\", \"9\", \"10\", \"J\", \"Q\", \"K\"};\n",
    "string deck[52];\n",
    "int c;\n",
    "for (int i = 0; i < 4; i++) for (int j = 0; j < 13; j++)\n",
    "{\n",
    "    deck[c] = cate[i] + \" \" + points[j];\n",
    "    c++;\n",
    "}\n",
    "random_shuffle(&deck[0], &deck[51]);\n",
    "for (int j = 0; j < 4; j++)\n",
    "{\n",
    "    cout << \"玩家 \" << j + 1 << \": \";\n",
    "    for (int k = 1; k <= 13; k++)\n",
    "    {\n",
    "        cout << deck[j * 13 + k] << \" \";\n",
    "    }\n",
    "    cout << endl;\n",
    "}"
   ]
  },
  {
   "cell_type": "markdown",
   "id": "296dc94f-2416-4619-be75-137c798a5638",
   "metadata": {},
   "source": [
    "$13.\\ $程式隨機產生一個介於 1 ~ 100 之間的整數（請輸出此值，以利檢查），請使用者猜猜看。若猜錯，請提示太大或太小，直到猜對或猜錯次數超過 5 次為止。"
   ]
  },
  {
   "cell_type": "code",
   "execution_count": 6,
   "id": "774e6787-b0a8-4c97-b806-8b55517dee2c",
   "metadata": {},
   "outputs": [],
   "source": [
    "#include <cstdlib>"
   ]
  },
  {
   "cell_type": "code",
   "execution_count": 7,
   "id": "da754b1e-3903-4353-92c4-9995f9098708",
   "metadata": {},
   "outputs": [
    {
     "name": "stdout",
     "output_type": "stream",
     "text": [
      "83"
     ]
    },
    {
     "name": "stdin",
     "output_type": "stream",
     "text": [
      " 12\n"
     ]
    },
    {
     "name": "stdout",
     "output_type": "stream",
     "text": [
      "太小\n"
     ]
    },
    {
     "name": "stdin",
     "output_type": "stream",
     "text": [
      " 99\n"
     ]
    },
    {
     "name": "stdout",
     "output_type": "stream",
     "text": [
      "太大\n"
     ]
    },
    {
     "name": "stdin",
     "output_type": "stream",
     "text": [
      " 84\n"
     ]
    },
    {
     "name": "stdout",
     "output_type": "stream",
     "text": [
      "太大\n"
     ]
    },
    {
     "name": "stdin",
     "output_type": "stream",
     "text": [
      " 99\n"
     ]
    },
    {
     "name": "stdout",
     "output_type": "stream",
     "text": [
      "太大\n"
     ]
    },
    {
     "name": "stdin",
     "output_type": "stream",
     "text": [
      " 99\n"
     ]
    },
    {
     "name": "stdout",
     "output_type": "stream",
     "text": [
      "太大\n",
      "超過五次"
     ]
    }
   ],
   "source": [
    "int target = (rand() % 100) + 1;\n",
    "cout << target;\n",
    "for (int i = 0; i < 5; i++)\n",
    "{\n",
    "    int n;\n",
    "    cin >> n;\n",
    "    if (n == target)\n",
    "    {\n",
    "        cout << \"猜對\" << endl;\n",
    "        break;\n",
    "    }\n",
    "    (n > target) ? cout << \"太大\" : cout << \"太小\";\n",
    "    cout << endl;\n",
    "    if (i == 4) cout << \"超過五次\";\n",
    "}"
   ]
  }
 ],
 "metadata": {
  "kernelspec": {
   "display_name": "C++11",
   "language": "C++11",
   "name": "xcpp11"
  },
  "language_info": {
   "codemirror_mode": "text/x-c++src",
   "file_extension": ".cpp",
   "mimetype": "text/x-c++src",
   "name": "c++",
   "version": "11"
  },
  "toc-autonumbering": false,
  "toc-showcode": false,
  "toc-showmarkdowntxt": true
 },
 "nbformat": 4,
 "nbformat_minor": 5
}
